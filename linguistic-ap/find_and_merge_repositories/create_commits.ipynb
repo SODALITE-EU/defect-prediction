{
 "cells": [
  {
   "cell_type": "code",
   "execution_count": 28,
   "metadata": {},
   "outputs": [],
   "source": [
    "import pandas as pd\n",
    "import pickle\n",
    "from commits_table import create_commits_table"
   ]
  },
  {
   "cell_type": "markdown",
   "metadata": {},
   "source": [
    "<h2>Merging the two repoitory lists<h2>"
   ]
  },
  {
   "cell_type": "code",
   "execution_count": 29,
   "metadata": {},
   "outputs": [
    {
     "data": {
      "text/plain": [
       "['openstack/openstack-ansible-ops',\n",
       " 'ernstp/ansible',\n",
       " 'usegalaxy-eu/infrastructure-playbook',\n",
       " 'vikramjanarthanan/ansible-hortonworks',\n",
       " 'DataDog/ansible-datadog',\n",
       " 'Jason-Jongjin-Lim/ocp_hosts_references',\n",
       " 'gitclonparis/ansi',\n",
       " 'ansible/ansible-examples',\n",
       " 'rcbops/openstack-ops',\n",
       " 'ansible-collection-migration/ansible-base',\n",
       " 'netbootxyz/netboot.xyz',\n",
       " 'bwatsonsf/solr',\n",
       " 'hashnfv/hashnfv-qtip',\n",
       " 'wazuh/wazuh-ansible',\n",
       " 'arun2908/prathyu',\n",
       " 'willpllc/infra-homework',\n",
       " 'opnfv/qtip',\n",
       " 'openstack/tripleo-quickstart',\n",
       " 'openstack/openstack-ansible-rabbitmq_server',\n",
       " 'devopspoc-ram/sensu',\n",
       " 'dj-wasabi/ansible-telegraf',\n",
       " 'OpenSwitchNOS/openswitch-infra-project-config',\n",
       " 'GoogleCloudPlatform/magic-modules',\n",
       " 'openstack/openstack-helm-infra',\n",
       " 'iotivity/ci-management',\n",
       " 'rdo-infra/rdo-jobs',\n",
       " 'f5devcentral/f5-agility-labs-containers',\n",
       " 'ndlib/marble-blueprints',\n",
       " 'splunk/splunk-ansible',\n",
       " 'openstack/tripleo-validations',\n",
       " 'openstack/openstack-ansible',\n",
       " 'hortonworks/ansible-hortonworks',\n",
       " 'plone/ansible-playbook',\n",
       " 'ceph/ceph-ansible',\n",
       " 'centos-opstools/opstools-ansible',\n",
       " 'redhat-cip/dci-infra',\n",
       " 'Bahmni/bahmni-playbooks',\n",
       " 'OpenSRP/playbooks']"
      ]
     },
     "execution_count": 29,
     "metadata": {},
     "output_type": "execute_result"
    }
   ],
   "source": [
    "with open('final_merged_repos.pkl', 'rb') as input_file:\n",
    "    repos_boro = pickle.load(input_file)\n",
    "repos_boro"
   ]
  },
  {
   "cell_type": "code",
   "execution_count": 30,
   "metadata": {},
   "outputs": [],
   "source": [
    "repos_paulo = ['Mirantis/ceph-cm-ansible',\n",
    " 'openstack/openstack-ansible',\n",
    " 'openstack/kolla-ansible',\n",
    " 'openstack/tripleo-quickstart',\n",
    " 'openstack/tripleo-quickstart-extras',\n",
    " 'openstack/openstack-ansible-os_neutron',\n",
    " 'openstack/openstack-ansible-os_nova',\n",
    " 'openstack/openstack-zuul-jobs',\n",
    " 'openstack/ansible-role-collect-logs',\n",
    " 'openstack/openstack-ansible-os_mistral']"
   ]
  },
  {
   "cell_type": "code",
   "execution_count": 31,
   "metadata": {},
   "outputs": [
    {
     "name": "stdout",
     "output_type": "stream",
     "text": [
      "48 46\n"
     ]
    }
   ],
   "source": [
    "merged = repos_boro+repos_paulo\n",
    "print(len(merged),len(set(merged)))"
   ]
  },
  {
   "cell_type": "code",
   "execution_count": 32,
   "metadata": {},
   "outputs": [],
   "source": [
    "merged_unique_repos = set(merged).copy()"
   ]
  },
  {
   "cell_type": "code",
   "execution_count": 45,
   "metadata": {},
   "outputs": [],
   "source": [
    "#remove cloned repositories\n",
    "remove_list = ['arun2908/prathyu','ernstp/ansible','gitclonparis/ansi','vikramjanarthanan/ansible-hortonworks','opnfv/qtip','ansible-collection-migration/ansible-base']"
   ]
  },
  {
   "cell_type": "code",
   "execution_count": 46,
   "metadata": {},
   "outputs": [
    {
     "name": "stdout",
     "output_type": "stream",
     "text": [
      "46 6\n"
     ]
    }
   ],
   "source": [
    "print(len(merged_unique_repos),len(remove_list))"
   ]
  },
  {
   "cell_type": "code",
   "execution_count": 47,
   "metadata": {},
   "outputs": [
    {
     "name": "stdout",
     "output_type": "stream",
     "text": [
      "40\n"
     ]
    },
    {
     "data": {
      "text/plain": [
       "['hashnfv/hashnfv-qtip',\n",
       " 'DataDog/ansible-datadog',\n",
       " 'willpllc/infra-homework',\n",
       " 'hortonworks/ansible-hortonworks',\n",
       " 'OpenSRP/playbooks',\n",
       " 'openstack/openstack-ansible-os_neutron',\n",
       " 'bwatsonsf/solr',\n",
       " 'wazuh/wazuh-ansible',\n",
       " 'dj-wasabi/ansible-telegraf',\n",
       " 'rdo-infra/rdo-jobs',\n",
       " 'openstack/openstack-ansible-os_nova',\n",
       " 'openstack/openstack-zuul-jobs',\n",
       " 'openstack/openstack-ansible-os_mistral',\n",
       " 'openstack/tripleo-validations',\n",
       " 'OpenSwitchNOS/openswitch-infra-project-config',\n",
       " 'openstack/openstack-ansible-ops',\n",
       " 'openstack/tripleo-quickstart',\n",
       " 'GoogleCloudPlatform/magic-modules',\n",
       " 'openstack/kolla-ansible',\n",
       " 'openstack/openstack-ansible-rabbitmq_server',\n",
       " 'ansible/ansible-examples',\n",
       " 'Bahmni/bahmni-playbooks',\n",
       " 'ndlib/marble-blueprints',\n",
       " 'usegalaxy-eu/infrastructure-playbook',\n",
       " 'Mirantis/ceph-cm-ansible',\n",
       " 'iotivity/ci-management',\n",
       " 'splunk/splunk-ansible',\n",
       " 'redhat-cip/dci-infra',\n",
       " 'Jason-Jongjin-Lim/ocp_hosts_references',\n",
       " 'rcbops/openstack-ops',\n",
       " 'plone/ansible-playbook',\n",
       " 'openstack/openstack-helm-infra',\n",
       " 'devopspoc-ram/sensu',\n",
       " 'ceph/ceph-ansible',\n",
       " 'openstack/tripleo-quickstart-extras',\n",
       " 'netbootxyz/netboot.xyz',\n",
       " 'openstack/openstack-ansible',\n",
       " 'openstack/ansible-role-collect-logs',\n",
       " 'f5devcentral/f5-agility-labs-containers',\n",
       " 'centos-opstools/opstools-ansible']"
      ]
     },
     "execution_count": 47,
     "metadata": {},
     "output_type": "execute_result"
    }
   ],
   "source": [
    "final_list= list(set(merged_unique_repos).difference(set(remove_list)))\n",
    "print(len(final_list))\n",
    "final_list"
   ]
  },
  {
   "cell_type": "code",
   "execution_count": 48,
   "metadata": {},
   "outputs": [],
   "source": [
    "with open('merged_unique_repos_all.pkl', 'wb') as output_file:\n",
    "    pickle.dump(final_list, output_file)"
   ]
  },
  {
   "cell_type": "code",
   "execution_count": 49,
   "metadata": {},
   "outputs": [
    {
     "data": {
      "text/plain": [
       "40"
      ]
     },
     "execution_count": 49,
     "metadata": {},
     "output_type": "execute_result"
    }
   ],
   "source": [
    "with open('merged_unique_repos_all.pkl', 'rb') as input_file:\n",
    "    merged_unique_repos = pickle.load(input_file)   \n",
    "len(merged_unique_repos)"
   ]
  },
  {
   "cell_type": "markdown",
   "metadata": {},
   "source": [
    "<h2>Check the commit messages from the selected repos</h2>"
   ]
  },
  {
   "cell_type": "code",
   "execution_count": 50,
   "metadata": {},
   "outputs": [],
   "source": [
    "commit_message_keywords = set([\n",
    "                               'fix', \n",
    "                               'bug',\n",
    "                               'bugfix'\n",
    "                               'error',\n",
    "                               'refactor', \n",
    "                               'secur', \n",
    "                               'security', \n",
    "                               'maint', \n",
    "                               'maintenance',\n",
    "                               'stab',\n",
    "                               'stability',\n",
    "                               'portab',\n",
    "                               'portability', \n",
    "                               'efficien', \n",
    "                               'efficiency',\n",
    "                               'usab',\n",
    "                               'usability', \n",
    "                               'reliab', \n",
    "                               'reliability',\n",
    "                               'testab', \n",
    "                               'testability',\n",
    "                               'changeab', \n",
    "                               'changeability', \n",
    "                               'replac',\n",
    "                               'replace', \n",
    "                               'memory',\n",
    "                               'resource', \n",
    "                               'runtime',\n",
    "                               'crash',\n",
    "                               'leak', \n",
    "                               'attack',\n",
    "                               'authenticat',\n",
    "                               'authentication',\n",
    "                               'authoriz',\n",
    "                               'authorization',\n",
    "                               'cipher',\n",
    "                               'crack',\n",
    "                               'decrypt', \n",
    "                               'encrypt', \n",
    "                               'vulnerab',\n",
    "                               'vulnerability',\n",
    "                               'minimiz',\n",
    "                               'minimize', \n",
    "                               'optimiz',\n",
    "                               'optimize',\n",
    "                               'slow',\n",
    "                               'fast', \n",
    "                               'perform',\n",
    "                               'performance'\n",
    "                               ])"
   ]
  },
  {
   "cell_type": "code",
   "execution_count": 51,
   "metadata": {},
   "outputs": [
    {
     "name": "stdout",
     "output_type": "stream",
     "text": [
      "hashnfv/hashnfv-qtip\n"
     ]
    },
    {
     "name": "stderr",
     "output_type": "stream",
     "text": [
      "Exception ignored in: <finalize object at 0xe2532ab4c0; dead>\n",
      "Traceback (most recent call last):\n",
      "  File \"C:\\ProgramData\\Anaconda3\\lib\\weakref.py\", line 572, in __call__\n",
      "    return info.func(*info.args, **(info.kwargs or {}))\n",
      "  File \"C:\\ProgramData\\Anaconda3\\lib\\tempfile.py\", line 797, in _cleanup\n",
      "    _shutil.rmtree(name)\n",
      "  File \"C:\\ProgramData\\Anaconda3\\lib\\shutil.py\", line 516, in rmtree\n",
      "    return _rmtree_unsafe(path, onerror)\n",
      "  File \"C:\\ProgramData\\Anaconda3\\lib\\shutil.py\", line 395, in _rmtree_unsafe\n",
      "    _rmtree_unsafe(fullname, onerror)\n",
      "  File \"C:\\ProgramData\\Anaconda3\\lib\\shutil.py\", line 395, in _rmtree_unsafe\n",
      "    _rmtree_unsafe(fullname, onerror)\n",
      "  File \"C:\\ProgramData\\Anaconda3\\lib\\shutil.py\", line 395, in _rmtree_unsafe\n",
      "    _rmtree_unsafe(fullname, onerror)\n",
      "  [Previous line repeated 1 more time]\n",
      "  File \"C:\\ProgramData\\Anaconda3\\lib\\shutil.py\", line 400, in _rmtree_unsafe\n",
      "    onerror(os.unlink, fullname, sys.exc_info())\n",
      "  File \"C:\\ProgramData\\Anaconda3\\lib\\shutil.py\", line 398, in _rmtree_unsafe\n",
      "    os.unlink(fullname)\n",
      "PermissionError: [WinError 5] Access is denied: 'C:\\\\Users\\\\Userpc\\\\AppData\\\\Local\\\\Temp\\\\tmpqn2yw_1p\\\\hashnfv-qtip\\\\.git\\\\objects\\\\pack\\\\pack-935ee0f4d435a84626dec6f77e5ea2b6128f341b.idx'\n"
     ]
    },
    {
     "name": "stdout",
     "output_type": "stream",
     "text": [
      "DataDog/ansible-datadog\n"
     ]
    },
    {
     "name": "stderr",
     "output_type": "stream",
     "text": [
      "Exception ignored in: <finalize object at 0xe2532ab940; dead>\n",
      "Traceback (most recent call last):\n",
      "  File \"C:\\ProgramData\\Anaconda3\\lib\\weakref.py\", line 572, in __call__\n",
      "    return info.func(*info.args, **(info.kwargs or {}))\n",
      "  File \"C:\\ProgramData\\Anaconda3\\lib\\tempfile.py\", line 797, in _cleanup\n",
      "    _shutil.rmtree(name)\n",
      "  File \"C:\\ProgramData\\Anaconda3\\lib\\shutil.py\", line 516, in rmtree\n",
      "    return _rmtree_unsafe(path, onerror)\n",
      "  File \"C:\\ProgramData\\Anaconda3\\lib\\shutil.py\", line 395, in _rmtree_unsafe\n",
      "    _rmtree_unsafe(fullname, onerror)\n",
      "  File \"C:\\ProgramData\\Anaconda3\\lib\\shutil.py\", line 395, in _rmtree_unsafe\n",
      "    _rmtree_unsafe(fullname, onerror)\n",
      "  File \"C:\\ProgramData\\Anaconda3\\lib\\shutil.py\", line 395, in _rmtree_unsafe\n",
      "    _rmtree_unsafe(fullname, onerror)\n",
      "  [Previous line repeated 1 more time]\n",
      "  File \"C:\\ProgramData\\Anaconda3\\lib\\shutil.py\", line 400, in _rmtree_unsafe\n",
      "    onerror(os.unlink, fullname, sys.exc_info())\n",
      "  File \"C:\\ProgramData\\Anaconda3\\lib\\shutil.py\", line 398, in _rmtree_unsafe\n",
      "    os.unlink(fullname)\n",
      "PermissionError: [WinError 5] Access is denied: 'C:\\\\Users\\\\Userpc\\\\AppData\\\\Local\\\\Temp\\\\tmpc1c_6uuz\\\\ansible-datadog\\\\.git\\\\objects\\\\pack\\\\pack-85b30fc95a34b3a66a0ead55725b36d07fe39105.idx'\n"
     ]
    },
    {
     "name": "stdout",
     "output_type": "stream",
     "text": [
      "willpllc/infra-homework\n"
     ]
    },
    {
     "name": "stderr",
     "output_type": "stream",
     "text": [
      "Exception ignored in: <finalize object at 0xe2532abe20; dead>\n",
      "Traceback (most recent call last):\n",
      "  File \"C:\\ProgramData\\Anaconda3\\lib\\weakref.py\", line 572, in __call__\n",
      "    return info.func(*info.args, **(info.kwargs or {}))\n",
      "  File \"C:\\ProgramData\\Anaconda3\\lib\\tempfile.py\", line 797, in _cleanup\n",
      "    _shutil.rmtree(name)\n",
      "  File \"C:\\ProgramData\\Anaconda3\\lib\\shutil.py\", line 516, in rmtree\n",
      "    return _rmtree_unsafe(path, onerror)\n",
      "  File \"C:\\ProgramData\\Anaconda3\\lib\\shutil.py\", line 395, in _rmtree_unsafe\n",
      "    _rmtree_unsafe(fullname, onerror)\n",
      "  File \"C:\\ProgramData\\Anaconda3\\lib\\shutil.py\", line 395, in _rmtree_unsafe\n",
      "    _rmtree_unsafe(fullname, onerror)\n",
      "  File \"C:\\ProgramData\\Anaconda3\\lib\\shutil.py\", line 395, in _rmtree_unsafe\n",
      "    _rmtree_unsafe(fullname, onerror)\n",
      "  [Previous line repeated 1 more time]\n",
      "  File \"C:\\ProgramData\\Anaconda3\\lib\\shutil.py\", line 400, in _rmtree_unsafe\n",
      "    onerror(os.unlink, fullname, sys.exc_info())\n",
      "  File \"C:\\ProgramData\\Anaconda3\\lib\\shutil.py\", line 398, in _rmtree_unsafe\n",
      "    os.unlink(fullname)\n",
      "PermissionError: [WinError 5] Access is denied: 'C:\\\\Users\\\\Userpc\\\\AppData\\\\Local\\\\Temp\\\\tmpz616z7v5\\\\infra-homework\\\\.git\\\\objects\\\\pack\\\\pack-abda51135d82623cf95fade312a5171fdf666e6a.idx'\n"
     ]
    },
    {
     "name": "stdout",
     "output_type": "stream",
     "text": [
      "hortonworks/ansible-hortonworks\n"
     ]
    },
    {
     "name": "stderr",
     "output_type": "stream",
     "text": [
      "Exception ignored in: <finalize object at 0xe2532ab9f0; dead>\n",
      "Traceback (most recent call last):\n",
      "  File \"C:\\ProgramData\\Anaconda3\\lib\\weakref.py\", line 572, in __call__\n",
      "    return info.func(*info.args, **(info.kwargs or {}))\n",
      "  File \"C:\\ProgramData\\Anaconda3\\lib\\tempfile.py\", line 797, in _cleanup\n",
      "    _shutil.rmtree(name)\n",
      "  File \"C:\\ProgramData\\Anaconda3\\lib\\shutil.py\", line 516, in rmtree\n",
      "    return _rmtree_unsafe(path, onerror)\n",
      "  File \"C:\\ProgramData\\Anaconda3\\lib\\shutil.py\", line 395, in _rmtree_unsafe\n",
      "    _rmtree_unsafe(fullname, onerror)\n",
      "  File \"C:\\ProgramData\\Anaconda3\\lib\\shutil.py\", line 395, in _rmtree_unsafe\n",
      "    _rmtree_unsafe(fullname, onerror)\n",
      "  File \"C:\\ProgramData\\Anaconda3\\lib\\shutil.py\", line 395, in _rmtree_unsafe\n",
      "    _rmtree_unsafe(fullname, onerror)\n",
      "  [Previous line repeated 1 more time]\n",
      "  File \"C:\\ProgramData\\Anaconda3\\lib\\shutil.py\", line 400, in _rmtree_unsafe\n",
      "    onerror(os.unlink, fullname, sys.exc_info())\n",
      "  File \"C:\\ProgramData\\Anaconda3\\lib\\shutil.py\", line 398, in _rmtree_unsafe\n",
      "    os.unlink(fullname)\n",
      "PermissionError: [WinError 5] Access is denied: 'C:\\\\Users\\\\Userpc\\\\AppData\\\\Local\\\\Temp\\\\tmpy6e83fej\\\\ansible-hortonworks\\\\.git\\\\objects\\\\pack\\\\pack-45cd949ef440ebb1aa80bd21d5b36055853bec19.idx'\n"
     ]
    },
    {
     "name": "stdout",
     "output_type": "stream",
     "text": [
      "OpenSRP/playbooks\n"
     ]
    },
    {
     "name": "stderr",
     "output_type": "stream",
     "text": [
      "Exception ignored in: <finalize object at 0xe2532abba0; dead>\n",
      "Traceback (most recent call last):\n",
      "  File \"C:\\ProgramData\\Anaconda3\\lib\\weakref.py\", line 572, in __call__\n",
      "    return info.func(*info.args, **(info.kwargs or {}))\n",
      "  File \"C:\\ProgramData\\Anaconda3\\lib\\tempfile.py\", line 797, in _cleanup\n",
      "    _shutil.rmtree(name)\n",
      "  File \"C:\\ProgramData\\Anaconda3\\lib\\shutil.py\", line 516, in rmtree\n",
      "    return _rmtree_unsafe(path, onerror)\n",
      "  File \"C:\\ProgramData\\Anaconda3\\lib\\shutil.py\", line 395, in _rmtree_unsafe\n",
      "    _rmtree_unsafe(fullname, onerror)\n",
      "  File \"C:\\ProgramData\\Anaconda3\\lib\\shutil.py\", line 395, in _rmtree_unsafe\n",
      "    _rmtree_unsafe(fullname, onerror)\n",
      "  File \"C:\\ProgramData\\Anaconda3\\lib\\shutil.py\", line 395, in _rmtree_unsafe\n",
      "    _rmtree_unsafe(fullname, onerror)\n",
      "  [Previous line repeated 1 more time]\n",
      "  File \"C:\\ProgramData\\Anaconda3\\lib\\shutil.py\", line 400, in _rmtree_unsafe\n",
      "    onerror(os.unlink, fullname, sys.exc_info())\n",
      "  File \"C:\\ProgramData\\Anaconda3\\lib\\shutil.py\", line 398, in _rmtree_unsafe\n",
      "    os.unlink(fullname)\n",
      "PermissionError: [WinError 5] Access is denied: 'C:\\\\Users\\\\Userpc\\\\AppData\\\\Local\\\\Temp\\\\tmpp59s8uhu\\\\playbooks\\\\.git\\\\objects\\\\pack\\\\pack-f0e789273a6a5df5ec75bb74e1d2628d52a32844.idx'\n"
     ]
    },
    {
     "name": "stdout",
     "output_type": "stream",
     "text": [
      "openstack/openstack-ansible-os_neutron\n"
     ]
    },
    {
     "name": "stderr",
     "output_type": "stream",
     "text": [
      "Exception ignored in: <finalize object at 0xe2532ab830; dead>\n",
      "Traceback (most recent call last):\n",
      "  File \"C:\\ProgramData\\Anaconda3\\lib\\weakref.py\", line 572, in __call__\n",
      "    return info.func(*info.args, **(info.kwargs or {}))\n",
      "  File \"C:\\ProgramData\\Anaconda3\\lib\\tempfile.py\", line 797, in _cleanup\n",
      "    _shutil.rmtree(name)\n",
      "  File \"C:\\ProgramData\\Anaconda3\\lib\\shutil.py\", line 516, in rmtree\n",
      "    return _rmtree_unsafe(path, onerror)\n",
      "  File \"C:\\ProgramData\\Anaconda3\\lib\\shutil.py\", line 395, in _rmtree_unsafe\n",
      "    _rmtree_unsafe(fullname, onerror)\n",
      "  File \"C:\\ProgramData\\Anaconda3\\lib\\shutil.py\", line 395, in _rmtree_unsafe\n",
      "    _rmtree_unsafe(fullname, onerror)\n",
      "  File \"C:\\ProgramData\\Anaconda3\\lib\\shutil.py\", line 395, in _rmtree_unsafe\n",
      "    _rmtree_unsafe(fullname, onerror)\n",
      "  [Previous line repeated 1 more time]\n",
      "  File \"C:\\ProgramData\\Anaconda3\\lib\\shutil.py\", line 400, in _rmtree_unsafe\n",
      "    onerror(os.unlink, fullname, sys.exc_info())\n",
      "  File \"C:\\ProgramData\\Anaconda3\\lib\\shutil.py\", line 398, in _rmtree_unsafe\n",
      "    os.unlink(fullname)\n",
      "PermissionError: [WinError 5] Access is denied: 'C:\\\\Users\\\\Userpc\\\\AppData\\\\Local\\\\Temp\\\\tmp7oztxxb_\\\\openstack-ansible-os_neutron\\\\.git\\\\objects\\\\pack\\\\pack-3aa8b3f0daaf6196f4be37b67a5944cab07f2be5.idx'\n"
     ]
    },
    {
     "name": "stdout",
     "output_type": "stream",
     "text": [
      "bwatsonsf/solr\n"
     ]
    },
    {
     "name": "stderr",
     "output_type": "stream",
     "text": [
      "Exception ignored in: <finalize object at 0xe2532ab3c0; dead>\n",
      "Traceback (most recent call last):\n",
      "  File \"C:\\ProgramData\\Anaconda3\\lib\\weakref.py\", line 572, in __call__\n",
      "    return info.func(*info.args, **(info.kwargs or {}))\n",
      "  File \"C:\\ProgramData\\Anaconda3\\lib\\tempfile.py\", line 797, in _cleanup\n",
      "    _shutil.rmtree(name)\n",
      "  File \"C:\\ProgramData\\Anaconda3\\lib\\shutil.py\", line 516, in rmtree\n",
      "    return _rmtree_unsafe(path, onerror)\n",
      "  File \"C:\\ProgramData\\Anaconda3\\lib\\shutil.py\", line 395, in _rmtree_unsafe\n",
      "    _rmtree_unsafe(fullname, onerror)\n",
      "  File \"C:\\ProgramData\\Anaconda3\\lib\\shutil.py\", line 395, in _rmtree_unsafe\n",
      "    _rmtree_unsafe(fullname, onerror)\n",
      "  File \"C:\\ProgramData\\Anaconda3\\lib\\shutil.py\", line 395, in _rmtree_unsafe\n",
      "    _rmtree_unsafe(fullname, onerror)\n",
      "  [Previous line repeated 1 more time]\n",
      "  File \"C:\\ProgramData\\Anaconda3\\lib\\shutil.py\", line 400, in _rmtree_unsafe\n",
      "    onerror(os.unlink, fullname, sys.exc_info())\n",
      "  File \"C:\\ProgramData\\Anaconda3\\lib\\shutil.py\", line 398, in _rmtree_unsafe\n",
      "    os.unlink(fullname)\n",
      "PermissionError: [WinError 5] Access is denied: 'C:\\\\Users\\\\Userpc\\\\AppData\\\\Local\\\\Temp\\\\tmpw2nligrc\\\\solr\\\\.git\\\\objects\\\\pack\\\\pack-5b57946a9a0a3079aefc63d06ec3c6160a82acea.idx'\n"
     ]
    },
    {
     "name": "stdout",
     "output_type": "stream",
     "text": [
      "wazuh/wazuh-ansible\n"
     ]
    },
    {
     "name": "stderr",
     "output_type": "stream",
     "text": [
      "Exception ignored in: <finalize object at 0xe2532ab620; dead>\n",
      "Traceback (most recent call last):\n",
      "  File \"C:\\ProgramData\\Anaconda3\\lib\\weakref.py\", line 572, in __call__\n",
      "    return info.func(*info.args, **(info.kwargs or {}))\n",
      "  File \"C:\\ProgramData\\Anaconda3\\lib\\tempfile.py\", line 797, in _cleanup\n",
      "    _shutil.rmtree(name)\n",
      "  File \"C:\\ProgramData\\Anaconda3\\lib\\shutil.py\", line 516, in rmtree\n",
      "    return _rmtree_unsafe(path, onerror)\n",
      "  File \"C:\\ProgramData\\Anaconda3\\lib\\shutil.py\", line 395, in _rmtree_unsafe\n",
      "    _rmtree_unsafe(fullname, onerror)\n",
      "  File \"C:\\ProgramData\\Anaconda3\\lib\\shutil.py\", line 395, in _rmtree_unsafe\n",
      "    _rmtree_unsafe(fullname, onerror)\n",
      "  File \"C:\\ProgramData\\Anaconda3\\lib\\shutil.py\", line 395, in _rmtree_unsafe\n",
      "    _rmtree_unsafe(fullname, onerror)\n",
      "  [Previous line repeated 1 more time]\n",
      "  File \"C:\\ProgramData\\Anaconda3\\lib\\shutil.py\", line 400, in _rmtree_unsafe\n",
      "    onerror(os.unlink, fullname, sys.exc_info())\n",
      "  File \"C:\\ProgramData\\Anaconda3\\lib\\shutil.py\", line 398, in _rmtree_unsafe\n",
      "    os.unlink(fullname)\n",
      "PermissionError: [WinError 5] Access is denied: 'C:\\\\Users\\\\Userpc\\\\AppData\\\\Local\\\\Temp\\\\tmp1dba26xo\\\\wazuh-ansible\\\\.git\\\\objects\\\\pack\\\\pack-786682edafb817c17c4a5fb44225d25687c047d9.idx'\n"
     ]
    },
    {
     "name": "stdout",
     "output_type": "stream",
     "text": [
      "dj-wasabi/ansible-telegraf\n"
     ]
    },
    {
     "name": "stderr",
     "output_type": "stream",
     "text": [
      "Exception ignored in: <finalize object at 0xe2532abba0; dead>\n",
      "Traceback (most recent call last):\n",
      "  File \"C:\\ProgramData\\Anaconda3\\lib\\weakref.py\", line 572, in __call__\n",
      "    return info.func(*info.args, **(info.kwargs or {}))\n",
      "  File \"C:\\ProgramData\\Anaconda3\\lib\\tempfile.py\", line 797, in _cleanup\n",
      "    _shutil.rmtree(name)\n",
      "  File \"C:\\ProgramData\\Anaconda3\\lib\\shutil.py\", line 516, in rmtree\n",
      "    return _rmtree_unsafe(path, onerror)\n",
      "  File \"C:\\ProgramData\\Anaconda3\\lib\\shutil.py\", line 395, in _rmtree_unsafe\n",
      "    _rmtree_unsafe(fullname, onerror)\n",
      "  File \"C:\\ProgramData\\Anaconda3\\lib\\shutil.py\", line 395, in _rmtree_unsafe\n",
      "    _rmtree_unsafe(fullname, onerror)\n",
      "  File \"C:\\ProgramData\\Anaconda3\\lib\\shutil.py\", line 395, in _rmtree_unsafe\n",
      "    _rmtree_unsafe(fullname, onerror)\n",
      "  [Previous line repeated 1 more time]\n",
      "  File \"C:\\ProgramData\\Anaconda3\\lib\\shutil.py\", line 400, in _rmtree_unsafe\n",
      "    onerror(os.unlink, fullname, sys.exc_info())\n",
      "  File \"C:\\ProgramData\\Anaconda3\\lib\\shutil.py\", line 398, in _rmtree_unsafe\n",
      "    os.unlink(fullname)\n",
      "PermissionError: [WinError 5] Access is denied: 'C:\\\\Users\\\\Userpc\\\\AppData\\\\Local\\\\Temp\\\\tmp_p696m4b\\\\ansible-telegraf\\\\.git\\\\objects\\\\pack\\\\pack-c119e7e478b9ea662273b417991eb1beda75bb22.idx'\n"
     ]
    },
    {
     "name": "stdout",
     "output_type": "stream",
     "text": [
      "rdo-infra/rdo-jobs\n"
     ]
    },
    {
     "name": "stderr",
     "output_type": "stream",
     "text": [
      "Exception ignored in: <finalize object at 0xe2532ab700; dead>\n",
      "Traceback (most recent call last):\n",
      "  File \"C:\\ProgramData\\Anaconda3\\lib\\weakref.py\", line 572, in __call__\n",
      "    return info.func(*info.args, **(info.kwargs or {}))\n",
      "  File \"C:\\ProgramData\\Anaconda3\\lib\\tempfile.py\", line 797, in _cleanup\n",
      "    _shutil.rmtree(name)\n",
      "  File \"C:\\ProgramData\\Anaconda3\\lib\\shutil.py\", line 516, in rmtree\n",
      "    return _rmtree_unsafe(path, onerror)\n",
      "  File \"C:\\ProgramData\\Anaconda3\\lib\\shutil.py\", line 395, in _rmtree_unsafe\n",
      "    _rmtree_unsafe(fullname, onerror)\n",
      "  File \"C:\\ProgramData\\Anaconda3\\lib\\shutil.py\", line 395, in _rmtree_unsafe\n",
      "    _rmtree_unsafe(fullname, onerror)\n",
      "  File \"C:\\ProgramData\\Anaconda3\\lib\\shutil.py\", line 395, in _rmtree_unsafe\n",
      "    _rmtree_unsafe(fullname, onerror)\n",
      "  [Previous line repeated 1 more time]\n",
      "  File \"C:\\ProgramData\\Anaconda3\\lib\\shutil.py\", line 400, in _rmtree_unsafe\n",
      "    onerror(os.unlink, fullname, sys.exc_info())\n",
      "  File \"C:\\ProgramData\\Anaconda3\\lib\\shutil.py\", line 398, in _rmtree_unsafe\n",
      "    os.unlink(fullname)\n",
      "PermissionError: [WinError 5] Access is denied: 'C:\\\\Users\\\\Userpc\\\\AppData\\\\Local\\\\Temp\\\\tmpnb9sku6u\\\\rdo-jobs\\\\.git\\\\objects\\\\pack\\\\pack-c6ec7c56358770815e1305390893c2b26a9fd318.idx'\n"
     ]
    },
    {
     "name": "stdout",
     "output_type": "stream",
     "text": [
      "openstack/openstack-ansible-os_nova\n"
     ]
    },
    {
     "name": "stderr",
     "output_type": "stream",
     "text": [
      "Exception ignored in: <finalize object at 0xe2532ab3c0; dead>\n",
      "Traceback (most recent call last):\n",
      "  File \"C:\\ProgramData\\Anaconda3\\lib\\weakref.py\", line 572, in __call__\n",
      "    return info.func(*info.args, **(info.kwargs or {}))\n",
      "  File \"C:\\ProgramData\\Anaconda3\\lib\\tempfile.py\", line 797, in _cleanup\n",
      "    _shutil.rmtree(name)\n",
      "  File \"C:\\ProgramData\\Anaconda3\\lib\\shutil.py\", line 516, in rmtree\n",
      "    return _rmtree_unsafe(path, onerror)\n",
      "  File \"C:\\ProgramData\\Anaconda3\\lib\\shutil.py\", line 395, in _rmtree_unsafe\n",
      "    _rmtree_unsafe(fullname, onerror)\n",
      "  File \"C:\\ProgramData\\Anaconda3\\lib\\shutil.py\", line 395, in _rmtree_unsafe\n",
      "    _rmtree_unsafe(fullname, onerror)\n",
      "  File \"C:\\ProgramData\\Anaconda3\\lib\\shutil.py\", line 395, in _rmtree_unsafe\n",
      "    _rmtree_unsafe(fullname, onerror)\n",
      "  [Previous line repeated 1 more time]\n",
      "  File \"C:\\ProgramData\\Anaconda3\\lib\\shutil.py\", line 400, in _rmtree_unsafe\n",
      "    onerror(os.unlink, fullname, sys.exc_info())\n",
      "  File \"C:\\ProgramData\\Anaconda3\\lib\\shutil.py\", line 398, in _rmtree_unsafe\n",
      "    os.unlink(fullname)\n",
      "PermissionError: [WinError 5] Access is denied: 'C:\\\\Users\\\\Userpc\\\\AppData\\\\Local\\\\Temp\\\\tmp02vsaarh\\\\openstack-ansible-os_nova\\\\.git\\\\objects\\\\pack\\\\pack-55aacf84e7a86a8dcb429192d11c1db1498ec8c4.idx'\n"
     ]
    },
    {
     "name": "stdout",
     "output_type": "stream",
     "text": [
      "openstack/openstack-zuul-jobs\n"
     ]
    },
    {
     "name": "stderr",
     "output_type": "stream",
     "text": [
      "Exception ignored in: <finalize object at 0xe2532ab650; dead>\n",
      "Traceback (most recent call last):\n",
      "  File \"C:\\ProgramData\\Anaconda3\\lib\\weakref.py\", line 572, in __call__\n",
      "    return info.func(*info.args, **(info.kwargs or {}))\n",
      "  File \"C:\\ProgramData\\Anaconda3\\lib\\tempfile.py\", line 797, in _cleanup\n",
      "    _shutil.rmtree(name)\n",
      "  File \"C:\\ProgramData\\Anaconda3\\lib\\shutil.py\", line 516, in rmtree\n",
      "    return _rmtree_unsafe(path, onerror)\n",
      "  File \"C:\\ProgramData\\Anaconda3\\lib\\shutil.py\", line 395, in _rmtree_unsafe\n",
      "    _rmtree_unsafe(fullname, onerror)\n",
      "  File \"C:\\ProgramData\\Anaconda3\\lib\\shutil.py\", line 395, in _rmtree_unsafe\n",
      "    _rmtree_unsafe(fullname, onerror)\n",
      "  File \"C:\\ProgramData\\Anaconda3\\lib\\shutil.py\", line 395, in _rmtree_unsafe\n",
      "    _rmtree_unsafe(fullname, onerror)\n",
      "  [Previous line repeated 1 more time]\n",
      "  File \"C:\\ProgramData\\Anaconda3\\lib\\shutil.py\", line 400, in _rmtree_unsafe\n",
      "    onerror(os.unlink, fullname, sys.exc_info())\n",
      "  File \"C:\\ProgramData\\Anaconda3\\lib\\shutil.py\", line 398, in _rmtree_unsafe\n",
      "    os.unlink(fullname)\n",
      "PermissionError: [WinError 5] Access is denied: 'C:\\\\Users\\\\Userpc\\\\AppData\\\\Local\\\\Temp\\\\tmpjv11lsy9\\\\openstack-zuul-jobs\\\\.git\\\\objects\\\\pack\\\\pack-554e4a3f9dba7196237b59b9bd31b9776fe83fed.idx'\n"
     ]
    },
    {
     "name": "stdout",
     "output_type": "stream",
     "text": [
      "openstack/openstack-ansible-os_mistral\n"
     ]
    },
    {
     "name": "stderr",
     "output_type": "stream",
     "text": [
      "Exception ignored in: <finalize object at 0xe2532ab690; dead>\n",
      "Traceback (most recent call last):\n",
      "  File \"C:\\ProgramData\\Anaconda3\\lib\\weakref.py\", line 572, in __call__\n",
      "    return info.func(*info.args, **(info.kwargs or {}))\n",
      "  File \"C:\\ProgramData\\Anaconda3\\lib\\tempfile.py\", line 797, in _cleanup\n",
      "    _shutil.rmtree(name)\n",
      "  File \"C:\\ProgramData\\Anaconda3\\lib\\shutil.py\", line 516, in rmtree\n",
      "    return _rmtree_unsafe(path, onerror)\n",
      "  File \"C:\\ProgramData\\Anaconda3\\lib\\shutil.py\", line 395, in _rmtree_unsafe\n",
      "    _rmtree_unsafe(fullname, onerror)\n",
      "  File \"C:\\ProgramData\\Anaconda3\\lib\\shutil.py\", line 395, in _rmtree_unsafe\n",
      "    _rmtree_unsafe(fullname, onerror)\n",
      "  File \"C:\\ProgramData\\Anaconda3\\lib\\shutil.py\", line 395, in _rmtree_unsafe\n",
      "    _rmtree_unsafe(fullname, onerror)\n",
      "  [Previous line repeated 1 more time]\n",
      "  File \"C:\\ProgramData\\Anaconda3\\lib\\shutil.py\", line 400, in _rmtree_unsafe\n",
      "    onerror(os.unlink, fullname, sys.exc_info())\n",
      "  File \"C:\\ProgramData\\Anaconda3\\lib\\shutil.py\", line 398, in _rmtree_unsafe\n",
      "    os.unlink(fullname)\n",
      "PermissionError: [WinError 5] Access is denied: 'C:\\\\Users\\\\Userpc\\\\AppData\\\\Local\\\\Temp\\\\tmpoce_ca6c\\\\openstack-ansible-os_mistral\\\\.git\\\\objects\\\\pack\\\\pack-3da54ad0f141a035a06debdd066cc02443fa915c.idx'\n"
     ]
    },
    {
     "name": "stdout",
     "output_type": "stream",
     "text": [
      "openstack/tripleo-validations\n"
     ]
    },
    {
     "name": "stderr",
     "output_type": "stream",
     "text": [
      "Exception ignored in: <finalize object at 0xe2532abe70; dead>\n",
      "Traceback (most recent call last):\n",
      "  File \"C:\\ProgramData\\Anaconda3\\lib\\weakref.py\", line 572, in __call__\n",
      "    return info.func(*info.args, **(info.kwargs or {}))\n",
      "  File \"C:\\ProgramData\\Anaconda3\\lib\\tempfile.py\", line 797, in _cleanup\n",
      "    _shutil.rmtree(name)\n",
      "  File \"C:\\ProgramData\\Anaconda3\\lib\\shutil.py\", line 516, in rmtree\n",
      "    return _rmtree_unsafe(path, onerror)\n",
      "  File \"C:\\ProgramData\\Anaconda3\\lib\\shutil.py\", line 395, in _rmtree_unsafe\n",
      "    _rmtree_unsafe(fullname, onerror)\n",
      "  File \"C:\\ProgramData\\Anaconda3\\lib\\shutil.py\", line 395, in _rmtree_unsafe\n",
      "    _rmtree_unsafe(fullname, onerror)\n",
      "  File \"C:\\ProgramData\\Anaconda3\\lib\\shutil.py\", line 395, in _rmtree_unsafe\n",
      "    _rmtree_unsafe(fullname, onerror)\n",
      "  [Previous line repeated 1 more time]\n",
      "  File \"C:\\ProgramData\\Anaconda3\\lib\\shutil.py\", line 400, in _rmtree_unsafe\n",
      "    onerror(os.unlink, fullname, sys.exc_info())\n",
      "  File \"C:\\ProgramData\\Anaconda3\\lib\\shutil.py\", line 398, in _rmtree_unsafe\n",
      "    os.unlink(fullname)\n",
      "PermissionError: [WinError 5] Access is denied: 'C:\\\\Users\\\\Userpc\\\\AppData\\\\Local\\\\Temp\\\\tmp4ya_2jhw\\\\tripleo-validations\\\\.git\\\\objects\\\\pack\\\\pack-303011c4b7fc3ea29de1db3b6d5477e722640fbc.idx'\n"
     ]
    },
    {
     "name": "stdout",
     "output_type": "stream",
     "text": [
      "OpenSwitchNOS/openswitch-infra-project-config\n"
     ]
    },
    {
     "name": "stderr",
     "output_type": "stream",
     "text": [
      "Exception ignored in: <finalize object at 0xe2532ab9a0; dead>\n",
      "Traceback (most recent call last):\n",
      "  File \"C:\\ProgramData\\Anaconda3\\lib\\weakref.py\", line 572, in __call__\n",
      "    return info.func(*info.args, **(info.kwargs or {}))\n",
      "  File \"C:\\ProgramData\\Anaconda3\\lib\\tempfile.py\", line 797, in _cleanup\n",
      "    _shutil.rmtree(name)\n",
      "  File \"C:\\ProgramData\\Anaconda3\\lib\\shutil.py\", line 516, in rmtree\n",
      "    return _rmtree_unsafe(path, onerror)\n",
      "  File \"C:\\ProgramData\\Anaconda3\\lib\\shutil.py\", line 395, in _rmtree_unsafe\n",
      "    _rmtree_unsafe(fullname, onerror)\n",
      "  File \"C:\\ProgramData\\Anaconda3\\lib\\shutil.py\", line 395, in _rmtree_unsafe\n",
      "    _rmtree_unsafe(fullname, onerror)\n",
      "  File \"C:\\ProgramData\\Anaconda3\\lib\\shutil.py\", line 395, in _rmtree_unsafe\n",
      "    _rmtree_unsafe(fullname, onerror)\n",
      "  [Previous line repeated 1 more time]\n",
      "  File \"C:\\ProgramData\\Anaconda3\\lib\\shutil.py\", line 400, in _rmtree_unsafe\n",
      "    onerror(os.unlink, fullname, sys.exc_info())\n",
      "  File \"C:\\ProgramData\\Anaconda3\\lib\\shutil.py\", line 398, in _rmtree_unsafe\n",
      "    os.unlink(fullname)\n",
      "PermissionError: [WinError 5] Access is denied: 'C:\\\\Users\\\\Userpc\\\\AppData\\\\Local\\\\Temp\\\\tmpg80h7gq9\\\\openswitch-infra-project-config\\\\.git\\\\objects\\\\pack\\\\pack-82706861ec738e89ba682c60d2ea21bbba925281.idx'\n"
     ]
    },
    {
     "name": "stdout",
     "output_type": "stream",
     "text": [
      "openstack/openstack-ansible-ops\n"
     ]
    },
    {
     "name": "stderr",
     "output_type": "stream",
     "text": [
      "Exception ignored in: <finalize object at 0xe2532abe00; dead>\n",
      "Traceback (most recent call last):\n",
      "  File \"C:\\ProgramData\\Anaconda3\\lib\\weakref.py\", line 572, in __call__\n",
      "    return info.func(*info.args, **(info.kwargs or {}))\n",
      "  File \"C:\\ProgramData\\Anaconda3\\lib\\tempfile.py\", line 797, in _cleanup\n",
      "    _shutil.rmtree(name)\n",
      "  File \"C:\\ProgramData\\Anaconda3\\lib\\shutil.py\", line 516, in rmtree\n",
      "    return _rmtree_unsafe(path, onerror)\n",
      "  File \"C:\\ProgramData\\Anaconda3\\lib\\shutil.py\", line 395, in _rmtree_unsafe\n",
      "    _rmtree_unsafe(fullname, onerror)\n",
      "  File \"C:\\ProgramData\\Anaconda3\\lib\\shutil.py\", line 395, in _rmtree_unsafe\n",
      "    _rmtree_unsafe(fullname, onerror)\n",
      "  File \"C:\\ProgramData\\Anaconda3\\lib\\shutil.py\", line 395, in _rmtree_unsafe\n",
      "    _rmtree_unsafe(fullname, onerror)\n",
      "  [Previous line repeated 1 more time]\n",
      "  File \"C:\\ProgramData\\Anaconda3\\lib\\shutil.py\", line 400, in _rmtree_unsafe\n",
      "    onerror(os.unlink, fullname, sys.exc_info())\n",
      "  File \"C:\\ProgramData\\Anaconda3\\lib\\shutil.py\", line 398, in _rmtree_unsafe\n",
      "    os.unlink(fullname)\n",
      "PermissionError: [WinError 5] Access is denied: 'C:\\\\Users\\\\Userpc\\\\AppData\\\\Local\\\\Temp\\\\tmppf4z2882\\\\openstack-ansible-ops\\\\.git\\\\objects\\\\pack\\\\pack-65f346b82fb7bd63cebc9f83239b6308781e998f.idx'\n"
     ]
    },
    {
     "name": "stdout",
     "output_type": "stream",
     "text": [
      "openstack/tripleo-quickstart\n"
     ]
    },
    {
     "name": "stderr",
     "output_type": "stream",
     "text": [
      "Exception ignored in: <finalize object at 0xe2532abbb0; dead>\n",
      "Traceback (most recent call last):\n",
      "  File \"C:\\ProgramData\\Anaconda3\\lib\\weakref.py\", line 572, in __call__\n",
      "    return info.func(*info.args, **(info.kwargs or {}))\n",
      "  File \"C:\\ProgramData\\Anaconda3\\lib\\tempfile.py\", line 797, in _cleanup\n",
      "    _shutil.rmtree(name)\n",
      "  File \"C:\\ProgramData\\Anaconda3\\lib\\shutil.py\", line 516, in rmtree\n",
      "    return _rmtree_unsafe(path, onerror)\n",
      "  File \"C:\\ProgramData\\Anaconda3\\lib\\shutil.py\", line 395, in _rmtree_unsafe\n",
      "    _rmtree_unsafe(fullname, onerror)\n",
      "  File \"C:\\ProgramData\\Anaconda3\\lib\\shutil.py\", line 395, in _rmtree_unsafe\n",
      "    _rmtree_unsafe(fullname, onerror)\n",
      "  File \"C:\\ProgramData\\Anaconda3\\lib\\shutil.py\", line 395, in _rmtree_unsafe\n",
      "    _rmtree_unsafe(fullname, onerror)\n",
      "  [Previous line repeated 1 more time]\n",
      "  File \"C:\\ProgramData\\Anaconda3\\lib\\shutil.py\", line 400, in _rmtree_unsafe\n",
      "    onerror(os.unlink, fullname, sys.exc_info())\n",
      "  File \"C:\\ProgramData\\Anaconda3\\lib\\shutil.py\", line 398, in _rmtree_unsafe\n",
      "    os.unlink(fullname)\n",
      "PermissionError: [WinError 5] Access is denied: 'C:\\\\Users\\\\Userpc\\\\AppData\\\\Local\\\\Temp\\\\tmpaiilrcdr\\\\tripleo-quickstart\\\\.git\\\\objects\\\\pack\\\\pack-d4b3737d246ba080be8cccff3c27e3676f48ace7.idx'\n"
     ]
    },
    {
     "name": "stdout",
     "output_type": "stream",
     "text": [
      "GoogleCloudPlatform/magic-modules\n"
     ]
    },
    {
     "name": "stderr",
     "output_type": "stream",
     "text": [
      "Exception ignored in: <finalize object at 0xe2532abeb0; dead>\n",
      "Traceback (most recent call last):\n",
      "  File \"C:\\ProgramData\\Anaconda3\\lib\\weakref.py\", line 572, in __call__\n",
      "    return info.func(*info.args, **(info.kwargs or {}))\n",
      "  File \"C:\\ProgramData\\Anaconda3\\lib\\tempfile.py\", line 797, in _cleanup\n",
      "    _shutil.rmtree(name)\n",
      "  File \"C:\\ProgramData\\Anaconda3\\lib\\shutil.py\", line 516, in rmtree\n",
      "    return _rmtree_unsafe(path, onerror)\n",
      "  File \"C:\\ProgramData\\Anaconda3\\lib\\shutil.py\", line 395, in _rmtree_unsafe\n",
      "    _rmtree_unsafe(fullname, onerror)\n",
      "  File \"C:\\ProgramData\\Anaconda3\\lib\\shutil.py\", line 395, in _rmtree_unsafe\n",
      "    _rmtree_unsafe(fullname, onerror)\n",
      "  File \"C:\\ProgramData\\Anaconda3\\lib\\shutil.py\", line 395, in _rmtree_unsafe\n",
      "    _rmtree_unsafe(fullname, onerror)\n",
      "  [Previous line repeated 1 more time]\n",
      "  File \"C:\\ProgramData\\Anaconda3\\lib\\shutil.py\", line 400, in _rmtree_unsafe\n",
      "    onerror(os.unlink, fullname, sys.exc_info())\n",
      "  File \"C:\\ProgramData\\Anaconda3\\lib\\shutil.py\", line 398, in _rmtree_unsafe\n",
      "    os.unlink(fullname)\n",
      "PermissionError: [WinError 5] Access is denied: 'C:\\\\Users\\\\Userpc\\\\AppData\\\\Local\\\\Temp\\\\tmpk3fum63l\\\\magic-modules\\\\.git\\\\objects\\\\pack\\\\pack-9e5d0e7b6ed53b341eea9082615a799dba0e56ac.idx'\n"
     ]
    },
    {
     "name": "stdout",
     "output_type": "stream",
     "text": [
      "openstack/kolla-ansible\n"
     ]
    },
    {
     "name": "stderr",
     "output_type": "stream",
     "text": [
      "Exception ignored in: <finalize object at 0xe2532ab390; dead>\n",
      "Traceback (most recent call last):\n",
      "  File \"C:\\ProgramData\\Anaconda3\\lib\\weakref.py\", line 572, in __call__\n",
      "    return info.func(*info.args, **(info.kwargs or {}))\n",
      "  File \"C:\\ProgramData\\Anaconda3\\lib\\tempfile.py\", line 797, in _cleanup\n",
      "    _shutil.rmtree(name)\n",
      "  File \"C:\\ProgramData\\Anaconda3\\lib\\shutil.py\", line 516, in rmtree\n",
      "    return _rmtree_unsafe(path, onerror)\n",
      "  File \"C:\\ProgramData\\Anaconda3\\lib\\shutil.py\", line 395, in _rmtree_unsafe\n",
      "    _rmtree_unsafe(fullname, onerror)\n",
      "  File \"C:\\ProgramData\\Anaconda3\\lib\\shutil.py\", line 395, in _rmtree_unsafe\n",
      "    _rmtree_unsafe(fullname, onerror)\n",
      "  File \"C:\\ProgramData\\Anaconda3\\lib\\shutil.py\", line 395, in _rmtree_unsafe\n",
      "    _rmtree_unsafe(fullname, onerror)\n",
      "  [Previous line repeated 1 more time]\n",
      "  File \"C:\\ProgramData\\Anaconda3\\lib\\shutil.py\", line 400, in _rmtree_unsafe\n",
      "    onerror(os.unlink, fullname, sys.exc_info())\n",
      "  File \"C:\\ProgramData\\Anaconda3\\lib\\shutil.py\", line 398, in _rmtree_unsafe\n",
      "    os.unlink(fullname)\n",
      "PermissionError: [WinError 5] Access is denied: 'C:\\\\Users\\\\Userpc\\\\AppData\\\\Local\\\\Temp\\\\tmparte_p1i\\\\kolla-ansible\\\\.git\\\\objects\\\\pack\\\\pack-20d4ffe54e9f0b139ea67773ff366f107a210704.idx'\n"
     ]
    },
    {
     "name": "stdout",
     "output_type": "stream",
     "text": [
      "openstack/openstack-ansible-rabbitmq_server\n"
     ]
    },
    {
     "name": "stderr",
     "output_type": "stream",
     "text": [
      "Exception ignored in: <finalize object at 0xe2532ab6a0; dead>\n",
      "Traceback (most recent call last):\n",
      "  File \"C:\\ProgramData\\Anaconda3\\lib\\weakref.py\", line 572, in __call__\n",
      "    return info.func(*info.args, **(info.kwargs or {}))\n",
      "  File \"C:\\ProgramData\\Anaconda3\\lib\\tempfile.py\", line 797, in _cleanup\n",
      "    _shutil.rmtree(name)\n",
      "  File \"C:\\ProgramData\\Anaconda3\\lib\\shutil.py\", line 516, in rmtree\n",
      "    return _rmtree_unsafe(path, onerror)\n",
      "  File \"C:\\ProgramData\\Anaconda3\\lib\\shutil.py\", line 395, in _rmtree_unsafe\n",
      "    _rmtree_unsafe(fullname, onerror)\n",
      "  File \"C:\\ProgramData\\Anaconda3\\lib\\shutil.py\", line 395, in _rmtree_unsafe\n",
      "    _rmtree_unsafe(fullname, onerror)\n",
      "  File \"C:\\ProgramData\\Anaconda3\\lib\\shutil.py\", line 395, in _rmtree_unsafe\n",
      "    _rmtree_unsafe(fullname, onerror)\n",
      "  [Previous line repeated 1 more time]\n",
      "  File \"C:\\ProgramData\\Anaconda3\\lib\\shutil.py\", line 400, in _rmtree_unsafe\n",
      "    onerror(os.unlink, fullname, sys.exc_info())\n",
      "  File \"C:\\ProgramData\\Anaconda3\\lib\\shutil.py\", line 398, in _rmtree_unsafe\n",
      "    os.unlink(fullname)\n",
      "PermissionError: [WinError 5] Access is denied: 'C:\\\\Users\\\\Userpc\\\\AppData\\\\Local\\\\Temp\\\\tmpq1xrg3mr\\\\openstack-ansible-rabbitmq_server\\\\.git\\\\objects\\\\pack\\\\pack-c548128063433c55e98d1d09932ca2cc94825d2c.idx'\n"
     ]
    },
    {
     "name": "stdout",
     "output_type": "stream",
     "text": [
      "ansible/ansible-examples\n"
     ]
    },
    {
     "name": "stderr",
     "output_type": "stream",
     "text": [
      "Exception ignored in: <finalize object at 0xe2532aba10; dead>\n",
      "Traceback (most recent call last):\n",
      "  File \"C:\\ProgramData\\Anaconda3\\lib\\weakref.py\", line 572, in __call__\n",
      "    return info.func(*info.args, **(info.kwargs or {}))\n",
      "  File \"C:\\ProgramData\\Anaconda3\\lib\\tempfile.py\", line 797, in _cleanup\n",
      "    _shutil.rmtree(name)\n",
      "  File \"C:\\ProgramData\\Anaconda3\\lib\\shutil.py\", line 516, in rmtree\n",
      "    return _rmtree_unsafe(path, onerror)\n",
      "  File \"C:\\ProgramData\\Anaconda3\\lib\\shutil.py\", line 395, in _rmtree_unsafe\n",
      "    _rmtree_unsafe(fullname, onerror)\n",
      "  File \"C:\\ProgramData\\Anaconda3\\lib\\shutil.py\", line 395, in _rmtree_unsafe\n",
      "    _rmtree_unsafe(fullname, onerror)\n",
      "  File \"C:\\ProgramData\\Anaconda3\\lib\\shutil.py\", line 395, in _rmtree_unsafe\n",
      "    _rmtree_unsafe(fullname, onerror)\n",
      "  [Previous line repeated 1 more time]\n",
      "  File \"C:\\ProgramData\\Anaconda3\\lib\\shutil.py\", line 400, in _rmtree_unsafe\n",
      "    onerror(os.unlink, fullname, sys.exc_info())\n",
      "  File \"C:\\ProgramData\\Anaconda3\\lib\\shutil.py\", line 398, in _rmtree_unsafe\n",
      "    os.unlink(fullname)\n",
      "PermissionError: [WinError 5] Access is denied: 'C:\\\\Users\\\\Userpc\\\\AppData\\\\Local\\\\Temp\\\\tmpmemv5lu5\\\\ansible-examples\\\\.git\\\\objects\\\\pack\\\\pack-f4724ad0f6cce9542570f1c66fce9de19ce091d0.idx'\n"
     ]
    },
    {
     "name": "stdout",
     "output_type": "stream",
     "text": [
      "Bahmni/bahmni-playbooks\n"
     ]
    },
    {
     "name": "stderr",
     "output_type": "stream",
     "text": [
      "Exception ignored in: <finalize object at 0xe2532ab9a0; dead>\n",
      "Traceback (most recent call last):\n",
      "  File \"C:\\ProgramData\\Anaconda3\\lib\\weakref.py\", line 572, in __call__\n",
      "    return info.func(*info.args, **(info.kwargs or {}))\n",
      "  File \"C:\\ProgramData\\Anaconda3\\lib\\tempfile.py\", line 797, in _cleanup\n",
      "    _shutil.rmtree(name)\n",
      "  File \"C:\\ProgramData\\Anaconda3\\lib\\shutil.py\", line 516, in rmtree\n",
      "    return _rmtree_unsafe(path, onerror)\n",
      "  File \"C:\\ProgramData\\Anaconda3\\lib\\shutil.py\", line 395, in _rmtree_unsafe\n",
      "    _rmtree_unsafe(fullname, onerror)\n",
      "  File \"C:\\ProgramData\\Anaconda3\\lib\\shutil.py\", line 395, in _rmtree_unsafe\n",
      "    _rmtree_unsafe(fullname, onerror)\n",
      "  File \"C:\\ProgramData\\Anaconda3\\lib\\shutil.py\", line 395, in _rmtree_unsafe\n",
      "    _rmtree_unsafe(fullname, onerror)\n",
      "  [Previous line repeated 1 more time]\n",
      "  File \"C:\\ProgramData\\Anaconda3\\lib\\shutil.py\", line 400, in _rmtree_unsafe\n",
      "    onerror(os.unlink, fullname, sys.exc_info())\n",
      "  File \"C:\\ProgramData\\Anaconda3\\lib\\shutil.py\", line 398, in _rmtree_unsafe\n",
      "    os.unlink(fullname)\n",
      "PermissionError: [WinError 5] Access is denied: 'C:\\\\Users\\\\Userpc\\\\AppData\\\\Local\\\\Temp\\\\tmp_c7tbsbi\\\\bahmni-playbooks\\\\.git\\\\objects\\\\pack\\\\pack-800928e2e07cdb0fee48855f44bd5007852fd3f8.idx'\n"
     ]
    },
    {
     "name": "stdout",
     "output_type": "stream",
     "text": [
      "ndlib/marble-blueprints\n"
     ]
    },
    {
     "name": "stderr",
     "output_type": "stream",
     "text": [
      "Exception ignored in: <finalize object at 0xe2532abd70; dead>\n",
      "Traceback (most recent call last):\n",
      "  File \"C:\\ProgramData\\Anaconda3\\lib\\weakref.py\", line 572, in __call__\n",
      "    return info.func(*info.args, **(info.kwargs or {}))\n",
      "  File \"C:\\ProgramData\\Anaconda3\\lib\\tempfile.py\", line 797, in _cleanup\n",
      "    _shutil.rmtree(name)\n",
      "  File \"C:\\ProgramData\\Anaconda3\\lib\\shutil.py\", line 516, in rmtree\n",
      "    return _rmtree_unsafe(path, onerror)\n",
      "  File \"C:\\ProgramData\\Anaconda3\\lib\\shutil.py\", line 395, in _rmtree_unsafe\n",
      "    _rmtree_unsafe(fullname, onerror)\n",
      "  File \"C:\\ProgramData\\Anaconda3\\lib\\shutil.py\", line 395, in _rmtree_unsafe\n",
      "    _rmtree_unsafe(fullname, onerror)\n",
      "  File \"C:\\ProgramData\\Anaconda3\\lib\\shutil.py\", line 395, in _rmtree_unsafe\n",
      "    _rmtree_unsafe(fullname, onerror)\n",
      "  [Previous line repeated 1 more time]\n",
      "  File \"C:\\ProgramData\\Anaconda3\\lib\\shutil.py\", line 400, in _rmtree_unsafe\n",
      "    onerror(os.unlink, fullname, sys.exc_info())\n",
      "  File \"C:\\ProgramData\\Anaconda3\\lib\\shutil.py\", line 398, in _rmtree_unsafe\n",
      "    os.unlink(fullname)\n",
      "PermissionError: [WinError 5] Access is denied: 'C:\\\\Users\\\\Userpc\\\\AppData\\\\Local\\\\Temp\\\\tmp2rpx9twe\\\\marble-blueprints\\\\.git\\\\objects\\\\pack\\\\pack-0ff67c66242de9da5e276341529d096a26d2da36.idx'\n"
     ]
    },
    {
     "name": "stdout",
     "output_type": "stream",
     "text": [
      "usegalaxy-eu/infrastructure-playbook\n"
     ]
    },
    {
     "name": "stderr",
     "output_type": "stream",
     "text": [
      "Exception ignored in: <finalize object at 0xe2532abe50; dead>\n",
      "Traceback (most recent call last):\n",
      "  File \"C:\\ProgramData\\Anaconda3\\lib\\weakref.py\", line 572, in __call__\n",
      "    return info.func(*info.args, **(info.kwargs or {}))\n",
      "  File \"C:\\ProgramData\\Anaconda3\\lib\\tempfile.py\", line 797, in _cleanup\n",
      "    _shutil.rmtree(name)\n",
      "  File \"C:\\ProgramData\\Anaconda3\\lib\\shutil.py\", line 516, in rmtree\n",
      "    return _rmtree_unsafe(path, onerror)\n",
      "  File \"C:\\ProgramData\\Anaconda3\\lib\\shutil.py\", line 395, in _rmtree_unsafe\n",
      "    _rmtree_unsafe(fullname, onerror)\n",
      "  File \"C:\\ProgramData\\Anaconda3\\lib\\shutil.py\", line 395, in _rmtree_unsafe\n",
      "    _rmtree_unsafe(fullname, onerror)\n",
      "  File \"C:\\ProgramData\\Anaconda3\\lib\\shutil.py\", line 395, in _rmtree_unsafe\n",
      "    _rmtree_unsafe(fullname, onerror)\n",
      "  [Previous line repeated 1 more time]\n",
      "  File \"C:\\ProgramData\\Anaconda3\\lib\\shutil.py\", line 400, in _rmtree_unsafe\n",
      "    onerror(os.unlink, fullname, sys.exc_info())\n",
      "  File \"C:\\ProgramData\\Anaconda3\\lib\\shutil.py\", line 398, in _rmtree_unsafe\n",
      "    os.unlink(fullname)\n",
      "PermissionError: [WinError 5] Access is denied: 'C:\\\\Users\\\\Userpc\\\\AppData\\\\Local\\\\Temp\\\\tmpc47o6mko\\\\infrastructure-playbook\\\\.git\\\\objects\\\\pack\\\\pack-598a1c65485093f86f32edd4946906c3c197b32d.idx'\n"
     ]
    },
    {
     "name": "stdout",
     "output_type": "stream",
     "text": [
      "Mirantis/ceph-cm-ansible\n"
     ]
    },
    {
     "name": "stderr",
     "output_type": "stream",
     "text": [
      "Exception ignored in: <finalize object at 0xe2532aba30; dead>\n",
      "Traceback (most recent call last):\n",
      "  File \"C:\\ProgramData\\Anaconda3\\lib\\weakref.py\", line 572, in __call__\n",
      "    return info.func(*info.args, **(info.kwargs or {}))\n",
      "  File \"C:\\ProgramData\\Anaconda3\\lib\\tempfile.py\", line 797, in _cleanup\n",
      "    _shutil.rmtree(name)\n",
      "  File \"C:\\ProgramData\\Anaconda3\\lib\\shutil.py\", line 516, in rmtree\n",
      "    return _rmtree_unsafe(path, onerror)\n",
      "  File \"C:\\ProgramData\\Anaconda3\\lib\\shutil.py\", line 395, in _rmtree_unsafe\n",
      "    _rmtree_unsafe(fullname, onerror)\n",
      "  File \"C:\\ProgramData\\Anaconda3\\lib\\shutil.py\", line 395, in _rmtree_unsafe\n",
      "    _rmtree_unsafe(fullname, onerror)\n",
      "  File \"C:\\ProgramData\\Anaconda3\\lib\\shutil.py\", line 395, in _rmtree_unsafe\n",
      "    _rmtree_unsafe(fullname, onerror)\n",
      "  [Previous line repeated 1 more time]\n",
      "  File \"C:\\ProgramData\\Anaconda3\\lib\\shutil.py\", line 400, in _rmtree_unsafe\n",
      "    onerror(os.unlink, fullname, sys.exc_info())\n",
      "  File \"C:\\ProgramData\\Anaconda3\\lib\\shutil.py\", line 398, in _rmtree_unsafe\n",
      "    os.unlink(fullname)\n",
      "PermissionError: [WinError 5] Access is denied: 'C:\\\\Users\\\\Userpc\\\\AppData\\\\Local\\\\Temp\\\\tmpy5pdrnph\\\\ceph-cm-ansible\\\\.git\\\\objects\\\\pack\\\\pack-a14b20f03ed548ab42ab19a7a53b2cbc31535a12.idx'\n"
     ]
    },
    {
     "name": "stdout",
     "output_type": "stream",
     "text": [
      "iotivity/ci-management\n"
     ]
    },
    {
     "name": "stderr",
     "output_type": "stream",
     "text": [
      "Exception ignored in: <finalize object at 0xe2532abfc0; dead>\n",
      "Traceback (most recent call last):\n",
      "  File \"C:\\ProgramData\\Anaconda3\\lib\\weakref.py\", line 572, in __call__\n",
      "    return info.func(*info.args, **(info.kwargs or {}))\n",
      "  File \"C:\\ProgramData\\Anaconda3\\lib\\tempfile.py\", line 797, in _cleanup\n",
      "    _shutil.rmtree(name)\n",
      "  File \"C:\\ProgramData\\Anaconda3\\lib\\shutil.py\", line 516, in rmtree\n",
      "    return _rmtree_unsafe(path, onerror)\n",
      "  File \"C:\\ProgramData\\Anaconda3\\lib\\shutil.py\", line 395, in _rmtree_unsafe\n",
      "    _rmtree_unsafe(fullname, onerror)\n",
      "  File \"C:\\ProgramData\\Anaconda3\\lib\\shutil.py\", line 395, in _rmtree_unsafe\n",
      "    _rmtree_unsafe(fullname, onerror)\n",
      "  File \"C:\\ProgramData\\Anaconda3\\lib\\shutil.py\", line 395, in _rmtree_unsafe\n",
      "    _rmtree_unsafe(fullname, onerror)\n",
      "  [Previous line repeated 1 more time]\n",
      "  File \"C:\\ProgramData\\Anaconda3\\lib\\shutil.py\", line 400, in _rmtree_unsafe\n",
      "    onerror(os.unlink, fullname, sys.exc_info())\n",
      "  File \"C:\\ProgramData\\Anaconda3\\lib\\shutil.py\", line 398, in _rmtree_unsafe\n",
      "    os.unlink(fullname)\n",
      "PermissionError: [WinError 5] Access is denied: 'C:\\\\Users\\\\Userpc\\\\AppData\\\\Local\\\\Temp\\\\tmpp2t7shyl\\\\ci-management\\\\.git\\\\objects\\\\pack\\\\pack-0061ad38253a3afb9fedb1b97e1fbd5d141e4f05.idx'\n"
     ]
    },
    {
     "name": "stdout",
     "output_type": "stream",
     "text": [
      "splunk/splunk-ansible\n"
     ]
    },
    {
     "name": "stderr",
     "output_type": "stream",
     "text": [
      "Exception ignored in: <finalize object at 0xe2532abd90; dead>\n",
      "Traceback (most recent call last):\n",
      "  File \"C:\\ProgramData\\Anaconda3\\lib\\weakref.py\", line 572, in __call__\n",
      "    return info.func(*info.args, **(info.kwargs or {}))\n",
      "  File \"C:\\ProgramData\\Anaconda3\\lib\\tempfile.py\", line 797, in _cleanup\n",
      "    _shutil.rmtree(name)\n",
      "  File \"C:\\ProgramData\\Anaconda3\\lib\\shutil.py\", line 516, in rmtree\n",
      "    return _rmtree_unsafe(path, onerror)\n",
      "  File \"C:\\ProgramData\\Anaconda3\\lib\\shutil.py\", line 395, in _rmtree_unsafe\n",
      "    _rmtree_unsafe(fullname, onerror)\n",
      "  File \"C:\\ProgramData\\Anaconda3\\lib\\shutil.py\", line 395, in _rmtree_unsafe\n",
      "    _rmtree_unsafe(fullname, onerror)\n",
      "  File \"C:\\ProgramData\\Anaconda3\\lib\\shutil.py\", line 395, in _rmtree_unsafe\n",
      "    _rmtree_unsafe(fullname, onerror)\n",
      "  [Previous line repeated 1 more time]\n",
      "  File \"C:\\ProgramData\\Anaconda3\\lib\\shutil.py\", line 400, in _rmtree_unsafe\n",
      "    onerror(os.unlink, fullname, sys.exc_info())\n",
      "  File \"C:\\ProgramData\\Anaconda3\\lib\\shutil.py\", line 398, in _rmtree_unsafe\n",
      "    os.unlink(fullname)\n",
      "PermissionError: [WinError 5] Access is denied: 'C:\\\\Users\\\\Userpc\\\\AppData\\\\Local\\\\Temp\\\\tmpglitn357\\\\splunk-ansible\\\\.git\\\\objects\\\\pack\\\\pack-9e892d5616f5c187c73db05f77e81e3516b9f1b7.idx'\n"
     ]
    },
    {
     "name": "stdout",
     "output_type": "stream",
     "text": [
      "redhat-cip/dci-infra\n"
     ]
    },
    {
     "name": "stderr",
     "output_type": "stream",
     "text": [
      "Exception ignored in: <finalize object at 0xe2532abb90; dead>\n",
      "Traceback (most recent call last):\n",
      "  File \"C:\\ProgramData\\Anaconda3\\lib\\weakref.py\", line 572, in __call__\n",
      "    return info.func(*info.args, **(info.kwargs or {}))\n",
      "  File \"C:\\ProgramData\\Anaconda3\\lib\\tempfile.py\", line 797, in _cleanup\n",
      "    _shutil.rmtree(name)\n",
      "  File \"C:\\ProgramData\\Anaconda3\\lib\\shutil.py\", line 516, in rmtree\n",
      "    return _rmtree_unsafe(path, onerror)\n",
      "  File \"C:\\ProgramData\\Anaconda3\\lib\\shutil.py\", line 395, in _rmtree_unsafe\n",
      "    _rmtree_unsafe(fullname, onerror)\n",
      "  File \"C:\\ProgramData\\Anaconda3\\lib\\shutil.py\", line 395, in _rmtree_unsafe\n",
      "    _rmtree_unsafe(fullname, onerror)\n",
      "  File \"C:\\ProgramData\\Anaconda3\\lib\\shutil.py\", line 395, in _rmtree_unsafe\n",
      "    _rmtree_unsafe(fullname, onerror)\n",
      "  [Previous line repeated 1 more time]\n",
      "  File \"C:\\ProgramData\\Anaconda3\\lib\\shutil.py\", line 400, in _rmtree_unsafe\n",
      "    onerror(os.unlink, fullname, sys.exc_info())\n",
      "  File \"C:\\ProgramData\\Anaconda3\\lib\\shutil.py\", line 398, in _rmtree_unsafe\n",
      "    os.unlink(fullname)\n",
      "PermissionError: [WinError 5] Access is denied: 'C:\\\\Users\\\\Userpc\\\\AppData\\\\Local\\\\Temp\\\\tmphzawjr6t\\\\dci-infra\\\\.git\\\\objects\\\\pack\\\\pack-fbd7b75c7d39fe98b21f595c82e4b05a249c60e2.idx'\n"
     ]
    },
    {
     "name": "stdout",
     "output_type": "stream",
     "text": [
      "Jason-Jongjin-Lim/ocp_hosts_references\n"
     ]
    },
    {
     "name": "stderr",
     "output_type": "stream",
     "text": [
      "Exception ignored in: <finalize object at 0xe2532aba30; dead>\n",
      "Traceback (most recent call last):\n",
      "  File \"C:\\ProgramData\\Anaconda3\\lib\\weakref.py\", line 572, in __call__\n",
      "    return info.func(*info.args, **(info.kwargs or {}))\n",
      "  File \"C:\\ProgramData\\Anaconda3\\lib\\tempfile.py\", line 797, in _cleanup\n",
      "    _shutil.rmtree(name)\n",
      "  File \"C:\\ProgramData\\Anaconda3\\lib\\shutil.py\", line 516, in rmtree\n",
      "    return _rmtree_unsafe(path, onerror)\n",
      "  File \"C:\\ProgramData\\Anaconda3\\lib\\shutil.py\", line 395, in _rmtree_unsafe\n",
      "    _rmtree_unsafe(fullname, onerror)\n",
      "  File \"C:\\ProgramData\\Anaconda3\\lib\\shutil.py\", line 395, in _rmtree_unsafe\n",
      "    _rmtree_unsafe(fullname, onerror)\n",
      "  File \"C:\\ProgramData\\Anaconda3\\lib\\shutil.py\", line 395, in _rmtree_unsafe\n",
      "    _rmtree_unsafe(fullname, onerror)\n",
      "  [Previous line repeated 1 more time]\n",
      "  File \"C:\\ProgramData\\Anaconda3\\lib\\shutil.py\", line 400, in _rmtree_unsafe\n",
      "    onerror(os.unlink, fullname, sys.exc_info())\n",
      "  File \"C:\\ProgramData\\Anaconda3\\lib\\shutil.py\", line 398, in _rmtree_unsafe\n",
      "    os.unlink(fullname)\n",
      "PermissionError: [WinError 5] Access is denied: 'C:\\\\Users\\\\Userpc\\\\AppData\\\\Local\\\\Temp\\\\tmpnhekqjf5\\\\ocp_hosts_references\\\\.git\\\\objects\\\\pack\\\\pack-49c60fea6f09803c1bb2fbc48b3564e4d8eb5689.idx'\n"
     ]
    },
    {
     "name": "stdout",
     "output_type": "stream",
     "text": [
      "rcbops/openstack-ops\n"
     ]
    },
    {
     "name": "stderr",
     "output_type": "stream",
     "text": [
      "Exception ignored in: <finalize object at 0xe2532abc10; dead>\n",
      "Traceback (most recent call last):\n",
      "  File \"C:\\ProgramData\\Anaconda3\\lib\\weakref.py\", line 572, in __call__\n",
      "    return info.func(*info.args, **(info.kwargs or {}))\n",
      "  File \"C:\\ProgramData\\Anaconda3\\lib\\tempfile.py\", line 797, in _cleanup\n",
      "    _shutil.rmtree(name)\n",
      "  File \"C:\\ProgramData\\Anaconda3\\lib\\shutil.py\", line 516, in rmtree\n",
      "    return _rmtree_unsafe(path, onerror)\n",
      "  File \"C:\\ProgramData\\Anaconda3\\lib\\shutil.py\", line 395, in _rmtree_unsafe\n",
      "    _rmtree_unsafe(fullname, onerror)\n",
      "  File \"C:\\ProgramData\\Anaconda3\\lib\\shutil.py\", line 395, in _rmtree_unsafe\n",
      "    _rmtree_unsafe(fullname, onerror)\n",
      "  File \"C:\\ProgramData\\Anaconda3\\lib\\shutil.py\", line 395, in _rmtree_unsafe\n",
      "    _rmtree_unsafe(fullname, onerror)\n",
      "  [Previous line repeated 1 more time]\n",
      "  File \"C:\\ProgramData\\Anaconda3\\lib\\shutil.py\", line 400, in _rmtree_unsafe\n",
      "    onerror(os.unlink, fullname, sys.exc_info())\n",
      "  File \"C:\\ProgramData\\Anaconda3\\lib\\shutil.py\", line 398, in _rmtree_unsafe\n",
      "    os.unlink(fullname)\n",
      "PermissionError: [WinError 5] Access is denied: 'C:\\\\Users\\\\Userpc\\\\AppData\\\\Local\\\\Temp\\\\tmpsrdy9uxs\\\\openstack-ops\\\\.git\\\\objects\\\\pack\\\\pack-41b2365c5c3973ca7651eb22669e751a64476392.idx'\n"
     ]
    },
    {
     "name": "stdout",
     "output_type": "stream",
     "text": [
      "plone/ansible-playbook\n"
     ]
    },
    {
     "name": "stderr",
     "output_type": "stream",
     "text": [
      "Exception ignored in: <finalize object at 0xe2532abf50; dead>\n",
      "Traceback (most recent call last):\n",
      "  File \"C:\\ProgramData\\Anaconda3\\lib\\weakref.py\", line 572, in __call__\n",
      "    return info.func(*info.args, **(info.kwargs or {}))\n",
      "  File \"C:\\ProgramData\\Anaconda3\\lib\\tempfile.py\", line 797, in _cleanup\n",
      "    _shutil.rmtree(name)\n",
      "  File \"C:\\ProgramData\\Anaconda3\\lib\\shutil.py\", line 516, in rmtree\n",
      "    return _rmtree_unsafe(path, onerror)\n",
      "  File \"C:\\ProgramData\\Anaconda3\\lib\\shutil.py\", line 395, in _rmtree_unsafe\n",
      "    _rmtree_unsafe(fullname, onerror)\n",
      "  File \"C:\\ProgramData\\Anaconda3\\lib\\shutil.py\", line 395, in _rmtree_unsafe\n",
      "    _rmtree_unsafe(fullname, onerror)\n",
      "  File \"C:\\ProgramData\\Anaconda3\\lib\\shutil.py\", line 395, in _rmtree_unsafe\n",
      "    _rmtree_unsafe(fullname, onerror)\n",
      "  [Previous line repeated 1 more time]\n",
      "  File \"C:\\ProgramData\\Anaconda3\\lib\\shutil.py\", line 400, in _rmtree_unsafe\n",
      "    onerror(os.unlink, fullname, sys.exc_info())\n",
      "  File \"C:\\ProgramData\\Anaconda3\\lib\\shutil.py\", line 398, in _rmtree_unsafe\n",
      "    os.unlink(fullname)\n",
      "PermissionError: [WinError 5] Access is denied: 'C:\\\\Users\\\\Userpc\\\\AppData\\\\Local\\\\Temp\\\\tmpufq101tp\\\\ansible-playbook\\\\.git\\\\objects\\\\pack\\\\pack-fea9be1abf08cd3c686799be42601275617b0bfe.idx'\n"
     ]
    },
    {
     "name": "stdout",
     "output_type": "stream",
     "text": [
      "openstack/openstack-helm-infra\n"
     ]
    },
    {
     "name": "stderr",
     "output_type": "stream",
     "text": [
      "Exception ignored in: <finalize object at 0xe2532ab7b0; dead>\n",
      "Traceback (most recent call last):\n",
      "  File \"C:\\ProgramData\\Anaconda3\\lib\\weakref.py\", line 572, in __call__\n",
      "    return info.func(*info.args, **(info.kwargs or {}))\n",
      "  File \"C:\\ProgramData\\Anaconda3\\lib\\tempfile.py\", line 797, in _cleanup\n",
      "    _shutil.rmtree(name)\n",
      "  File \"C:\\ProgramData\\Anaconda3\\lib\\shutil.py\", line 516, in rmtree\n",
      "    return _rmtree_unsafe(path, onerror)\n",
      "  File \"C:\\ProgramData\\Anaconda3\\lib\\shutil.py\", line 395, in _rmtree_unsafe\n",
      "    _rmtree_unsafe(fullname, onerror)\n",
      "  File \"C:\\ProgramData\\Anaconda3\\lib\\shutil.py\", line 395, in _rmtree_unsafe\n",
      "    _rmtree_unsafe(fullname, onerror)\n",
      "  File \"C:\\ProgramData\\Anaconda3\\lib\\shutil.py\", line 395, in _rmtree_unsafe\n",
      "    _rmtree_unsafe(fullname, onerror)\n",
      "  [Previous line repeated 1 more time]\n",
      "  File \"C:\\ProgramData\\Anaconda3\\lib\\shutil.py\", line 400, in _rmtree_unsafe\n",
      "    onerror(os.unlink, fullname, sys.exc_info())\n",
      "  File \"C:\\ProgramData\\Anaconda3\\lib\\shutil.py\", line 398, in _rmtree_unsafe\n",
      "    os.unlink(fullname)\n",
      "PermissionError: [WinError 5] Access is denied: 'C:\\\\Users\\\\Userpc\\\\AppData\\\\Local\\\\Temp\\\\tmpsqvq8cos\\\\openstack-helm-infra\\\\.git\\\\objects\\\\pack\\\\pack-c552eea3fd4f62aae8a183210e75d463c8487381.idx'\n"
     ]
    },
    {
     "name": "stdout",
     "output_type": "stream",
     "text": [
      "devopspoc-ram/sensu\n"
     ]
    },
    {
     "name": "stderr",
     "output_type": "stream",
     "text": [
      "Exception ignored in: <finalize object at 0xe2532aba00; dead>\n",
      "Traceback (most recent call last):\n",
      "  File \"C:\\ProgramData\\Anaconda3\\lib\\weakref.py\", line 572, in __call__\n",
      "    return info.func(*info.args, **(info.kwargs or {}))\n",
      "  File \"C:\\ProgramData\\Anaconda3\\lib\\tempfile.py\", line 797, in _cleanup\n",
      "    _shutil.rmtree(name)\n",
      "  File \"C:\\ProgramData\\Anaconda3\\lib\\shutil.py\", line 516, in rmtree\n",
      "    return _rmtree_unsafe(path, onerror)\n",
      "  File \"C:\\ProgramData\\Anaconda3\\lib\\shutil.py\", line 395, in _rmtree_unsafe\n",
      "    _rmtree_unsafe(fullname, onerror)\n",
      "  File \"C:\\ProgramData\\Anaconda3\\lib\\shutil.py\", line 395, in _rmtree_unsafe\n",
      "    _rmtree_unsafe(fullname, onerror)\n",
      "  File \"C:\\ProgramData\\Anaconda3\\lib\\shutil.py\", line 395, in _rmtree_unsafe\n",
      "    _rmtree_unsafe(fullname, onerror)\n",
      "  [Previous line repeated 1 more time]\n",
      "  File \"C:\\ProgramData\\Anaconda3\\lib\\shutil.py\", line 400, in _rmtree_unsafe\n",
      "    onerror(os.unlink, fullname, sys.exc_info())\n",
      "  File \"C:\\ProgramData\\Anaconda3\\lib\\shutil.py\", line 398, in _rmtree_unsafe\n",
      "    os.unlink(fullname)\n",
      "PermissionError: [WinError 5] Access is denied: 'C:\\\\Users\\\\Userpc\\\\AppData\\\\Local\\\\Temp\\\\tmpqrqf_yeh\\\\sensu\\\\.git\\\\objects\\\\pack\\\\pack-66be3572b9ba4ad4e9ab8fd7320605689dcc9b7f.idx'\n"
     ]
    },
    {
     "name": "stdout",
     "output_type": "stream",
     "text": [
      "ceph/ceph-ansible\n"
     ]
    },
    {
     "name": "stderr",
     "output_type": "stream",
     "text": [
      "Exception ignored in: <finalize object at 0xe2532ab470; dead>\n",
      "Traceback (most recent call last):\n",
      "  File \"C:\\ProgramData\\Anaconda3\\lib\\weakref.py\", line 572, in __call__\n",
      "    return info.func(*info.args, **(info.kwargs or {}))\n",
      "  File \"C:\\ProgramData\\Anaconda3\\lib\\tempfile.py\", line 797, in _cleanup\n",
      "    _shutil.rmtree(name)\n",
      "  File \"C:\\ProgramData\\Anaconda3\\lib\\shutil.py\", line 516, in rmtree\n",
      "    return _rmtree_unsafe(path, onerror)\n",
      "  File \"C:\\ProgramData\\Anaconda3\\lib\\shutil.py\", line 395, in _rmtree_unsafe\n",
      "    _rmtree_unsafe(fullname, onerror)\n",
      "  File \"C:\\ProgramData\\Anaconda3\\lib\\shutil.py\", line 395, in _rmtree_unsafe\n",
      "    _rmtree_unsafe(fullname, onerror)\n",
      "  File \"C:\\ProgramData\\Anaconda3\\lib\\shutil.py\", line 395, in _rmtree_unsafe\n",
      "    _rmtree_unsafe(fullname, onerror)\n",
      "  [Previous line repeated 1 more time]\n",
      "  File \"C:\\ProgramData\\Anaconda3\\lib\\shutil.py\", line 400, in _rmtree_unsafe\n",
      "    onerror(os.unlink, fullname, sys.exc_info())\n",
      "  File \"C:\\ProgramData\\Anaconda3\\lib\\shutil.py\", line 398, in _rmtree_unsafe\n",
      "    os.unlink(fullname)\n",
      "PermissionError: [WinError 5] Access is denied: 'C:\\\\Users\\\\Userpc\\\\AppData\\\\Local\\\\Temp\\\\tmpfp__yzqi\\\\ceph-ansible\\\\.git\\\\objects\\\\pack\\\\pack-1f35155a46b51aff34f64f73e688d2d83a4c6a42.idx'\n"
     ]
    },
    {
     "name": "stdout",
     "output_type": "stream",
     "text": [
      "openstack/tripleo-quickstart-extras\n"
     ]
    },
    {
     "name": "stderr",
     "output_type": "stream",
     "text": [
      "Exception ignored in: <finalize object at 0xe2532aba30; dead>\n",
      "Traceback (most recent call last):\n",
      "  File \"C:\\ProgramData\\Anaconda3\\lib\\weakref.py\", line 572, in __call__\n",
      "    return info.func(*info.args, **(info.kwargs or {}))\n",
      "  File \"C:\\ProgramData\\Anaconda3\\lib\\tempfile.py\", line 797, in _cleanup\n",
      "    _shutil.rmtree(name)\n",
      "  File \"C:\\ProgramData\\Anaconda3\\lib\\shutil.py\", line 516, in rmtree\n",
      "    return _rmtree_unsafe(path, onerror)\n",
      "  File \"C:\\ProgramData\\Anaconda3\\lib\\shutil.py\", line 395, in _rmtree_unsafe\n",
      "    _rmtree_unsafe(fullname, onerror)\n",
      "  File \"C:\\ProgramData\\Anaconda3\\lib\\shutil.py\", line 395, in _rmtree_unsafe\n",
      "    _rmtree_unsafe(fullname, onerror)\n",
      "  File \"C:\\ProgramData\\Anaconda3\\lib\\shutil.py\", line 395, in _rmtree_unsafe\n",
      "    _rmtree_unsafe(fullname, onerror)\n",
      "  [Previous line repeated 1 more time]\n",
      "  File \"C:\\ProgramData\\Anaconda3\\lib\\shutil.py\", line 400, in _rmtree_unsafe\n",
      "    onerror(os.unlink, fullname, sys.exc_info())\n",
      "  File \"C:\\ProgramData\\Anaconda3\\lib\\shutil.py\", line 398, in _rmtree_unsafe\n",
      "    os.unlink(fullname)\n",
      "PermissionError: [WinError 5] Access is denied: 'C:\\\\Users\\\\Userpc\\\\AppData\\\\Local\\\\Temp\\\\tmp4ea29l9k\\\\tripleo-quickstart-extras\\\\.git\\\\objects\\\\pack\\\\pack-51d53f6bfcca6a77c7eabaea03bd798bd2d0a8bf.idx'\n"
     ]
    },
    {
     "name": "stdout",
     "output_type": "stream",
     "text": [
      "netbootxyz/netboot.xyz\n"
     ]
    },
    {
     "name": "stderr",
     "output_type": "stream",
     "text": [
      "Exception ignored in: <finalize object at 0xe2532abb80; dead>\n",
      "Traceback (most recent call last):\n",
      "  File \"C:\\ProgramData\\Anaconda3\\lib\\weakref.py\", line 572, in __call__\n",
      "    return info.func(*info.args, **(info.kwargs or {}))\n",
      "  File \"C:\\ProgramData\\Anaconda3\\lib\\tempfile.py\", line 797, in _cleanup\n",
      "    _shutil.rmtree(name)\n",
      "  File \"C:\\ProgramData\\Anaconda3\\lib\\shutil.py\", line 516, in rmtree\n",
      "    return _rmtree_unsafe(path, onerror)\n",
      "  File \"C:\\ProgramData\\Anaconda3\\lib\\shutil.py\", line 395, in _rmtree_unsafe\n",
      "    _rmtree_unsafe(fullname, onerror)\n",
      "  File \"C:\\ProgramData\\Anaconda3\\lib\\shutil.py\", line 395, in _rmtree_unsafe\n",
      "    _rmtree_unsafe(fullname, onerror)\n",
      "  File \"C:\\ProgramData\\Anaconda3\\lib\\shutil.py\", line 395, in _rmtree_unsafe\n",
      "    _rmtree_unsafe(fullname, onerror)\n",
      "  [Previous line repeated 1 more time]\n",
      "  File \"C:\\ProgramData\\Anaconda3\\lib\\shutil.py\", line 400, in _rmtree_unsafe\n",
      "    onerror(os.unlink, fullname, sys.exc_info())\n",
      "  File \"C:\\ProgramData\\Anaconda3\\lib\\shutil.py\", line 398, in _rmtree_unsafe\n",
      "    os.unlink(fullname)\n",
      "PermissionError: [WinError 5] Access is denied: 'C:\\\\Users\\\\Userpc\\\\AppData\\\\Local\\\\Temp\\\\tmpguf15wef\\\\netboot.xyz\\\\.git\\\\objects\\\\pack\\\\pack-c664dbb800989c05bca1402a93658c2603a3cae6.idx'\n"
     ]
    },
    {
     "name": "stdout",
     "output_type": "stream",
     "text": [
      "openstack/openstack-ansible\n"
     ]
    },
    {
     "name": "stderr",
     "output_type": "stream",
     "text": [
      "Exception ignored in: <finalize object at 0xe2532aba00; dead>\n",
      "Traceback (most recent call last):\n",
      "  File \"C:\\ProgramData\\Anaconda3\\lib\\weakref.py\", line 572, in __call__\n",
      "    return info.func(*info.args, **(info.kwargs or {}))\n",
      "  File \"C:\\ProgramData\\Anaconda3\\lib\\tempfile.py\", line 797, in _cleanup\n",
      "    _shutil.rmtree(name)\n",
      "  File \"C:\\ProgramData\\Anaconda3\\lib\\shutil.py\", line 516, in rmtree\n",
      "    return _rmtree_unsafe(path, onerror)\n",
      "  File \"C:\\ProgramData\\Anaconda3\\lib\\shutil.py\", line 395, in _rmtree_unsafe\n",
      "    _rmtree_unsafe(fullname, onerror)\n",
      "  File \"C:\\ProgramData\\Anaconda3\\lib\\shutil.py\", line 395, in _rmtree_unsafe\n",
      "    _rmtree_unsafe(fullname, onerror)\n",
      "  File \"C:\\ProgramData\\Anaconda3\\lib\\shutil.py\", line 395, in _rmtree_unsafe\n",
      "    _rmtree_unsafe(fullname, onerror)\n",
      "  [Previous line repeated 1 more time]\n",
      "  File \"C:\\ProgramData\\Anaconda3\\lib\\shutil.py\", line 400, in _rmtree_unsafe\n",
      "    onerror(os.unlink, fullname, sys.exc_info())\n",
      "  File \"C:\\ProgramData\\Anaconda3\\lib\\shutil.py\", line 398, in _rmtree_unsafe\n",
      "    os.unlink(fullname)\n",
      "PermissionError: [WinError 5] Access is denied: 'C:\\\\Users\\\\Userpc\\\\AppData\\\\Local\\\\Temp\\\\tmpd_n_f_up\\\\openstack-ansible\\\\.git\\\\objects\\\\pack\\\\pack-e97c00d62a1b5487be96e9041f1b04f6e9875a4f.idx'\n"
     ]
    },
    {
     "name": "stdout",
     "output_type": "stream",
     "text": [
      "openstack/ansible-role-collect-logs\n"
     ]
    },
    {
     "name": "stderr",
     "output_type": "stream",
     "text": [
      "Exception ignored in: <finalize object at 0xe2532ab470; dead>\n",
      "Traceback (most recent call last):\n",
      "  File \"C:\\ProgramData\\Anaconda3\\lib\\weakref.py\", line 572, in __call__\n",
      "    return info.func(*info.args, **(info.kwargs or {}))\n",
      "  File \"C:\\ProgramData\\Anaconda3\\lib\\tempfile.py\", line 797, in _cleanup\n",
      "    _shutil.rmtree(name)\n",
      "  File \"C:\\ProgramData\\Anaconda3\\lib\\shutil.py\", line 516, in rmtree\n",
      "    return _rmtree_unsafe(path, onerror)\n",
      "  File \"C:\\ProgramData\\Anaconda3\\lib\\shutil.py\", line 395, in _rmtree_unsafe\n",
      "    _rmtree_unsafe(fullname, onerror)\n",
      "  File \"C:\\ProgramData\\Anaconda3\\lib\\shutil.py\", line 395, in _rmtree_unsafe\n",
      "    _rmtree_unsafe(fullname, onerror)\n",
      "  File \"C:\\ProgramData\\Anaconda3\\lib\\shutil.py\", line 395, in _rmtree_unsafe\n",
      "    _rmtree_unsafe(fullname, onerror)\n",
      "  [Previous line repeated 1 more time]\n",
      "  File \"C:\\ProgramData\\Anaconda3\\lib\\shutil.py\", line 400, in _rmtree_unsafe\n",
      "    onerror(os.unlink, fullname, sys.exc_info())\n",
      "  File \"C:\\ProgramData\\Anaconda3\\lib\\shutil.py\", line 398, in _rmtree_unsafe\n",
      "    os.unlink(fullname)\n",
      "PermissionError: [WinError 5] Access is denied: 'C:\\\\Users\\\\Userpc\\\\AppData\\\\Local\\\\Temp\\\\tmptul6tk4x\\\\ansible-role-collect-logs\\\\.git\\\\objects\\\\pack\\\\pack-35db75b23db01d8b3abf95d9c9cbce6b00d27702.idx'\n"
     ]
    },
    {
     "name": "stdout",
     "output_type": "stream",
     "text": [
      "f5devcentral/f5-agility-labs-containers\n"
     ]
    },
    {
     "name": "stderr",
     "output_type": "stream",
     "text": [
      "Exception ignored in: <finalize object at 0xe2532ab940; dead>\n",
      "Traceback (most recent call last):\n",
      "  File \"C:\\ProgramData\\Anaconda3\\lib\\weakref.py\", line 572, in __call__\n",
      "    return info.func(*info.args, **(info.kwargs or {}))\n",
      "  File \"C:\\ProgramData\\Anaconda3\\lib\\tempfile.py\", line 797, in _cleanup\n",
      "    _shutil.rmtree(name)\n",
      "  File \"C:\\ProgramData\\Anaconda3\\lib\\shutil.py\", line 516, in rmtree\n",
      "    return _rmtree_unsafe(path, onerror)\n",
      "  File \"C:\\ProgramData\\Anaconda3\\lib\\shutil.py\", line 395, in _rmtree_unsafe\n",
      "    _rmtree_unsafe(fullname, onerror)\n",
      "  File \"C:\\ProgramData\\Anaconda3\\lib\\shutil.py\", line 395, in _rmtree_unsafe\n",
      "    _rmtree_unsafe(fullname, onerror)\n",
      "  File \"C:\\ProgramData\\Anaconda3\\lib\\shutil.py\", line 395, in _rmtree_unsafe\n",
      "    _rmtree_unsafe(fullname, onerror)\n",
      "  [Previous line repeated 1 more time]\n",
      "  File \"C:\\ProgramData\\Anaconda3\\lib\\shutil.py\", line 400, in _rmtree_unsafe\n",
      "    onerror(os.unlink, fullname, sys.exc_info())\n",
      "  File \"C:\\ProgramData\\Anaconda3\\lib\\shutil.py\", line 398, in _rmtree_unsafe\n",
      "    os.unlink(fullname)\n",
      "PermissionError: [WinError 5] Access is denied: 'C:\\\\Users\\\\Userpc\\\\AppData\\\\Local\\\\Temp\\\\tmpntrya3nj\\\\f5-agility-labs-containers\\\\.git\\\\objects\\\\pack\\\\pack-64ac4341a02b8e9855eb2ee1d887a9ba845371a7.idx'\n"
     ]
    },
    {
     "name": "stdout",
     "output_type": "stream",
     "text": [
      "centos-opstools/opstools-ansible\n"
     ]
    },
    {
     "name": "stderr",
     "output_type": "stream",
     "text": [
      "Exception ignored in: <finalize object at 0xe2532ab590; dead>\n",
      "Traceback (most recent call last):\n",
      "  File \"C:\\ProgramData\\Anaconda3\\lib\\weakref.py\", line 572, in __call__\n",
      "    return info.func(*info.args, **(info.kwargs or {}))\n",
      "  File \"C:\\ProgramData\\Anaconda3\\lib\\tempfile.py\", line 797, in _cleanup\n",
      "    _shutil.rmtree(name)\n",
      "  File \"C:\\ProgramData\\Anaconda3\\lib\\shutil.py\", line 516, in rmtree\n",
      "    return _rmtree_unsafe(path, onerror)\n",
      "  File \"C:\\ProgramData\\Anaconda3\\lib\\shutil.py\", line 395, in _rmtree_unsafe\n",
      "    _rmtree_unsafe(fullname, onerror)\n",
      "  File \"C:\\ProgramData\\Anaconda3\\lib\\shutil.py\", line 395, in _rmtree_unsafe\n",
      "    _rmtree_unsafe(fullname, onerror)\n",
      "  File \"C:\\ProgramData\\Anaconda3\\lib\\shutil.py\", line 395, in _rmtree_unsafe\n",
      "    _rmtree_unsafe(fullname, onerror)\n",
      "  [Previous line repeated 1 more time]\n",
      "  File \"C:\\ProgramData\\Anaconda3\\lib\\shutil.py\", line 400, in _rmtree_unsafe\n",
      "    onerror(os.unlink, fullname, sys.exc_info())\n",
      "  File \"C:\\ProgramData\\Anaconda3\\lib\\shutil.py\", line 398, in _rmtree_unsafe\n",
      "    os.unlink(fullname)\n",
      "PermissionError: [WinError 5] Access is denied: 'C:\\\\Users\\\\Userpc\\\\AppData\\\\Local\\\\Temp\\\\tmp7wymo71b\\\\opstools-ansible\\\\.git\\\\objects\\\\pack\\\\pack-22b40f7ae3d31cf6215fa4450b5f5bc84fdaebb1.idx'\n"
     ]
    },
    {
     "data": {
      "text/html": [
       "<div>\n",
       "<style scoped>\n",
       "    .dataframe tbody tr th:only-of-type {\n",
       "        vertical-align: middle;\n",
       "    }\n",
       "\n",
       "    .dataframe tbody tr th {\n",
       "        vertical-align: top;\n",
       "    }\n",
       "\n",
       "    .dataframe thead th {\n",
       "        text-align: right;\n",
       "    }\n",
       "</style>\n",
       "<table border=\"1\" class=\"dataframe\">\n",
       "  <thead>\n",
       "    <tr style=\"text-align: right;\">\n",
       "      <th></th>\n",
       "      <th>Repo name</th>\n",
       "      <th>Commit hash</th>\n",
       "      <th>Commit msg</th>\n",
       "      <th>keywords</th>\n",
       "    </tr>\n",
       "  </thead>\n",
       "  <tbody>\n",
       "    <tr>\n",
       "      <th>0</th>\n",
       "      <td>hashnfv/hashnfv-qtip</td>\n",
       "      <td>9dec9cdeaafb8c336dda3d61a92542ff63e1c6ff</td>\n",
       "      <td>Resolved bug in sys_info_collection playbook\\n...</td>\n",
       "      <td>{bug}</td>\n",
       "    </tr>\n",
       "    <tr>\n",
       "      <th>1</th>\n",
       "      <td>hashnfv/hashnfv-qtip</td>\n",
       "      <td>4c06a4ed3b3b22e3dbcddb33dda33ca773dfae11</td>\n",
       "      <td>error handling for the files being input to th...</td>\n",
       "      <td>{fix, bug}</td>\n",
       "    </tr>\n",
       "    <tr>\n",
       "      <th>2</th>\n",
       "      <td>hashnfv/hashnfv-qtip</td>\n",
       "      <td>3602709256e3e060dbbaf26c85f38891be4c7aa9</td>\n",
       "      <td>Patch for fixing ramspeed result_transform bug...</td>\n",
       "      <td>{bug}</td>\n",
       "    </tr>\n",
       "    <tr>\n",
       "      <th>3</th>\n",
       "      <td>hashnfv/hashnfv-qtip</td>\n",
       "      <td>bec658afadacfeeca9fbfbe598ceb5c5601a3372</td>\n",
       "      <td>run_qtip.sh fix\\n\\nRenamed compute.txt to comp...</td>\n",
       "      <td>{fix}</td>\n",
       "    </tr>\n",
       "    <tr>\n",
       "      <th>4</th>\n",
       "      <td>hashnfv/hashnfv-qtip</td>\n",
       "      <td>9cff8cab939a91867f413d2ecdf09aa93f40bfc0</td>\n",
       "      <td>bug fix in pushtodb\\n\\nChange-Id: I2cba0a80527...</td>\n",
       "      <td>{fix, bug}</td>\n",
       "    </tr>\n",
       "    <tr>\n",
       "      <th>...</th>\n",
       "      <td>...</td>\n",
       "      <td>...</td>\n",
       "      <td>...</td>\n",
       "      <td>...</td>\n",
       "    </tr>\n",
       "    <tr>\n",
       "      <th>18</th>\n",
       "      <td>centos-opstools/opstools-ansible</td>\n",
       "      <td>b2fe375803760f6cb66360da295021ae62700bdb</td>\n",
       "      <td>Add support for enabling authentication on the...</td>\n",
       "      <td>{authentication}</td>\n",
       "    </tr>\n",
       "    <tr>\n",
       "      <th>19</th>\n",
       "      <td>centos-opstools/opstools-ansible</td>\n",
       "      <td>fa30c47547c9e1208c1160af6a20c11d5814c734</td>\n",
       "      <td>Clearing things up, add documentation\\n\\nAdd d...</td>\n",
       "      <td>{performance}</td>\n",
       "    </tr>\n",
       "    <tr>\n",
       "      <th>20</th>\n",
       "      <td>centos-opstools/opstools-ansible</td>\n",
       "      <td>aae60bab41f70249e85bd3ac3c387771f5b8ecdb</td>\n",
       "      <td>grafana: fix gnocchi datasource config\\n\\nGraf...</td>\n",
       "      <td>{fix}</td>\n",
       "    </tr>\n",
       "    <tr>\n",
       "      <th>21</th>\n",
       "      <td>centos-opstools/opstools-ansible</td>\n",
       "      <td>f111941e50b1c6628ff9ed1caad17e4decb7dcdc</td>\n",
       "      <td>Open gnocchi port - Refactor gnocchi\\n\\nCurren...</td>\n",
       "      <td>{refactor}</td>\n",
       "    </tr>\n",
       "    <tr>\n",
       "      <th>22</th>\n",
       "      <td>centos-opstools/opstools-ansible</td>\n",
       "      <td>ed00db753e364834fcffb431035ba0d1bb6faf34</td>\n",
       "      <td>Check management refactor\\n\\nCurrent Sensu che...</td>\n",
       "      <td>{refactor}</td>\n",
       "    </tr>\n",
       "  </tbody>\n",
       "</table>\n",
       "<p>4493 rows × 4 columns</p>\n",
       "</div>"
      ],
      "text/plain": [
       "                           Repo name  \\\n",
       "0               hashnfv/hashnfv-qtip   \n",
       "1               hashnfv/hashnfv-qtip   \n",
       "2               hashnfv/hashnfv-qtip   \n",
       "3               hashnfv/hashnfv-qtip   \n",
       "4               hashnfv/hashnfv-qtip   \n",
       "..                               ...   \n",
       "18  centos-opstools/opstools-ansible   \n",
       "19  centos-opstools/opstools-ansible   \n",
       "20  centos-opstools/opstools-ansible   \n",
       "21  centos-opstools/opstools-ansible   \n",
       "22  centos-opstools/opstools-ansible   \n",
       "\n",
       "                                 Commit hash  \\\n",
       "0   9dec9cdeaafb8c336dda3d61a92542ff63e1c6ff   \n",
       "1   4c06a4ed3b3b22e3dbcddb33dda33ca773dfae11   \n",
       "2   3602709256e3e060dbbaf26c85f38891be4c7aa9   \n",
       "3   bec658afadacfeeca9fbfbe598ceb5c5601a3372   \n",
       "4   9cff8cab939a91867f413d2ecdf09aa93f40bfc0   \n",
       "..                                       ...   \n",
       "18  b2fe375803760f6cb66360da295021ae62700bdb   \n",
       "19  fa30c47547c9e1208c1160af6a20c11d5814c734   \n",
       "20  aae60bab41f70249e85bd3ac3c387771f5b8ecdb   \n",
       "21  f111941e50b1c6628ff9ed1caad17e4decb7dcdc   \n",
       "22  ed00db753e364834fcffb431035ba0d1bb6faf34   \n",
       "\n",
       "                                           Commit msg          keywords  \n",
       "0   Resolved bug in sys_info_collection playbook\\n...             {bug}  \n",
       "1   error handling for the files being input to th...        {fix, bug}  \n",
       "2   Patch for fixing ramspeed result_transform bug...             {bug}  \n",
       "3   run_qtip.sh fix\\n\\nRenamed compute.txt to comp...             {fix}  \n",
       "4   bug fix in pushtodb\\n\\nChange-Id: I2cba0a80527...        {fix, bug}  \n",
       "..                                                ...               ...  \n",
       "18  Add support for enabling authentication on the...  {authentication}  \n",
       "19  Clearing things up, add documentation\\n\\nAdd d...     {performance}  \n",
       "20  grafana: fix gnocchi datasource config\\n\\nGraf...             {fix}  \n",
       "21  Open gnocchi port - Refactor gnocchi\\n\\nCurren...        {refactor}  \n",
       "22  Check management refactor\\n\\nCurrent Sensu che...        {refactor}  \n",
       "\n",
       "[4493 rows x 4 columns]"
      ]
     },
     "execution_count": 51,
     "metadata": {},
     "output_type": "execute_result"
    }
   ],
   "source": [
    "table = pd.DataFrame()\n",
    "\n",
    "for repo in final_list:\n",
    "    \n",
    "    print(repo)\n",
    "    repo_commit_messages = create_commits_table(repo, commit_message_keywords)\n",
    "    table = table.append(repo_commit_messages)\n",
    "    \n",
    "table"
   ]
  },
  {
   "cell_type": "code",
   "execution_count": 52,
   "metadata": {},
   "outputs": [
    {
     "data": {
      "text/html": [
       "<div>\n",
       "<style scoped>\n",
       "    .dataframe tbody tr th:only-of-type {\n",
       "        vertical-align: middle;\n",
       "    }\n",
       "\n",
       "    .dataframe tbody tr th {\n",
       "        vertical-align: top;\n",
       "    }\n",
       "\n",
       "    .dataframe thead th {\n",
       "        text-align: right;\n",
       "    }\n",
       "</style>\n",
       "<table border=\"1\" class=\"dataframe\">\n",
       "  <thead>\n",
       "    <tr style=\"text-align: right;\">\n",
       "      <th></th>\n",
       "      <th>Repo name</th>\n",
       "      <th>Commit hash</th>\n",
       "      <th>Commit msg</th>\n",
       "      <th>keywords</th>\n",
       "      <th>full_commit_url</th>\n",
       "    </tr>\n",
       "  </thead>\n",
       "  <tbody>\n",
       "    <tr>\n",
       "      <th>0</th>\n",
       "      <td>hashnfv/hashnfv-qtip</td>\n",
       "      <td>9dec9cdeaafb8c336dda3d61a92542ff63e1c6ff</td>\n",
       "      <td>Resolved bug in sys_info_collection playbook\\n...</td>\n",
       "      <td>{bug}</td>\n",
       "      <td>https://github.com/hashnfv/hashnfv-qtip/commit...</td>\n",
       "    </tr>\n",
       "    <tr>\n",
       "      <th>1</th>\n",
       "      <td>hashnfv/hashnfv-qtip</td>\n",
       "      <td>4c06a4ed3b3b22e3dbcddb33dda33ca773dfae11</td>\n",
       "      <td>error handling for the files being input to th...</td>\n",
       "      <td>{fix, bug}</td>\n",
       "      <td>https://github.com/hashnfv/hashnfv-qtip/commit...</td>\n",
       "    </tr>\n",
       "    <tr>\n",
       "      <th>2</th>\n",
       "      <td>hashnfv/hashnfv-qtip</td>\n",
       "      <td>3602709256e3e060dbbaf26c85f38891be4c7aa9</td>\n",
       "      <td>Patch for fixing ramspeed result_transform bug...</td>\n",
       "      <td>{bug}</td>\n",
       "      <td>https://github.com/hashnfv/hashnfv-qtip/commit...</td>\n",
       "    </tr>\n",
       "    <tr>\n",
       "      <th>3</th>\n",
       "      <td>hashnfv/hashnfv-qtip</td>\n",
       "      <td>bec658afadacfeeca9fbfbe598ceb5c5601a3372</td>\n",
       "      <td>run_qtip.sh fix\\n\\nRenamed compute.txt to comp...</td>\n",
       "      <td>{fix}</td>\n",
       "      <td>https://github.com/hashnfv/hashnfv-qtip/commit...</td>\n",
       "    </tr>\n",
       "    <tr>\n",
       "      <th>4</th>\n",
       "      <td>hashnfv/hashnfv-qtip</td>\n",
       "      <td>9cff8cab939a91867f413d2ecdf09aa93f40bfc0</td>\n",
       "      <td>bug fix in pushtodb\\n\\nChange-Id: I2cba0a80527...</td>\n",
       "      <td>{fix, bug}</td>\n",
       "      <td>https://github.com/hashnfv/hashnfv-qtip/commit...</td>\n",
       "    </tr>\n",
       "    <tr>\n",
       "      <th>...</th>\n",
       "      <td>...</td>\n",
       "      <td>...</td>\n",
       "      <td>...</td>\n",
       "      <td>...</td>\n",
       "      <td>...</td>\n",
       "    </tr>\n",
       "    <tr>\n",
       "      <th>18</th>\n",
       "      <td>centos-opstools/opstools-ansible</td>\n",
       "      <td>b2fe375803760f6cb66360da295021ae62700bdb</td>\n",
       "      <td>Add support for enabling authentication on the...</td>\n",
       "      <td>{authentication}</td>\n",
       "      <td>https://github.com/centos-opstools/opstools-an...</td>\n",
       "    </tr>\n",
       "    <tr>\n",
       "      <th>19</th>\n",
       "      <td>centos-opstools/opstools-ansible</td>\n",
       "      <td>fa30c47547c9e1208c1160af6a20c11d5814c734</td>\n",
       "      <td>Clearing things up, add documentation\\n\\nAdd d...</td>\n",
       "      <td>{performance}</td>\n",
       "      <td>https://github.com/centos-opstools/opstools-an...</td>\n",
       "    </tr>\n",
       "    <tr>\n",
       "      <th>20</th>\n",
       "      <td>centos-opstools/opstools-ansible</td>\n",
       "      <td>aae60bab41f70249e85bd3ac3c387771f5b8ecdb</td>\n",
       "      <td>grafana: fix gnocchi datasource config\\n\\nGraf...</td>\n",
       "      <td>{fix}</td>\n",
       "      <td>https://github.com/centos-opstools/opstools-an...</td>\n",
       "    </tr>\n",
       "    <tr>\n",
       "      <th>21</th>\n",
       "      <td>centos-opstools/opstools-ansible</td>\n",
       "      <td>f111941e50b1c6628ff9ed1caad17e4decb7dcdc</td>\n",
       "      <td>Open gnocchi port - Refactor gnocchi\\n\\nCurren...</td>\n",
       "      <td>{refactor}</td>\n",
       "      <td>https://github.com/centos-opstools/opstools-an...</td>\n",
       "    </tr>\n",
       "    <tr>\n",
       "      <th>22</th>\n",
       "      <td>centos-opstools/opstools-ansible</td>\n",
       "      <td>ed00db753e364834fcffb431035ba0d1bb6faf34</td>\n",
       "      <td>Check management refactor\\n\\nCurrent Sensu che...</td>\n",
       "      <td>{refactor}</td>\n",
       "      <td>https://github.com/centos-opstools/opstools-an...</td>\n",
       "    </tr>\n",
       "  </tbody>\n",
       "</table>\n",
       "<p>4493 rows × 5 columns</p>\n",
       "</div>"
      ],
      "text/plain": [
       "                           Repo name  \\\n",
       "0               hashnfv/hashnfv-qtip   \n",
       "1               hashnfv/hashnfv-qtip   \n",
       "2               hashnfv/hashnfv-qtip   \n",
       "3               hashnfv/hashnfv-qtip   \n",
       "4               hashnfv/hashnfv-qtip   \n",
       "..                               ...   \n",
       "18  centos-opstools/opstools-ansible   \n",
       "19  centos-opstools/opstools-ansible   \n",
       "20  centos-opstools/opstools-ansible   \n",
       "21  centos-opstools/opstools-ansible   \n",
       "22  centos-opstools/opstools-ansible   \n",
       "\n",
       "                                 Commit hash  \\\n",
       "0   9dec9cdeaafb8c336dda3d61a92542ff63e1c6ff   \n",
       "1   4c06a4ed3b3b22e3dbcddb33dda33ca773dfae11   \n",
       "2   3602709256e3e060dbbaf26c85f38891be4c7aa9   \n",
       "3   bec658afadacfeeca9fbfbe598ceb5c5601a3372   \n",
       "4   9cff8cab939a91867f413d2ecdf09aa93f40bfc0   \n",
       "..                                       ...   \n",
       "18  b2fe375803760f6cb66360da295021ae62700bdb   \n",
       "19  fa30c47547c9e1208c1160af6a20c11d5814c734   \n",
       "20  aae60bab41f70249e85bd3ac3c387771f5b8ecdb   \n",
       "21  f111941e50b1c6628ff9ed1caad17e4decb7dcdc   \n",
       "22  ed00db753e364834fcffb431035ba0d1bb6faf34   \n",
       "\n",
       "                                           Commit msg          keywords  \\\n",
       "0   Resolved bug in sys_info_collection playbook\\n...             {bug}   \n",
       "1   error handling for the files being input to th...        {fix, bug}   \n",
       "2   Patch for fixing ramspeed result_transform bug...             {bug}   \n",
       "3   run_qtip.sh fix\\n\\nRenamed compute.txt to comp...             {fix}   \n",
       "4   bug fix in pushtodb\\n\\nChange-Id: I2cba0a80527...        {fix, bug}   \n",
       "..                                                ...               ...   \n",
       "18  Add support for enabling authentication on the...  {authentication}   \n",
       "19  Clearing things up, add documentation\\n\\nAdd d...     {performance}   \n",
       "20  grafana: fix gnocchi datasource config\\n\\nGraf...             {fix}   \n",
       "21  Open gnocchi port - Refactor gnocchi\\n\\nCurren...        {refactor}   \n",
       "22  Check management refactor\\n\\nCurrent Sensu che...        {refactor}   \n",
       "\n",
       "                                      full_commit_url  \n",
       "0   https://github.com/hashnfv/hashnfv-qtip/commit...  \n",
       "1   https://github.com/hashnfv/hashnfv-qtip/commit...  \n",
       "2   https://github.com/hashnfv/hashnfv-qtip/commit...  \n",
       "3   https://github.com/hashnfv/hashnfv-qtip/commit...  \n",
       "4   https://github.com/hashnfv/hashnfv-qtip/commit...  \n",
       "..                                                ...  \n",
       "18  https://github.com/centos-opstools/opstools-an...  \n",
       "19  https://github.com/centos-opstools/opstools-an...  \n",
       "20  https://github.com/centos-opstools/opstools-an...  \n",
       "21  https://github.com/centos-opstools/opstools-an...  \n",
       "22  https://github.com/centos-opstools/opstools-an...  \n",
       "\n",
       "[4493 rows x 5 columns]"
      ]
     },
     "execution_count": 52,
     "metadata": {},
     "output_type": "execute_result"
    }
   ],
   "source": [
    "table['full_commit_url'] = 'https://github.com/'+ table['Repo name'] + '/commit/' + table['Commit hash']\n",
    "table"
   ]
  },
  {
   "cell_type": "code",
   "execution_count": 53,
   "metadata": {
    "scrolled": false
   },
   "outputs": [],
   "source": [
    "table.to_excel('commits_from_merged_repos.xlsx')"
   ]
  },
  {
   "cell_type": "code",
   "execution_count": null,
   "metadata": {},
   "outputs": [],
   "source": []
  }
 ],
 "metadata": {
  "kernelspec": {
   "display_name": "Python 3",
   "language": "python",
   "name": "python3"
  },
  "language_info": {
   "codemirror_mode": {
    "name": "ipython",
    "version": 3
   },
   "file_extension": ".py",
   "mimetype": "text/x-python",
   "name": "python",
   "nbconvert_exporter": "python",
   "pygments_lexer": "ipython3",
   "version": "3.7.4"
  }
 },
 "nbformat": 4,
 "nbformat_minor": 2
}
