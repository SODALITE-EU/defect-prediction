{
 "cells": [
  {
   "cell_type": "markdown",
   "metadata": {},
   "source": [
    "<h1>In this noteboook we combine repository findings in order to create a final list of repositories that pass the criteria</h1>"
   ]
  },
  {
   "cell_type": "code",
   "execution_count": 81,
   "metadata": {},
   "outputs": [],
   "source": [
    "import pickle\n",
    "import pandas as pd\n",
    "from IPython.display import display, HTML"
   ]
  },
  {
   "cell_type": "code",
   "execution_count": 73,
   "metadata": {},
   "outputs": [],
   "source": [
    "with open('passed_repos_ansible.pkl', 'rb') as input_file:\n",
    "    passed_repos_ansible = pickle.load(input_file)\n",
    "# passed_repos_ansible"
   ]
  },
  {
   "cell_type": "code",
   "execution_count": 74,
   "metadata": {},
   "outputs": [],
   "source": [
    "with open('passed_repos_yml.pkl', 'rb') as input_file:\n",
    "    passed_repos_yml = pickle.load(input_file)\n",
    "# passed_repos_yml"
   ]
  },
  {
   "cell_type": "code",
   "execution_count": 75,
   "metadata": {},
   "outputs": [],
   "source": [
    "with open('passed_repos_yaml.pkl', 'rb') as input_file:\n",
    "    passed_repos_yaml = pickle.load(input_file)\n",
    "# passed_repos_yaml"
   ]
  },
  {
   "cell_type": "code",
   "execution_count": 76,
   "metadata": {},
   "outputs": [],
   "source": [
    "yaml = list(passed_repos_yaml['repo_name'])\n",
    "yml = list(passed_repos_yml['repo_name'])\n",
    "ansible = list(passed_repos_ansible['repo_name'])"
   ]
  },
  {
   "cell_type": "code",
   "execution_count": 77,
   "metadata": {},
   "outputs": [
    {
     "data": {
      "text/plain": [
       "['openstack/openstack-ansible-ops',\n",
       " 'ernstp/ansible',\n",
       " 'usegalaxy-eu/infrastructure-playbook',\n",
       " 'vikramjanarthanan/ansible-hortonworks',\n",
       " 'DataDog/ansible-datadog',\n",
       " 'Jason-Jongjin-Lim/ocp_hosts_references',\n",
       " 'gitclonparis/ansi',\n",
       " 'ansible/ansible-examples',\n",
       " 'rcbops/openstack-ops',\n",
       " 'ansible-collection-migration/ansible-base',\n",
       " 'netbootxyz/netboot.xyz',\n",
       " 'bwatsonsf/solr',\n",
       " 'hashnfv/hashnfv-qtip',\n",
       " 'wazuh/wazuh-ansible',\n",
       " 'arun2908/prathyu',\n",
       " 'willpllc/infra-homework',\n",
       " 'opnfv/qtip',\n",
       " 'openstack/tripleo-quickstart',\n",
       " 'openstack/openstack-ansible-rabbitmq_server',\n",
       " 'devopspoc-ram/sensu',\n",
       " 'dj-wasabi/ansible-telegraf']"
      ]
     },
     "metadata": {},
     "output_type": "display_data"
    },
    {
     "data": {
      "text/plain": [
       "['OpenSwitchNOS/openswitch-infra-project-config',\n",
       " 'GoogleCloudPlatform/magic-modules',\n",
       " 'openstack/openstack-helm-infra',\n",
       " 'iotivity/ci-management',\n",
       " 'rdo-infra/rdo-jobs',\n",
       " 'f5devcentral/f5-agility-labs-containers']"
      ]
     },
     "metadata": {},
     "output_type": "display_data"
    },
    {
     "data": {
      "text/plain": [
       "['ndlib/marble-blueprints',\n",
       " 'splunk/splunk-ansible',\n",
       " 'openstack/tripleo-validations',\n",
       " 'openstack/openstack-ansible',\n",
       " 'hortonworks/ansible-hortonworks',\n",
       " 'plone/ansible-playbook',\n",
       " 'ceph/ceph-ansible',\n",
       " 'centos-opstools/opstools-ansible',\n",
       " 'redhat-cip/dci-infra',\n",
       " 'Bahmni/bahmni-playbooks',\n",
       " 'OpenSRP/playbooks']"
      ]
     },
     "metadata": {},
     "output_type": "display_data"
    }
   ],
   "source": [
    "display(yml,yaml,ansible)"
   ]
  },
  {
   "cell_type": "code",
   "execution_count": 82,
   "metadata": {},
   "outputs": [
    {
     "name": "stdout",
     "output_type": "stream",
     "text": [
      "6 21 11\n"
     ]
    }
   ],
   "source": [
    "print(len(yaml),len(yml),len(ansible))"
   ]
  },
  {
   "cell_type": "code",
   "execution_count": 83,
   "metadata": {},
   "outputs": [],
   "source": [
    "final_repos = yml+yaml+ansible\n",
    "# final_repos"
   ]
  },
  {
   "cell_type": "code",
   "execution_count": 84,
   "metadata": {},
   "outputs": [
    {
     "name": "stdout",
     "output_type": "stream",
     "text": [
      "38\n",
      "38\n"
     ]
    }
   ],
   "source": [
    "print(len(final_repos))\n",
    "print(len(set(final_repos)))"
   ]
  },
  {
   "cell_type": "code",
   "execution_count": null,
   "metadata": {},
   "outputs": [],
   "source": []
  }
 ],
 "metadata": {
  "kernelspec": {
   "display_name": "Python 3",
   "language": "python",
   "name": "python3"
  },
  "language_info": {
   "codemirror_mode": {
    "name": "ipython",
    "version": 3
   },
   "file_extension": ".py",
   "mimetype": "text/x-python",
   "name": "python",
   "nbconvert_exporter": "python",
   "pygments_lexer": "ipython3",
   "version": "3.6.5"
  }
 },
 "nbformat": 4,
 "nbformat_minor": 2
}
