{
 "cells": [
  {
   "cell_type": "code",
   "execution_count": 1,
   "metadata": {},
   "outputs": [],
   "source": [
    "import pandas as pd\n",
    "import numpy as np\n",
    "import pickle\n",
    "import spacy  # For preprocessing\n",
    "from gensim.models import Word2Vec\n",
    "import logging  # Setting up the loggings to monitor gensim\n",
    "logging.basicConfig(format=\"%(levelname)s - %(asctime)s: %(message)s\", datefmt= '%H:%M:%S', level=logging.INFO)\n",
    "from gensim.models import KeyedVectors"
   ]
  },
  {
   "cell_type": "code",
   "execution_count": 2,
   "metadata": {},
   "outputs": [],
   "source": [
    "import matplotlib.pyplot as plt\n",
    "%matplotlib notebook\n",
    "import seaborn as sns\n",
    "from random import choice"
   ]
  },
  {
   "cell_type": "code",
   "execution_count": 3,
   "metadata": {},
   "outputs": [],
   "source": [
    "from gensim.models.doc2vec import Doc2Vec, TaggedDocument"
   ]
  },
  {
   "cell_type": "code",
   "execution_count": 4,
   "metadata": {},
   "outputs": [],
   "source": [
    "from sklearn.manifold import TSNE\n",
    "from numpy import dot\n",
    "from numpy.linalg import norm"
   ]
  },
  {
   "cell_type": "code",
   "execution_count": 5,
   "metadata": {},
   "outputs": [],
   "source": [
    "from nltk.tokenize import word_tokenize"
   ]
  },
  {
   "cell_type": "code",
   "execution_count": 6,
   "metadata": {},
   "outputs": [],
   "source": [
    "import random\n",
    "from importlib import reload\n",
    "from copy import deepcopy\n",
    "from collections import Counter"
   ]
  },
  {
   "cell_type": "code",
   "execution_count": 7,
   "metadata": {},
   "outputs": [],
   "source": [
    "import nltk\n",
    "# nltk.download('wordnet')"
   ]
  },
  {
   "cell_type": "code",
   "execution_count": 8,
   "metadata": {},
   "outputs": [],
   "source": [
    "%load_ext autoreload\n",
    "%autoreload 2"
   ]
  },
  {
   "cell_type": "code",
   "execution_count": 11,
   "metadata": {},
   "outputs": [],
   "source": [
    "from utils_train2 import mutate_descriptions2,mutate_descriptions_old, remove_symbols_simple"
   ]
  },
  {
   "cell_type": "code",
   "execution_count": null,
   "metadata": {},
   "outputs": [],
   "source": [
    "with open('tasks_top10_ast_tokenization2.pkl', 'rb') as input_file:\n",
    "    mapped10_ast_token = pickle.load(input_file)   \n",
    "mapped10_ast_token.columns"
   ]
  },
  {
   "cell_type": "code",
   "execution_count": null,
   "metadata": {},
   "outputs": [],
   "source": [
    "with open('top10_list.pkl', 'rb') as input_file:\n",
    "    top10_list = pickle.load(input_file)   \n",
    "top10_list"
   ]
  },
  {
   "cell_type": "code",
   "execution_count": 12,
   "metadata": {},
   "outputs": [],
   "source": [
    "m10 = deepcopy(mapped10_ast_token)"
   ]
  },
  {
   "cell_type": "markdown",
   "metadata": {},
   "source": [
    "<h4>shell</h4>"
   ]
  },
  {
   "cell_type": "code",
   "execution_count": 64,
   "metadata": {},
   "outputs": [
    {
     "data": {
      "text/plain": [
       "(2126, 18)"
      ]
     },
     "execution_count": 64,
     "metadata": {},
     "output_type": "execute_result"
    }
   ],
   "source": [
    "m10 = m10[m10['mod_keys_found_string']=='shell'].reset_index(drop=True)\n",
    "m10.shape"
   ]
  },
  {
   "cell_type": "code",
   "execution_count": 28,
   "metadata": {},
   "outputs": [],
   "source": [
    "def one_string(col):\n",
    "    \n",
    "    a = ' '.join(col)\n",
    "    return a"
   ]
  },
  {
   "cell_type": "code",
   "execution_count": 29,
   "metadata": {},
   "outputs": [],
   "source": [
    "m10['token_names_one_string'] = m10['token_task_names'].apply(lambda x: remove_symbols_simple(x))\n",
    "m10['third_tokens'] = m10['third_tokens'].apply(lambda x: remove_symbols_simple(x))"
   ]
  },
  {
   "cell_type": "code",
   "execution_count": 30,
   "metadata": {},
   "outputs": [],
   "source": [
    "m10['token_names_one_string'] = m10['token_names_one_string'].apply(lambda x: one_string(x))\n",
    "m10['third_tokens2_one_string'] = m10['third_tokens'].apply(lambda x: one_string(x))"
   ]
  },
  {
   "cell_type": "code",
   "execution_count": 31,
   "metadata": {},
   "outputs": [],
   "source": [
    "m10['shell_used'] = m10['third_tokens'].apply(lambda x: x[2])"
   ]
  },
  {
   "cell_type": "code",
   "execution_count": 32,
   "metadata": {
    "scrolled": false
   },
   "outputs": [
    {
     "data": {
      "text/plain": [
       "[('oc', 737),\n",
       " ('set', 104),\n",
       " ('openshift_cli', 99),\n",
       " ('ssh-keygen', 78),\n",
       " ('True', 70),\n",
       " ('echo', 48),\n",
       " ('False', 44),\n",
       " ('cmd', 42),\n",
       " ('chmod', 37),\n",
       " ('mkdir', 35),\n",
       " ('iptables', 30),\n",
       " ('ansible-playbook', 30),\n",
       " ('oc_path', 28),\n",
       " ('source', 27),\n",
       " ('rm', 24)]"
      ]
     },
     "execution_count": 32,
     "metadata": {},
     "output_type": "execute_result"
    }
   ],
   "source": [
    "Counter(\" \".join(m10[\"shell_used\"]).split()).most_common(15)"
   ]
  },
  {
   "cell_type": "code",
   "execution_count": 33,
   "metadata": {},
   "outputs": [],
   "source": [
    "m20 = deepcopy(m10[m10['shell_used'] == 'oc'])"
   ]
  },
  {
   "cell_type": "code",
   "execution_count": 34,
   "metadata": {},
   "outputs": [],
   "source": [
    "m20['most_oc'] = m20['third_tokens'].apply(lambda x: x[3])"
   ]
  },
  {
   "cell_type": "code",
   "execution_count": 35,
   "metadata": {},
   "outputs": [
    {
     "data": {
      "text/plain": [
       "[('create', 111),\n",
       " ('delete', 102),\n",
       " ('new-app', 75),\n",
       " ('new-project', 69),\n",
       " ('policy', 66),\n",
       " ('annotate', 43),\n",
       " ('get', 39),\n",
       " ('project', 39),\n",
       " ('adm', 35),\n",
       " ('process', 33),\n",
       " ('rollout', 29),\n",
       " ('apply', 25),\n",
       " ('expose', 24),\n",
       " ('login', 13),\n",
       " ('patch', 9)]"
      ]
     },
     "execution_count": 35,
     "metadata": {},
     "output_type": "execute_result"
    }
   ],
   "source": [
    "Counter(\" \".join(m20[\"most_oc\"]).split()).most_common(15)"
   ]
  },
  {
   "cell_type": "markdown",
   "metadata": {},
   "source": [
    "<h4>command</h4>"
   ]
  },
  {
   "cell_type": "code",
   "execution_count": 51,
   "metadata": {},
   "outputs": [],
   "source": [
    "m30 = deepcopy(mapped10_ast_token)"
   ]
  },
  {
   "cell_type": "code",
   "execution_count": 63,
   "metadata": {},
   "outputs": [
    {
     "data": {
      "text/plain": [
       "(1702, 17)"
      ]
     },
     "execution_count": 63,
     "metadata": {},
     "output_type": "execute_result"
    }
   ],
   "source": [
    "m30 = m30[m30['mod_keys_found_string']=='command'].reset_index(drop=True)\n",
    "m30.shape"
   ]
  },
  {
   "cell_type": "code",
   "execution_count": 53,
   "metadata": {},
   "outputs": [],
   "source": [
    "m30['token_names_one_string'] = m30['token_task_names'].apply(lambda x: remove_symbols_simple(x))\n",
    "m30['third_tokens'] = m30['third_tokens'].apply(lambda x: remove_symbols_simple(x))"
   ]
  },
  {
   "cell_type": "code",
   "execution_count": 54,
   "metadata": {},
   "outputs": [],
   "source": [
    "m30['token_names_one_string'] = m30['token_names_one_string'].apply(lambda x: one_string(x))\n",
    "m30['third_tokens2_one_string'] = m30['third_tokens'].apply(lambda x: one_string(x))"
   ]
  },
  {
   "cell_type": "code",
   "execution_count": 55,
   "metadata": {},
   "outputs": [],
   "source": [
    "m30['command_used'] = m30['third_tokens'].apply(lambda x: x[2])"
   ]
  },
  {
   "cell_type": "code",
   "execution_count": 57,
   "metadata": {},
   "outputs": [
    {
     "data": {
      "text/plain": [
       "[('oc', 297),\n",
       " ('True', 134),\n",
       " ('container_exec_cmd', 63),\n",
       " ('subscription-manager', 50),\n",
       " ('virsh', 40),\n",
       " ('splunk.exec', 39),\n",
       " ('container_binary', 37),\n",
       " ('oc_path', 36),\n",
       " ('venv_path', 34),\n",
       " ('cp', 30),\n",
       " ('racadm', 29),\n",
       " ('systemctl', 26),\n",
       " ('openshift_cli', 24),\n",
       " ('mv', 23),\n",
       " ('/sbin/iptables', 23)]"
      ]
     },
     "execution_count": 57,
     "metadata": {},
     "output_type": "execute_result"
    }
   ],
   "source": [
    "Counter(\" \".join(m30[\"command_used\"]).split()).most_common(15)"
   ]
  },
  {
   "cell_type": "code",
   "execution_count": 62,
   "metadata": {},
   "outputs": [
    {
     "data": {
      "text/plain": [
       "[('get', 112),\n",
       " ('label', 52),\n",
       " ('adm', 47),\n",
       " ('delete', 32),\n",
       " ('patch', 13),\n",
       " ('rollout', 12),\n",
       " ('create', 8),\n",
       " ('tag', 4),\n",
       " ('new-project', 4),\n",
       " ('policy', 4),\n",
       " ('project', 3),\n",
       " ('new-app', 3),\n",
       " ('logs', 2),\n",
       " ('set', 1)]"
      ]
     },
     "execution_count": 62,
     "metadata": {},
     "output_type": "execute_result"
    }
   ],
   "source": [
    "m40 = deepcopy(m30[m30['command_used'] == 'oc'])\n",
    "m40['most_oc'] = m40['third_tokens'].apply(lambda x: x[3])\n",
    "Counter(\" \".join(m40[\"most_oc\"]).split()).most_common(15)"
   ]
  },
  {
   "cell_type": "markdown",
   "metadata": {},
   "source": [
    "<h4>Set fact</h4>"
   ]
  },
  {
   "cell_type": "code",
   "execution_count": 71,
   "metadata": {},
   "outputs": [
    {
     "data": {
      "text/plain": [
       "(1246, 14)"
      ]
     },
     "execution_count": 71,
     "metadata": {},
     "output_type": "execute_result"
    }
   ],
   "source": [
    "m50 = deepcopy(mapped10_ast_token)\n",
    "m50 = m50[m50['mod_keys_found_string']=='set_fact'].reset_index(drop=True)\n",
    "m50.shape"
   ]
  },
  {
   "cell_type": "code",
   "execution_count": 72,
   "metadata": {},
   "outputs": [
    {
     "data": {
      "text/plain": [
       "[('docker_device', 56),\n",
       " ('ocp_project', 46),\n",
       " ('nfs_host', 29),\n",
       " ('ceph_release', 14),\n",
       " ('glusterfs_device_name', 14),\n",
       " ('nfs_pvs', 14),\n",
       " ('projects', 13),\n",
       " ('internal_zone_id', 12),\n",
       " ('ansible_ssh_extra_args', 10),\n",
       " ('cis_distribution_filename', 10),\n",
       " ('_vc_args=', 9),\n",
       " ('bastion_hostname', 8),\n",
       " ('s3user', 8),\n",
       " ('route53user', 8),\n",
       " ('hostvars', 8)]"
      ]
     },
     "execution_count": 72,
     "metadata": {},
     "output_type": "execute_result"
    }
   ],
   "source": [
    "m50['token_names_one_string'] = m50['token_task_names'].apply(lambda x: remove_symbols_simple(x))\n",
    "m50['third_tokens'] = m50['third_tokens'].apply(lambda x: remove_symbols_simple(x))\n",
    "m50['token_names_one_string'] = m50['token_names_one_string'].apply(lambda x: one_string(x))\n",
    "m50['third_tokens2_one_string'] = m50['third_tokens'].apply(lambda x: one_string(x))\n",
    "m50['set_fact_used'] = m50['third_tokens'].apply(lambda x: x[2])\n",
    "Counter(\" \".join(m50[\"set_fact_used\"]).split()).most_common(15)"
   ]
  },
  {
   "cell_type": "code",
   "execution_count": 74,
   "metadata": {},
   "outputs": [
    {
     "data": {
      "text/plain": [
       "[('result.stdout', 28), ('slurp_result.content|b64decode', 28)]"
      ]
     },
     "execution_count": 74,
     "metadata": {},
     "output_type": "execute_result"
    }
   ],
   "source": [
    "m60 = deepcopy(m50[m50['set_fact_used'] == 'docker_device'])\n",
    "m60['most_set_fact'] = m60['third_tokens'].apply(lambda x: x[3])\n",
    "Counter(\" \".join(m60[\"most_set_fact\"]).split()).most_common(15)"
   ]
  },
  {
   "cell_type": "markdown",
   "metadata": {},
   "source": [
    "<h4>template</h4>"
   ]
  },
  {
   "cell_type": "code",
   "execution_count": 78,
   "metadata": {},
   "outputs": [
    {
     "data": {
      "text/plain": [
       "(1198, 14)"
      ]
     },
     "execution_count": 78,
     "metadata": {},
     "output_type": "execute_result"
    }
   ],
   "source": [
    "m50 = deepcopy(mapped10_ast_token)\n",
    "m50 = m50[m50['mod_keys_found_string']=='template'].reset_index(drop=True)\n",
    "m50.shape"
   ]
  },
  {
   "cell_type": "code",
   "execution_count": 79,
   "metadata": {},
   "outputs": [
    {
     "data": {
      "text/plain": [
       "[('src', 846),\n",
       " ('True', 85),\n",
       " ('service', 48),\n",
       " ('dest', 27),\n",
       " ('localhost', 7),\n",
       " ('src=my.cnf.j2', 5),\n",
       " ('src=', 5),\n",
       " ('service_name', 4),\n",
       " ('src=ntp.conf.j2', 3),\n",
       " ('src=iptables.j2', 3),\n",
       " ('ansible_os_family', 3),\n",
       " ('keystone', 3),\n",
       " ('ansible_distribution', 3),\n",
       " ('owner', 3),\n",
       " ('src=haproxy.cfg.j2', 2)]"
      ]
     },
     "execution_count": 79,
     "metadata": {},
     "output_type": "execute_result"
    }
   ],
   "source": [
    "m50['token_names_one_string'] = m50['token_task_names'].apply(lambda x: remove_symbols_simple(x))\n",
    "m50['third_tokens'] = m50['third_tokens'].apply(lambda x: remove_symbols_simple(x))\n",
    "m50['token_names_one_string'] = m50['token_names_one_string'].apply(lambda x: one_string(x))\n",
    "m50['third_tokens2_one_string'] = m50['third_tokens'].apply(lambda x: one_string(x))\n",
    "m50['template_used'] = m50['third_tokens'].apply(lambda x: x[2])\n",
    "Counter(\" \".join(m50[\"template_used\"]).split()).most_common(15)"
   ]
  },
  {
   "cell_type": "code",
   "execution_count": 80,
   "metadata": {},
   "outputs": [
    {
     "data": {
      "text/plain": [
       "[('ANSIBLE_REPO_PATH', 122),\n",
       " ('item.key', 58),\n",
       " ('item.src', 45),\n",
       " ('item', 16),\n",
       " ('./files/', 8),\n",
       " ('node_custom_config', 8),\n",
       " ('../configs/', 7),\n",
       " ('uchiwa_config.json.j2', 7),\n",
       " ('./files/opentlc-sample-config.sh.j2', 6),\n",
       " ('templates/app-config.yaml', 5),\n",
       " ('templates/coolstore-catalog-mongodb-persistent.yaml', 5),\n",
       " ('yum_repo.j2', 4),\n",
       " ('config.yaml.j2', 4),\n",
       " ('./sysconfig.docker-storage-setup.j2', 4),\n",
       " ('item.path', 4)]"
      ]
     },
     "execution_count": 80,
     "metadata": {},
     "output_type": "execute_result"
    }
   ],
   "source": [
    "m60 = deepcopy(m50[m50['template_used'] == 'src'])\n",
    "m60['most_template'] = m60['third_tokens'].apply(lambda x: x[3])\n",
    "Counter(\" \".join(m60[\"most_template\"]).split()).most_common(15)"
   ]
  },
  {
   "cell_type": "markdown",
   "metadata": {},
   "source": [
    "<h4>file</h4>"
   ]
  },
  {
   "cell_type": "code",
   "execution_count": 82,
   "metadata": {},
   "outputs": [
    {
     "data": {
      "text/plain": [
       "(1151, 14)"
      ]
     },
     "execution_count": 82,
     "metadata": {},
     "output_type": "execute_result"
    }
   ],
   "source": [
    "m50 = deepcopy(mapped10_ast_token)\n",
    "m50 = m50[m50['mod_keys_found_string']=='file'].reset_index(drop=True)\n",
    "m50.shape"
   ]
  },
  {
   "cell_type": "code",
   "execution_count": 83,
   "metadata": {},
   "outputs": [
    {
     "data": {
      "text/plain": [
       "[('path', 765),\n",
       " ('dest', 85),\n",
       " ('True', 73),\n",
       " ('path=', 51),\n",
       " ('state', 47),\n",
       " ('src', 25),\n",
       " ('name', 22),\n",
       " ('dest=', 5),\n",
       " ('path=/etc/ansible', 4),\n",
       " ('service', 4),\n",
       " ('path=/etc/exports', 3),\n",
       " ('src=', 3),\n",
       " ('path=/var/lib/pgsql/', 3),\n",
       " ('install_opentlc_integration|bool', 3),\n",
       " ('localhost', 3)]"
      ]
     },
     "execution_count": 83,
     "metadata": {},
     "output_type": "execute_result"
    }
   ],
   "source": [
    "m50['token_names_one_string'] = m50['token_task_names'].apply(lambda x: remove_symbols_simple(x))\n",
    "m50['third_tokens'] = m50['third_tokens'].apply(lambda x: remove_symbols_simple(x))\n",
    "m50['token_names_one_string'] = m50['token_names_one_string'].apply(lambda x: one_string(x))\n",
    "m50['third_tokens2_one_string'] = m50['third_tokens'].apply(lambda x: one_string(x))\n",
    "m50['file_used'] = m50['third_tokens'].apply(lambda x: x[2])\n",
    "Counter(\" \".join(m50[\"file_used\"]).split()).most_common(15)"
   ]
  },
  {
   "cell_type": "code",
   "execution_count": 84,
   "metadata": {},
   "outputs": [
    {
     "data": {
      "text/plain": [
       "[('ansible_user_dir', 111),\n",
       " ('node_config_directory', 70),\n",
       " ('item', 63),\n",
       " ('ANSIBLE_REPO_PATH', 29),\n",
       " ('/tmp/', 21),\n",
       " ('item.path', 15),\n",
       " ('/etc/yum.repos.d/', 11),\n",
       " ('local_working_dir', 10),\n",
       " ('logs_dir', 10),\n",
       " ('artcl_collect_dir', 7),\n",
       " ('item.home', 6),\n",
       " ('doc_build_dir', 6),\n",
       " ('working_dir', 6),\n",
       " ('/etc/puppet', 6),\n",
       " ('/root/.ssh', 5)]"
      ]
     },
     "execution_count": 84,
     "metadata": {},
     "output_type": "execute_result"
    }
   ],
   "source": [
    "m60 = deepcopy(m50[m50['file_used'] == 'path'])\n",
    "m60['most_file'] = m60['third_tokens'].apply(lambda x: x[3])\n",
    "Counter(\" \".join(m60[\"most_file\"]).split()).most_common(15)"
   ]
  },
  {
   "cell_type": "markdown",
   "metadata": {},
   "source": [
    "<h4>Gather facts</h4>"
   ]
  },
  {
   "cell_type": "code",
   "execution_count": 88,
   "metadata": {},
   "outputs": [
    {
     "data": {
      "text/plain": [
       "(752, 14)"
      ]
     },
     "execution_count": 88,
     "metadata": {},
     "output_type": "execute_result"
    }
   ],
   "source": [
    "m50 = deepcopy(mapped10_ast_token)\n",
    "m50 = m50[m50['mod_keys_found_string']=='gather_facts'].reset_index(drop=True)\n",
    "m50.shape"
   ]
  },
  {
   "cell_type": "code",
   "execution_count": 89,
   "metadata": {},
   "outputs": [
    {
     "data": {
      "text/plain": [
       "[('localhost', 297),\n",
       " ('False', 121),\n",
       " ('undercloud', 76),\n",
       " ('all', 72),\n",
       " ('masters', 46),\n",
       " ('bastions', 37),\n",
       " ('support', 20),\n",
       " ('virthost', 17),\n",
       " ('newnodes', 9),\n",
       " ('nodes', 6),\n",
       " ('all_containers', 5),\n",
       " ('workshop_prefix', 4),\n",
       " ('ipas', 4),\n",
       " ('hosts', 4),\n",
       " ('windows', 2)]"
      ]
     },
     "execution_count": 89,
     "metadata": {},
     "output_type": "execute_result"
    }
   ],
   "source": [
    "m50['token_names_one_string'] = m50['token_task_names'].apply(lambda x: remove_symbols_simple(x))\n",
    "m50['third_tokens'] = m50['third_tokens'].apply(lambda x: remove_symbols_simple(x))\n",
    "m50['token_names_one_string'] = m50['token_names_one_string'].apply(lambda x: one_string(x))\n",
    "m50['third_tokens2_one_string'] = m50['third_tokens'].apply(lambda x: one_string(x))\n",
    "m50['gather_facts_used'] = m50['third_tokens'].apply(lambda x: x[2])\n",
    "Counter(\" \".join(m50[\"gather_facts_used\"]).split()).most_common(15)"
   ]
  },
  {
   "cell_type": "code",
   "execution_count": 92,
   "metadata": {},
   "outputs": [
    {
     "data": {
      "text/plain": [
       "[('hosts', 83), ('become', 37), ('vars_files', 1)]"
      ]
     },
     "execution_count": 92,
     "metadata": {},
     "output_type": "execute_result"
    }
   ],
   "source": [
    "m60 = deepcopy(m50[m50['gather_facts_used'] == 'False'])\n",
    "m60['most_gather_facts'] = m60['third_tokens'].apply(lambda x: x[3])\n",
    "Counter(\" \".join(m60[\"most_gather_facts\"]).split()).most_common(15)"
   ]
  },
  {
   "cell_type": "markdown",
   "metadata": {},
   "source": [
    "--------------------------------"
   ]
  },
  {
   "cell_type": "code",
   "execution_count": 13,
   "metadata": {},
   "outputs": [],
   "source": [
    "m10 = deepcopy(mapped10_ast_token)"
   ]
  },
  {
   "cell_type": "code",
   "execution_count": 14,
   "metadata": {},
   "outputs": [
    {
     "data": {
      "text/plain": [
       "['AnsibleTask',\n",
       " 'service',\n",
       " 'name',\n",
       " 'datadog-agent',\n",
       " 'state',\n",
       " 'restarted',\n",
       " 'when',\n",
       " 'datadog_enabled',\n",
       " 'and',\n",
       " 'not',\n",
       " 'ansible_check_mode',\n",
       " 'and',\n",
       " 'not',\n",
       " 'ansible_os_family',\n",
       " 'Windows']"
      ]
     },
     "execution_count": 14,
     "metadata": {},
     "output_type": "execute_result"
    }
   ],
   "source": [
    "m10['third_tokens'][0]"
   ]
  },
  {
   "cell_type": "markdown",
   "metadata": {},
   "source": [
    "<h4>Mutate methods</h4>"
   ]
  },
  {
   "cell_type": "code",
   "execution_count": 74,
   "metadata": {},
   "outputs": [],
   "source": [
    "m20 = deepcopy(m10)"
   ]
  },
  {
   "cell_type": "code",
   "execution_count": 75,
   "metadata": {},
   "outputs": [],
   "source": [
    "m20 = m20.reset_index(drop=True)"
   ]
  },
  {
   "cell_type": "code",
   "execution_count": 76,
   "metadata": {},
   "outputs": [],
   "source": [
    "m20['consistent'] = False"
   ]
  },
  {
   "cell_type": "code",
   "execution_count": 77,
   "metadata": {},
   "outputs": [
    {
     "data": {
      "text/plain": [
       "Index(['repo_count', 'task_name', 'method_description', 'mod_keys_found',\n",
       "       'mod_values_found', 'key_module_text', 'value_module_text',\n",
       "       'mod_keys_found_string', 'found_used_parameters', 'has_params',\n",
       "       'third_ast', 'third_tokens', 'token_task_names', 'descr_one_string',\n",
       "       'consistent'],\n",
       "      dtype='object')"
      ]
     },
     "execution_count": 77,
     "metadata": {},
     "output_type": "execute_result"
    }
   ],
   "source": [
    "m20.columns"
   ]
  },
  {
   "cell_type": "code",
   "execution_count": 78,
   "metadata": {},
   "outputs": [
    {
     "data": {
      "text/plain": [
       "['service']"
      ]
     },
     "execution_count": 78,
     "metadata": {},
     "output_type": "execute_result"
    }
   ],
   "source": [
    "m20['mod_keys_found'][0]"
   ]
  },
  {
   "cell_type": "code",
   "execution_count": 79,
   "metadata": {},
   "outputs": [
    {
     "data": {
      "text/plain": [
       "'service'"
      ]
     },
     "execution_count": 79,
     "metadata": {},
     "output_type": "execute_result"
    }
   ],
   "source": [
    "m20['mod_keys_found_string'][0]"
   ]
  },
  {
   "cell_type": "code",
   "execution_count": 97,
   "metadata": {},
   "outputs": [],
   "source": [
    "from utils_train2 import mutate_descriptions2,mutate_descriptions_old, remove_symbols_simple"
   ]
  },
  {
   "cell_type": "code",
   "execution_count": 98,
   "metadata": {},
   "outputs": [],
   "source": [
    "# m20 = m20[m20['mod_keys_found_string'] == 'service']"
   ]
  },
  {
   "cell_type": "code",
   "execution_count": 99,
   "metadata": {},
   "outputs": [],
   "source": [
    "m20['mutated_third_tokens'] = m20['third_tokens'].apply(lambda x: mutate_descriptions2(x,m20))"
   ]
  },
  {
   "cell_type": "code",
   "execution_count": 100,
   "metadata": {},
   "outputs": [
    {
     "name": "stdout",
     "output_type": "stream",
     "text": [
      "['AnsibleTask', 'copy', 'src', 'ANSIBLE_REPO_PATH', '/workdir/scaleup_hosts-', 'env_type', 'guid', 'dest', '/etc/ansible/scaleup_hosts']\n",
      "['AnsibleTask', 'copy', 'content', 'radosgw_frontend_ssl_certificate_data', 'dest', 'radosgw_frontend_ssl_certificate', 'owner', 'ceph_uid', 'if', 'containerized_deployment', 'else', 'group', 'ceph_uid', 'if', 'containerized_deployment', 'else', 'mode,288', 'when', 'radosgw_frontend_ssl_certificate', 'length', '0', 'and', 'radosgw_frontend_ssl_certificate_data', 'length', '0', 'notify', 'restart', 'ceph', 'rgws']\n"
     ]
    }
   ],
   "source": [
    "print(m20['mutated_third_tokens'][1502])\n",
    "print(m20['third_tokens'][1502])"
   ]
  },
  {
   "cell_type": "code",
   "execution_count": 101,
   "metadata": {},
   "outputs": [],
   "source": [
    "m20 = m20.drop(columns=['third_tokens'])"
   ]
  },
  {
   "cell_type": "code",
   "execution_count": 102,
   "metadata": {},
   "outputs": [],
   "source": [
    "m20 = m20.rename(columns={'mutated_third_tokens':'third_tokens'})"
   ]
  },
  {
   "cell_type": "code",
   "execution_count": 103,
   "metadata": {},
   "outputs": [],
   "source": [
    "m10['consistent'] = True"
   ]
  },
  {
   "cell_type": "code",
   "execution_count": 104,
   "metadata": {},
   "outputs": [
    {
     "name": "stdout",
     "output_type": "stream",
     "text": [
      "(10396, 15)\n"
     ]
    },
    {
     "data": {
      "text/plain": [
       "(10396, 15)"
      ]
     },
     "execution_count": 104,
     "metadata": {},
     "output_type": "execute_result"
    }
   ],
   "source": [
    "print(m10.shape)\n",
    "m20.shape"
   ]
  },
  {
   "cell_type": "code",
   "execution_count": 105,
   "metadata": {},
   "outputs": [],
   "source": [
    "merged = pd.concat([m10,m20],ignore_index=True)"
   ]
  },
  {
   "cell_type": "code",
   "execution_count": 106,
   "metadata": {},
   "outputs": [
    {
     "data": {
      "text/plain": [
       "Index(['repo_count', 'task_name', 'method_description', 'mod_keys_found',\n",
       "       'mod_values_found', 'key_module_text', 'value_module_text',\n",
       "       'mod_keys_found_string', 'found_used_parameters', 'has_params',\n",
       "       'third_ast', 'third_tokens', 'token_task_names', 'descr_one_string',\n",
       "       'consistent'],\n",
       "      dtype='object')"
      ]
     },
     "execution_count": 106,
     "metadata": {},
     "output_type": "execute_result"
    }
   ],
   "source": [
    "merged.columns"
   ]
  },
  {
   "cell_type": "code",
   "execution_count": 108,
   "metadata": {},
   "outputs": [],
   "source": [
    "merged['token_task_names'] = merged['token_task_names'].apply(lambda x: remove_symbols_simple(x))\n",
    "merged['third_tokens'] = merged['third_tokens'].apply(lambda x: remove_symbols_simple(x))"
   ]
  },
  {
   "cell_type": "code",
   "execution_count": 109,
   "metadata": {},
   "outputs": [
    {
     "data": {
      "text/html": [
       "<div>\n",
       "<style scoped>\n",
       "    .dataframe tbody tr th:only-of-type {\n",
       "        vertical-align: middle;\n",
       "    }\n",
       "\n",
       "    .dataframe tbody tr th {\n",
       "        vertical-align: top;\n",
       "    }\n",
       "\n",
       "    .dataframe thead th {\n",
       "        text-align: right;\n",
       "    }\n",
       "</style>\n",
       "<table border=\"1\" class=\"dataframe\">\n",
       "  <thead>\n",
       "    <tr style=\"text-align: right;\">\n",
       "      <th></th>\n",
       "      <th>repo_count</th>\n",
       "      <th>task_name</th>\n",
       "      <th>method_description</th>\n",
       "      <th>mod_keys_found</th>\n",
       "      <th>mod_values_found</th>\n",
       "      <th>key_module_text</th>\n",
       "      <th>value_module_text</th>\n",
       "      <th>mod_keys_found_string</th>\n",
       "      <th>found_used_parameters</th>\n",
       "      <th>has_params</th>\n",
       "      <th>third_ast</th>\n",
       "      <th>third_tokens</th>\n",
       "      <th>token_task_names</th>\n",
       "      <th>descr_one_string</th>\n",
       "      <th>consistent</th>\n",
       "    </tr>\n",
       "  </thead>\n",
       "  <tbody>\n",
       "    <tr>\n",
       "      <th>0</th>\n",
       "      <td>0</td>\n",
       "      <td>restart datadog-agent</td>\n",
       "      <td>{'service': {'name': 'datadog-agent', 'state':...</td>\n",
       "      <td>[service]</td>\n",
       "      <td>[datadog-agent]</td>\n",
       "      <td>Manage services</td>\n",
       "      <td>datadog-agent</td>\n",
       "      <td>service</td>\n",
       "      <td>{'module_used': 'service', 'intersected_params...</td>\n",
       "      <td>True</td>\n",
       "      <td>[[AnsibleTask], [service], [name, datadog-agen...</td>\n",
       "      <td>[AnsibleTask, service, name, datadog-agent, st...</td>\n",
       "      <td>[restart, datadog-agent]</td>\n",
       "      <td>AnsibleTask service name datadog-agent state r...</td>\n",
       "      <td>True</td>\n",
       "    </tr>\n",
       "    <tr>\n",
       "      <th>1</th>\n",
       "      <td>4</td>\n",
       "      <td>Create Datadog agent config directory</td>\n",
       "      <td>{'file': {'dest': '/etc/datadog-agent', 'state...</td>\n",
       "      <td>[file]</td>\n",
       "      <td>[]</td>\n",
       "      <td>Manage files and file properties</td>\n",
       "      <td></td>\n",
       "      <td>file</td>\n",
       "      <td>{'module_used': 'file', 'intersected_params': ...</td>\n",
       "      <td>True</td>\n",
       "      <td>[[AnsibleTask], [file], [dest, /etc/datadog-ag...</td>\n",
       "      <td>[AnsibleTask, file, dest, /etc/datadog-agent, ...</td>\n",
       "      <td>[Create, Datadog, agent, config, directory]</td>\n",
       "      <td>AnsibleTask file dest /etc/datadog-agent state...</td>\n",
       "      <td>True</td>\n",
       "    </tr>\n",
       "    <tr>\n",
       "      <th>2</th>\n",
       "      <td>5</td>\n",
       "      <td>Create main Datadog agent configuration file</td>\n",
       "      <td>{'template': {'src': 'datadog.yaml.j2', 'dest'...</td>\n",
       "      <td>[template]</td>\n",
       "      <td>[group]</td>\n",
       "      <td>Template a file out to a remote server</td>\n",
       "      <td>Add or remove groups</td>\n",
       "      <td>template</td>\n",
       "      <td>{'module_used': 'template', 'intersected_param...</td>\n",
       "      <td>True</td>\n",
       "      <td>[[AnsibleTask], [template], [src, datadog.yaml...</td>\n",
       "      <td>[AnsibleTask, template, src, datadog.yaml.j2, ...</td>\n",
       "      <td>[Create, main, Datadog, agent, configuration, ...</td>\n",
       "      <td>AnsibleTask template src datadog.yaml.j2 dest ...</td>\n",
       "      <td>True</td>\n",
       "    </tr>\n",
       "    <tr>\n",
       "      <th>3</th>\n",
       "      <td>6</td>\n",
       "      <td>Ensure configuration directories are present f...</td>\n",
       "      <td>{'file': {'dest': '/etc/datadog-agent/conf.d/{...</td>\n",
       "      <td>[file]</td>\n",
       "      <td>[group]</td>\n",
       "      <td>Manage files and file properties</td>\n",
       "      <td>Add or remove groups</td>\n",
       "      <td>file</td>\n",
       "      <td>{'module_used': 'file', 'intersected_params': ...</td>\n",
       "      <td>True</td>\n",
       "      <td>[[AnsibleTask], [file], [dest, /etc/datadog-ag...</td>\n",
       "      <td>[AnsibleTask, file, dest, /etc/datadog-agent/c...</td>\n",
       "      <td>[Ensure, configuration, directories, are, pres...</td>\n",
       "      <td>AnsibleTask file dest /etc/datadog-agent/conf....</td>\n",
       "      <td>True</td>\n",
       "    </tr>\n",
       "    <tr>\n",
       "      <th>4</th>\n",
       "      <td>7</td>\n",
       "      <td>Create a configuration file for each Datadog c...</td>\n",
       "      <td>{'template': {'src': 'checks.yaml.j2', 'dest':...</td>\n",
       "      <td>[template]</td>\n",
       "      <td>[group]</td>\n",
       "      <td>Template a file out to a remote server</td>\n",
       "      <td>Add or remove groups</td>\n",
       "      <td>template</td>\n",
       "      <td>{'module_used': 'template', 'intersected_param...</td>\n",
       "      <td>True</td>\n",
       "      <td>[[AnsibleTask], [template], [src, checks.yaml....</td>\n",
       "      <td>[AnsibleTask, template, src, checks.yaml.j2, d...</td>\n",
       "      <td>[Create, a, configuration, file, for, each, Da...</td>\n",
       "      <td>AnsibleTask template src checks.yaml.j2 dest /...</td>\n",
       "      <td>True</td>\n",
       "    </tr>\n",
       "  </tbody>\n",
       "</table>\n",
       "</div>"
      ],
      "text/plain": [
       "   repo_count                                          task_name  \\\n",
       "0           0                              restart datadog-agent   \n",
       "1           4              Create Datadog agent config directory   \n",
       "2           5       Create main Datadog agent configuration file   \n",
       "3           6  Ensure configuration directories are present f...   \n",
       "4           7  Create a configuration file for each Datadog c...   \n",
       "\n",
       "                                  method_description mod_keys_found  \\\n",
       "0  {'service': {'name': 'datadog-agent', 'state':...      [service]   \n",
       "1  {'file': {'dest': '/etc/datadog-agent', 'state...         [file]   \n",
       "2  {'template': {'src': 'datadog.yaml.j2', 'dest'...     [template]   \n",
       "3  {'file': {'dest': '/etc/datadog-agent/conf.d/{...         [file]   \n",
       "4  {'template': {'src': 'checks.yaml.j2', 'dest':...     [template]   \n",
       "\n",
       "  mod_values_found                         key_module_text  \\\n",
       "0  [datadog-agent]                         Manage services   \n",
       "1               []        Manage files and file properties   \n",
       "2          [group]  Template a file out to a remote server   \n",
       "3          [group]        Manage files and file properties   \n",
       "4          [group]  Template a file out to a remote server   \n",
       "\n",
       "      value_module_text mod_keys_found_string  \\\n",
       "0         datadog-agent               service   \n",
       "1                                        file   \n",
       "2  Add or remove groups              template   \n",
       "3  Add or remove groups                  file   \n",
       "4  Add or remove groups              template   \n",
       "\n",
       "                               found_used_parameters  has_params  \\\n",
       "0  {'module_used': 'service', 'intersected_params...        True   \n",
       "1  {'module_used': 'file', 'intersected_params': ...        True   \n",
       "2  {'module_used': 'template', 'intersected_param...        True   \n",
       "3  {'module_used': 'file', 'intersected_params': ...        True   \n",
       "4  {'module_used': 'template', 'intersected_param...        True   \n",
       "\n",
       "                                           third_ast  \\\n",
       "0  [[AnsibleTask], [service], [name, datadog-agen...   \n",
       "1  [[AnsibleTask], [file], [dest, /etc/datadog-ag...   \n",
       "2  [[AnsibleTask], [template], [src, datadog.yaml...   \n",
       "3  [[AnsibleTask], [file], [dest, /etc/datadog-ag...   \n",
       "4  [[AnsibleTask], [template], [src, checks.yaml....   \n",
       "\n",
       "                                        third_tokens  \\\n",
       "0  [AnsibleTask, service, name, datadog-agent, st...   \n",
       "1  [AnsibleTask, file, dest, /etc/datadog-agent, ...   \n",
       "2  [AnsibleTask, template, src, datadog.yaml.j2, ...   \n",
       "3  [AnsibleTask, file, dest, /etc/datadog-agent/c...   \n",
       "4  [AnsibleTask, template, src, checks.yaml.j2, d...   \n",
       "\n",
       "                                    token_task_names  \\\n",
       "0                           [restart, datadog-agent]   \n",
       "1        [Create, Datadog, agent, config, directory]   \n",
       "2  [Create, main, Datadog, agent, configuration, ...   \n",
       "3  [Ensure, configuration, directories, are, pres...   \n",
       "4  [Create, a, configuration, file, for, each, Da...   \n",
       "\n",
       "                                    descr_one_string  consistent  \n",
       "0  AnsibleTask service name datadog-agent state r...        True  \n",
       "1  AnsibleTask file dest /etc/datadog-agent state...        True  \n",
       "2  AnsibleTask template src datadog.yaml.j2 dest ...        True  \n",
       "3  AnsibleTask file dest /etc/datadog-agent/conf....        True  \n",
       "4  AnsibleTask template src checks.yaml.j2 dest /...        True  "
      ]
     },
     "execution_count": 109,
     "metadata": {},
     "output_type": "execute_result"
    }
   ],
   "source": [
    "merged.head()"
   ]
  },
  {
   "cell_type": "code",
   "execution_count": 110,
   "metadata": {},
   "outputs": [],
   "source": [
    "m = deepcopy(merged)"
   ]
  },
  {
   "cell_type": "code",
   "execution_count": 111,
   "metadata": {},
   "outputs": [],
   "source": [
    "m['token_task_names'] = m['token_task_names'].apply(lambda x: ['TaskName']+x)"
   ]
  },
  {
   "cell_type": "code",
   "execution_count": 112,
   "metadata": {},
   "outputs": [],
   "source": [
    "mm = deepcopy(m)"
   ]
  },
  {
   "cell_type": "code",
   "execution_count": 113,
   "metadata": {},
   "outputs": [],
   "source": [
    "def correct_first_token_name(seq):\n",
    "    \n",
    "    seq[0] = 'TaskDescription'\n",
    "    return seq"
   ]
  },
  {
   "cell_type": "code",
   "execution_count": 114,
   "metadata": {},
   "outputs": [],
   "source": [
    "mm['third_tokens'] = mm['third_tokens'].apply(lambda x: correct_first_token_name(x))"
   ]
  },
  {
   "cell_type": "code",
   "execution_count": 115,
   "metadata": {},
   "outputs": [
    {
     "name": "stdout",
     "output_type": "stream",
     "text": [
      "['TaskDescription', 'service', 'name', 'datadog-agent', 'state', 'restarted', 'when', 'datadog_enabled', 'and', 'not', 'ansible_check_mode', 'and', 'not', 'ansible_os_family', 'Windows']\n"
     ]
    },
    {
     "data": {
      "text/plain": [
       "['TaskName', 'restart', 'datadog-agent']"
      ]
     },
     "execution_count": 115,
     "metadata": {},
     "output_type": "execute_result"
    }
   ],
   "source": [
    "print(mm['third_tokens'][0])\n",
    "mm['token_task_names'][0]"
   ]
  },
  {
   "cell_type": "code",
   "execution_count": 116,
   "metadata": {},
   "outputs": [],
   "source": [
    "merged2 = deepcopy(mm)"
   ]
  },
  {
   "cell_type": "code",
   "execution_count": 117,
   "metadata": {},
   "outputs": [],
   "source": [
    "# merged2 = merged2.drop(columns=['task_complete'])\n",
    "# merged2 = merged2.drop(columns=['task_com'])"
   ]
  },
  {
   "cell_type": "code",
   "execution_count": 118,
   "metadata": {},
   "outputs": [],
   "source": [
    "merged2['task_com'] = merged2['token_task_names']+merged2['third_tokens']"
   ]
  },
  {
   "cell_type": "code",
   "execution_count": 119,
   "metadata": {},
   "outputs": [],
   "source": [
    "def correct_first_token_name2(seq):\n",
    "    \n",
    "    seq.insert(0,'AnsibleTask')\n",
    "    return seq"
   ]
  },
  {
   "cell_type": "code",
   "execution_count": 120,
   "metadata": {},
   "outputs": [],
   "source": [
    "merged2['task_complete'] = merged2['task_com'].apply(lambda x: correct_first_token_name2(x))"
   ]
  },
  {
   "cell_type": "code",
   "execution_count": 121,
   "metadata": {},
   "outputs": [
    {
     "data": {
      "text/plain": [
       "['AnsibleTask',\n",
       " 'TaskName',\n",
       " 'restart',\n",
       " 'datadog-agent',\n",
       " 'TaskDescription',\n",
       " 'service',\n",
       " 'name',\n",
       " 'datadog-agent',\n",
       " 'state',\n",
       " 'restarted',\n",
       " 'when',\n",
       " 'datadog_enabled',\n",
       " 'and',\n",
       " 'not',\n",
       " 'ansible_check_mode',\n",
       " 'and',\n",
       " 'not',\n",
       " 'ansible_os_family',\n",
       " 'Windows']"
      ]
     },
     "execution_count": 121,
     "metadata": {},
     "output_type": "execute_result"
    }
   ],
   "source": [
    "merged2['task_complete'][0]"
   ]
  },
  {
   "cell_type": "code",
   "execution_count": 122,
   "metadata": {},
   "outputs": [],
   "source": [
    "merged2.to_pickle('mutated2.pkl')"
   ]
  },
  {
   "cell_type": "code",
   "execution_count": 123,
   "metadata": {},
   "outputs": [
    {
     "data": {
      "text/plain": [
       "Index(['repo_count', 'task_name', 'method_description', 'mod_keys_found',\n",
       "       'mod_values_found', 'key_module_text', 'value_module_text',\n",
       "       'mod_keys_found_string', 'found_used_parameters', 'has_params',\n",
       "       'third_ast', 'third_tokens', 'token_task_names', 'descr_one_string',\n",
       "       'consistent', 'task_com', 'task_complete'],\n",
       "      dtype='object')"
      ]
     },
     "execution_count": 123,
     "metadata": {},
     "output_type": "execute_result"
    }
   ],
   "source": [
    "with open('mutated2.pkl', 'rb') as input_file:\n",
    "    mutated = pickle.load(input_file)   \n",
    "mutated.columns"
   ]
  },
  {
   "cell_type": "markdown",
   "metadata": {},
   "source": [
    "<h4>Train, test, validation split</h4>"
   ]
  },
  {
   "cell_type": "code",
   "execution_count": 44,
   "metadata": {},
   "outputs": [],
   "source": [
    "train, val, test = np.split(mutated.sample(frac=1), [int(.6*len(mutated)), int(.8*len(mutated))])"
   ]
  },
  {
   "cell_type": "code",
   "execution_count": 45,
   "metadata": {},
   "outputs": [
    {
     "name": "stdout",
     "output_type": "stream",
     "text": [
      "(12475, 17)\n",
      "(4158, 17)\n"
     ]
    },
    {
     "data": {
      "text/plain": [
       "(4159, 17)"
      ]
     },
     "execution_count": 45,
     "metadata": {},
     "output_type": "execute_result"
    }
   ],
   "source": [
    "print(train.shape)\n",
    "print(val.shape)\n",
    "test.shape"
   ]
  },
  {
   "cell_type": "code",
   "execution_count": 46,
   "metadata": {},
   "outputs": [],
   "source": [
    "# train.to_pickle('train_set.pkl')\n",
    "# test.to_pickle('test_set.pkl')\n",
    "# val.to_pickle('val_set.pkl')"
   ]
  },
  {
   "cell_type": "code",
   "execution_count": null,
   "metadata": {},
   "outputs": [],
   "source": []
  }
 ],
 "metadata": {
  "kernelspec": {
   "display_name": "Python 3",
   "language": "python",
   "name": "python3"
  },
  "language_info": {
   "codemirror_mode": {
    "name": "ipython",
    "version": 3
   },
   "file_extension": ".py",
   "mimetype": "text/x-python",
   "name": "python",
   "nbconvert_exporter": "python",
   "pygments_lexer": "ipython3",
   "version": "3.7.4"
  }
 },
 "nbformat": 4,
 "nbformat_minor": 4
}
