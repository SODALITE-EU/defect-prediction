{
 "cells": [
  {
   "cell_type": "code",
   "execution_count": 1,
   "metadata": {
    "colab": {},
    "colab_type": "code",
    "id": "NJE-YBQj_9gm"
   },
   "outputs": [],
   "source": [
    "# from google.colab import drive\n",
    "# import gensim\n",
    "# import keras\n",
    "# from keras import metrics"
   ]
  },
  {
   "cell_type": "code",
   "execution_count": 2,
   "metadata": {
    "colab": {
     "base_uri": "https://localhost:8080/",
     "height": 34
    },
    "colab_type": "code",
    "id": "I8QKgauQ_-hm",
    "outputId": "6872e7e3-f2bc-4893-ed7c-0f1e2bf174cc"
   },
   "outputs": [],
   "source": [
    "# drive.mount('/content/drive')"
   ]
  },
  {
   "cell_type": "code",
   "execution_count": 3,
   "metadata": {
    "colab": {
     "base_uri": "https://localhost:8080/",
     "height": 34
    },
    "colab_type": "code",
    "id": "kcP0hj6SADHg",
    "outputId": "09eaf88e-e74c-4d92-e670-d790417be75a"
   },
   "outputs": [],
   "source": [
    "# %cd \"/content/drive/My Drive/1_processing/w2v_cnn\""
   ]
  },
  {
   "cell_type": "code",
   "execution_count": 4,
   "metadata": {},
   "outputs": [
    {
     "name": "stdout",
     "output_type": "stream",
     "text": [
      "Requirement already satisfied: gensim in /home/indika_kuma/anaconda3/lib/python3.7/site-packages (3.8.3)\n",
      "Requirement already satisfied: scipy>=0.18.1 in /home/indika_kuma/anaconda3/lib/python3.7/site-packages (from gensim) (1.4.1)\n",
      "Requirement already satisfied: smart-open>=1.8.1 in /home/indika_kuma/anaconda3/lib/python3.7/site-packages (from gensim) (2.1.0)\n",
      "Requirement already satisfied: six>=1.5.0 in /home/indika_kuma/anaconda3/lib/python3.7/site-packages (from gensim) (1.14.0)\n",
      "Requirement already satisfied: numpy>=1.11.3 in /home/indika_kuma/anaconda3/lib/python3.7/site-packages (from gensim) (1.18.1)\n",
      "Requirement already satisfied: requests in /home/indika_kuma/anaconda3/lib/python3.7/site-packages (from smart-open>=1.8.1->gensim) (2.22.0)\n",
      "Requirement already satisfied: boto in /home/indika_kuma/anaconda3/lib/python3.7/site-packages (from smart-open>=1.8.1->gensim) (2.49.0)\n",
      "Requirement already satisfied: boto3 in /home/indika_kuma/anaconda3/lib/python3.7/site-packages (from smart-open>=1.8.1->gensim) (1.14.20)\n",
      "Requirement already satisfied: urllib3!=1.25.0,!=1.25.1,<1.26,>=1.21.1 in /home/indika_kuma/anaconda3/lib/python3.7/site-packages (from requests->smart-open>=1.8.1->gensim) (1.25.8)\n",
      "Requirement already satisfied: certifi>=2017.4.17 in /home/indika_kuma/anaconda3/lib/python3.7/site-packages (from requests->smart-open>=1.8.1->gensim) (2019.11.28)\n",
      "Requirement already satisfied: chardet<3.1.0,>=3.0.2 in /home/indika_kuma/anaconda3/lib/python3.7/site-packages (from requests->smart-open>=1.8.1->gensim) (3.0.4)\n",
      "Requirement already satisfied: idna<2.9,>=2.5 in /home/indika_kuma/anaconda3/lib/python3.7/site-packages (from requests->smart-open>=1.8.1->gensim) (2.8)\n",
      "Requirement already satisfied: s3transfer<0.4.0,>=0.3.0 in /home/indika_kuma/anaconda3/lib/python3.7/site-packages (from boto3->smart-open>=1.8.1->gensim) (0.3.3)\n",
      "Requirement already satisfied: jmespath<1.0.0,>=0.7.1 in /home/indika_kuma/anaconda3/lib/python3.7/site-packages (from boto3->smart-open>=1.8.1->gensim) (0.10.0)\n",
      "Requirement already satisfied: botocore<1.18.0,>=1.17.20 in /home/indika_kuma/anaconda3/lib/python3.7/site-packages (from boto3->smart-open>=1.8.1->gensim) (1.17.20)\n",
      "Requirement already satisfied: python-dateutil<3.0.0,>=2.1 in /home/indika_kuma/anaconda3/lib/python3.7/site-packages (from botocore<1.18.0,>=1.17.20->boto3->smart-open>=1.8.1->gensim) (2.8.1)\n",
      "Requirement already satisfied: docutils<0.16,>=0.10 in /home/indika_kuma/anaconda3/lib/python3.7/site-packages (from botocore<1.18.0,>=1.17.20->boto3->smart-open>=1.8.1->gensim) (0.15.2)\n"
     ]
    }
   ],
   "source": [
    "import sys\n",
    "!{sys.executable} -m pip install gensim"
   ]
  },
  {
   "cell_type": "code",
   "execution_count": 5,
   "metadata": {},
   "outputs": [
    {
     "name": "stdout",
     "output_type": "stream",
     "text": [
      "Requirement already satisfied: keras in /home/indika_kuma/anaconda3/lib/python3.7/site-packages (2.4.3)\n",
      "Requirement already satisfied: pyyaml in /home/indika_kuma/anaconda3/lib/python3.7/site-packages (from keras) (5.3)\n",
      "Requirement already satisfied: scipy>=0.14 in /home/indika_kuma/anaconda3/lib/python3.7/site-packages (from keras) (1.4.1)\n",
      "Requirement already satisfied: h5py in /home/indika_kuma/anaconda3/lib/python3.7/site-packages (from keras) (2.10.0)\n",
      "Requirement already satisfied: numpy>=1.9.1 in /home/indika_kuma/anaconda3/lib/python3.7/site-packages (from keras) (1.18.1)\n",
      "Requirement already satisfied: six in /home/indika_kuma/anaconda3/lib/python3.7/site-packages (from h5py->keras) (1.14.0)\n"
     ]
    }
   ],
   "source": [
    "import sys\n",
    "!{sys.executable} -m pip install keras"
   ]
  },
  {
   "cell_type": "code",
   "execution_count": 6,
   "metadata": {},
   "outputs": [
    {
     "name": "stdout",
     "output_type": "stream",
     "text": [
      "Requirement already satisfied: tensorflow in /home/indika_kuma/anaconda3/lib/python3.7/site-packages (2.2.0)\n",
      "Requirement already satisfied: keras-preprocessing>=1.1.0 in /home/indika_kuma/anaconda3/lib/python3.7/site-packages (from tensorflow) (1.1.2)\n",
      "Requirement already satisfied: gast==0.3.3 in /home/indika_kuma/anaconda3/lib/python3.7/site-packages (from tensorflow) (0.3.3)\n",
      "Requirement already satisfied: protobuf>=3.8.0 in /home/indika_kuma/anaconda3/lib/python3.7/site-packages (from tensorflow) (3.12.2)\n",
      "Requirement already satisfied: tensorflow-estimator<2.3.0,>=2.2.0 in /home/indika_kuma/anaconda3/lib/python3.7/site-packages (from tensorflow) (2.2.0)\n",
      "Requirement already satisfied: wheel>=0.26; python_version >= \"3\" in /home/indika_kuma/anaconda3/lib/python3.7/site-packages (from tensorflow) (0.34.2)\n",
      "Requirement already satisfied: scipy==1.4.1; python_version >= \"3\" in /home/indika_kuma/anaconda3/lib/python3.7/site-packages (from tensorflow) (1.4.1)\n",
      "Requirement already satisfied: numpy<2.0,>=1.16.0 in /home/indika_kuma/anaconda3/lib/python3.7/site-packages (from tensorflow) (1.18.1)\n",
      "Requirement already satisfied: six>=1.12.0 in /home/indika_kuma/anaconda3/lib/python3.7/site-packages (from tensorflow) (1.14.0)\n",
      "Requirement already satisfied: absl-py>=0.7.0 in /home/indika_kuma/anaconda3/lib/python3.7/site-packages (from tensorflow) (0.9.0)\n",
      "Requirement already satisfied: google-pasta>=0.1.8 in /home/indika_kuma/anaconda3/lib/python3.7/site-packages (from tensorflow) (0.2.0)\n",
      "Requirement already satisfied: opt-einsum>=2.3.2 in /home/indika_kuma/anaconda3/lib/python3.7/site-packages (from tensorflow) (3.2.1)\n",
      "Requirement already satisfied: tensorboard<2.3.0,>=2.2.0 in /home/indika_kuma/anaconda3/lib/python3.7/site-packages (from tensorflow) (2.2.2)\n",
      "Requirement already satisfied: termcolor>=1.1.0 in /home/indika_kuma/anaconda3/lib/python3.7/site-packages (from tensorflow) (1.1.0)\n",
      "Requirement already satisfied: h5py<2.11.0,>=2.10.0 in /home/indika_kuma/anaconda3/lib/python3.7/site-packages (from tensorflow) (2.10.0)\n",
      "Requirement already satisfied: astunparse==1.6.3 in /home/indika_kuma/anaconda3/lib/python3.7/site-packages (from tensorflow) (1.6.3)\n",
      "Requirement already satisfied: wrapt>=1.11.1 in /home/indika_kuma/anaconda3/lib/python3.7/site-packages (from tensorflow) (1.11.2)\n",
      "Requirement already satisfied: grpcio>=1.8.6 in /home/indika_kuma/anaconda3/lib/python3.7/site-packages (from tensorflow) (1.30.0)\n",
      "Requirement already satisfied: setuptools in /home/indika_kuma/anaconda3/lib/python3.7/site-packages (from protobuf>=3.8.0->tensorflow) (45.2.0.post20200210)\n",
      "Requirement already satisfied: tensorboard-plugin-wit>=1.6.0 in /home/indika_kuma/anaconda3/lib/python3.7/site-packages (from tensorboard<2.3.0,>=2.2.0->tensorflow) (1.7.0)\n",
      "Requirement already satisfied: google-auth<2,>=1.6.3 in /home/indika_kuma/anaconda3/lib/python3.7/site-packages (from tensorboard<2.3.0,>=2.2.0->tensorflow) (1.19.0)\n",
      "Requirement already satisfied: werkzeug>=0.11.15 in /home/indika_kuma/anaconda3/lib/python3.7/site-packages (from tensorboard<2.3.0,>=2.2.0->tensorflow) (1.0.0)\n",
      "Requirement already satisfied: requests<3,>=2.21.0 in /home/indika_kuma/anaconda3/lib/python3.7/site-packages (from tensorboard<2.3.0,>=2.2.0->tensorflow) (2.22.0)\n",
      "Requirement already satisfied: markdown>=2.6.8 in /home/indika_kuma/anaconda3/lib/python3.7/site-packages (from tensorboard<2.3.0,>=2.2.0->tensorflow) (3.2.2)\n",
      "Requirement already satisfied: google-auth-oauthlib<0.5,>=0.4.1 in /home/indika_kuma/anaconda3/lib/python3.7/site-packages (from tensorboard<2.3.0,>=2.2.0->tensorflow) (0.4.1)\n",
      "Requirement already satisfied: cachetools<5.0,>=2.0.0 in /home/indika_kuma/anaconda3/lib/python3.7/site-packages (from google-auth<2,>=1.6.3->tensorboard<2.3.0,>=2.2.0->tensorflow) (4.1.1)\n",
      "Requirement already satisfied: rsa<5,>=3.1.4; python_version >= \"3\" in /home/indika_kuma/anaconda3/lib/python3.7/site-packages (from google-auth<2,>=1.6.3->tensorboard<2.3.0,>=2.2.0->tensorflow) (4.6)\n",
      "Requirement already satisfied: pyasn1-modules>=0.2.1 in /home/indika_kuma/anaconda3/lib/python3.7/site-packages (from google-auth<2,>=1.6.3->tensorboard<2.3.0,>=2.2.0->tensorflow) (0.2.8)\n",
      "Requirement already satisfied: idna<2.9,>=2.5 in /home/indika_kuma/anaconda3/lib/python3.7/site-packages (from requests<3,>=2.21.0->tensorboard<2.3.0,>=2.2.0->tensorflow) (2.8)\n",
      "Requirement already satisfied: chardet<3.1.0,>=3.0.2 in /home/indika_kuma/anaconda3/lib/python3.7/site-packages (from requests<3,>=2.21.0->tensorboard<2.3.0,>=2.2.0->tensorflow) (3.0.4)\n",
      "Requirement already satisfied: certifi>=2017.4.17 in /home/indika_kuma/anaconda3/lib/python3.7/site-packages (from requests<3,>=2.21.0->tensorboard<2.3.0,>=2.2.0->tensorflow) (2019.11.28)\n",
      "Requirement already satisfied: urllib3!=1.25.0,!=1.25.1,<1.26,>=1.21.1 in /home/indika_kuma/anaconda3/lib/python3.7/site-packages (from requests<3,>=2.21.0->tensorboard<2.3.0,>=2.2.0->tensorflow) (1.25.8)\n",
      "Requirement already satisfied: importlib-metadata; python_version < \"3.8\" in /home/indika_kuma/anaconda3/lib/python3.7/site-packages (from markdown>=2.6.8->tensorboard<2.3.0,>=2.2.0->tensorflow) (1.5.0)\n",
      "Requirement already satisfied: requests-oauthlib>=0.7.0 in /home/indika_kuma/anaconda3/lib/python3.7/site-packages (from google-auth-oauthlib<0.5,>=0.4.1->tensorboard<2.3.0,>=2.2.0->tensorflow) (1.3.0)\n",
      "Requirement already satisfied: pyasn1>=0.1.3 in /home/indika_kuma/anaconda3/lib/python3.7/site-packages (from rsa<5,>=3.1.4; python_version >= \"3\"->google-auth<2,>=1.6.3->tensorboard<2.3.0,>=2.2.0->tensorflow) (0.4.8)\n",
      "Requirement already satisfied: zipp>=0.5 in /home/indika_kuma/anaconda3/lib/python3.7/site-packages (from importlib-metadata; python_version < \"3.8\"->markdown>=2.6.8->tensorboard<2.3.0,>=2.2.0->tensorflow) (2.2.0)\n",
      "Requirement already satisfied: oauthlib>=3.0.0 in /home/indika_kuma/anaconda3/lib/python3.7/site-packages (from requests-oauthlib>=0.7.0->google-auth-oauthlib<0.5,>=0.4.1->tensorboard<2.3.0,>=2.2.0->tensorflow) (3.1.0)\n"
     ]
    }
   ],
   "source": [
    "import sys\n",
    "!{sys.executable} -m pip install tensorflow"
   ]
  },
  {
   "cell_type": "code",
   "execution_count": 7,
   "metadata": {
    "colab": {},
    "colab_type": "code",
    "id": "EDd_DUT9ATPR"
   },
   "outputs": [],
   "source": [
    "import pandas as pd\n",
    "import numpy as np\n",
    "import pickle\n",
    "import gensim\n",
    "import keras\n",
    "from keras import metrics"
   ]
  },
  {
   "cell_type": "code",
   "execution_count": 8,
   "metadata": {},
   "outputs": [
    {
     "name": "stdout",
     "output_type": "stream",
     "text": [
      "Requirement already satisfied: spacy in /home/indika_kuma/anaconda3/lib/python3.7/site-packages (2.3.2)\n",
      "Requirement already satisfied: plac<1.2.0,>=0.9.6 in /home/indika_kuma/anaconda3/lib/python3.7/site-packages (from spacy) (1.1.3)\n",
      "Requirement already satisfied: srsly<1.1.0,>=1.0.2 in /home/indika_kuma/anaconda3/lib/python3.7/site-packages (from spacy) (1.0.2)\n",
      "Requirement already satisfied: catalogue<1.1.0,>=0.0.7 in /home/indika_kuma/anaconda3/lib/python3.7/site-packages (from spacy) (1.0.0)\n",
      "Requirement already satisfied: preshed<3.1.0,>=3.0.2 in /home/indika_kuma/anaconda3/lib/python3.7/site-packages (from spacy) (3.0.2)\n",
      "Requirement already satisfied: blis<0.5.0,>=0.4.0 in /home/indika_kuma/anaconda3/lib/python3.7/site-packages (from spacy) (0.4.1)\n",
      "Requirement already satisfied: numpy>=1.15.0 in /home/indika_kuma/anaconda3/lib/python3.7/site-packages (from spacy) (1.18.1)\n",
      "Requirement already satisfied: requests<3.0.0,>=2.13.0 in /home/indika_kuma/anaconda3/lib/python3.7/site-packages (from spacy) (2.22.0)\n",
      "Requirement already satisfied: setuptools in /home/indika_kuma/anaconda3/lib/python3.7/site-packages (from spacy) (45.2.0.post20200210)\n",
      "Requirement already satisfied: thinc==7.4.1 in /home/indika_kuma/anaconda3/lib/python3.7/site-packages (from spacy) (7.4.1)\n",
      "Requirement already satisfied: wasabi<1.1.0,>=0.4.0 in /home/indika_kuma/anaconda3/lib/python3.7/site-packages (from spacy) (0.7.0)\n",
      "Requirement already satisfied: murmurhash<1.1.0,>=0.28.0 in /home/indika_kuma/anaconda3/lib/python3.7/site-packages (from spacy) (1.0.2)\n",
      "Requirement already satisfied: cymem<2.1.0,>=2.0.2 in /home/indika_kuma/anaconda3/lib/python3.7/site-packages (from spacy) (2.0.3)\n",
      "Requirement already satisfied: tqdm<5.0.0,>=4.38.0 in /home/indika_kuma/anaconda3/lib/python3.7/site-packages (from spacy) (4.42.1)\n",
      "Requirement already satisfied: importlib-metadata>=0.20; python_version < \"3.8\" in /home/indika_kuma/anaconda3/lib/python3.7/site-packages (from catalogue<1.1.0,>=0.0.7->spacy) (1.5.0)\n",
      "Requirement already satisfied: chardet<3.1.0,>=3.0.2 in /home/indika_kuma/anaconda3/lib/python3.7/site-packages (from requests<3.0.0,>=2.13.0->spacy) (3.0.4)\n",
      "Requirement already satisfied: urllib3!=1.25.0,!=1.25.1,<1.26,>=1.21.1 in /home/indika_kuma/anaconda3/lib/python3.7/site-packages (from requests<3.0.0,>=2.13.0->spacy) (1.25.8)\n",
      "Requirement already satisfied: certifi>=2017.4.17 in /home/indika_kuma/anaconda3/lib/python3.7/site-packages (from requests<3.0.0,>=2.13.0->spacy) (2019.11.28)\n",
      "Requirement already satisfied: idna<2.9,>=2.5 in /home/indika_kuma/anaconda3/lib/python3.7/site-packages (from requests<3.0.0,>=2.13.0->spacy) (2.8)\n",
      "Requirement already satisfied: zipp>=0.5 in /home/indika_kuma/anaconda3/lib/python3.7/site-packages (from importlib-metadata>=0.20; python_version < \"3.8\"->catalogue<1.1.0,>=0.0.7->spacy) (2.2.0)\n"
     ]
    }
   ],
   "source": [
    "import sys\n",
    "!{sys.executable} -m pip install spacy"
   ]
  },
  {
   "cell_type": "code",
   "execution_count": 9,
   "metadata": {
    "colab": {},
    "colab_type": "code",
    "id": "J8chOgcVAXP_"
   },
   "outputs": [],
   "source": [
    "import spacy \n",
    "from gensim.models import Word2Vec\n",
    "from gensim.models import KeyedVectors\n",
    "from keras.preprocessing.text import Tokenizer\n",
    "from keras.preprocessing.sequence import pad_sequences\n",
    "from keras.utils import to_categorical\n",
    "import tensorflow as tf\n",
    "tf.compat.v1.disable_eager_execution()"
   ]
  },
  {
   "cell_type": "code",
   "execution_count": 10,
   "metadata": {
    "colab": {},
    "colab_type": "code",
    "id": "coS5FA83Io8J"
   },
   "outputs": [],
   "source": [
    "from tensorflow.python.keras.metrics import Metric"
   ]
  },
  {
   "cell_type": "code",
   "execution_count": 11,
   "metadata": {
    "colab": {},
    "colab_type": "code",
    "id": "nP9syyD5s33a"
   },
   "outputs": [],
   "source": [
    "from tensorflow.python.keras import layers\n",
    "from tensorflow.python.keras.models import Sequential\n",
    "from tensorflow.python.keras.models import Model\n",
    "from tensorflow.python.keras.layers import Input, Dense, Embedding, Conv2D, MaxPool2D, Conv1D, MaxPooling1D, GlobalMaxPooling1D,MaxPooling2D, GlobalMaxPooling2D\n",
    "from tensorflow.python.keras.layers import Reshape, Flatten, Dropout, Concatenate,BatchNormalization\n",
    "from keras.layers.core import Reshape\n",
    "from tensorflow.python.keras.optimizers import RMSprop\n",
    "from tensorflow.python.keras.callbacks import ModelCheckpoint\n",
    "from tensorflow.python.keras.optimizers import Adam,SGD,Adadelta, Adagrad\n",
    "from tensorflow.python.keras.preprocessing.text import Tokenizer\n",
    "from tensorflow.python.keras.preprocessing.sequence import pad_sequences\n",
    "from tensorflow.python.keras import regularizers\n",
    "# from tensorflow.keras.callbacks import EarlyStopping\n",
    "# tf.compat.v1.disable_eager_execution()"
   ]
  },
  {
   "cell_type": "code",
   "execution_count": 12,
   "metadata": {
    "colab": {
     "base_uri": "https://localhost:8080/",
     "height": 136
    },
    "colab_type": "code",
    "id": "ywnRdciRpzmd",
    "outputId": "cf7f2f7c-caa3-43de-afab-7aebc91f960e"
   },
   "outputs": [
    {
     "name": "stdout",
     "output_type": "stream",
     "text": [
      "Index(['repo_count', 'task_name', 'method_description', 'mod_keys_found',\n",
      "       'mod_values_found', 'key_module_text', 'value_module_text',\n",
      "       'mod_keys_found_string', 'found_used_parameters', 'has_params',\n",
      "       'third_ast', 'third_tokens', 'token_task_names', 'descr_one_string',\n",
      "       'consistent', 'task_com', 'task_complete'],\n",
      "      dtype='object')\n"
     ]
    },
    {
     "data": {
      "text/plain": [
       "(20792, 17)"
      ]
     },
     "execution_count": 12,
     "metadata": {},
     "output_type": "execute_result"
    }
   ],
   "source": [
    "with open('mutated.pkl', 'rb') as input_file:\n",
    "    mutated = pickle.load(input_file)   \n",
    "print(mutated.columns)\n",
    "mutated.shape"
   ]
  },
  {
   "cell_type": "code",
   "execution_count": 13,
   "metadata": {
    "colab": {
     "base_uri": "https://localhost:8080/",
     "height": 187
    },
    "colab_type": "code",
    "id": "wXJoNEzrdYJu",
    "outputId": "779a6da2-57fb-4e2b-bddc-aa2f20eb1474"
   },
   "outputs": [
    {
     "data": {
      "text/plain": [
       "['shell',\n",
       " 'command',\n",
       " 'set_fact',\n",
       " 'template',\n",
       " 'file',\n",
       " 'gather_facts',\n",
       " 'copy',\n",
       " 'service',\n",
       " 'debug',\n",
       " 'fail']"
      ]
     },
     "execution_count": 13,
     "metadata": {},
     "output_type": "execute_result"
    }
   ],
   "source": [
    "with open('top10_list.pkl', 'rb') as input_file:\n",
    "    top10_list = pickle.load(input_file)   \n",
    "top10_list"
   ]
  },
  {
   "cell_type": "code",
   "execution_count": 14,
   "metadata": {
    "colab": {
     "base_uri": "https://localhost:8080/",
     "height": 34
    },
    "colab_type": "code",
    "id": "5OI52wjKGC_0",
    "outputId": "72d6e9dc-aa0b-438b-a294-4232f1c01926"
   },
   "outputs": [
    {
     "data": {
      "text/plain": [
       "(2492, 17)"
      ]
     },
     "execution_count": 14,
     "metadata": {},
     "output_type": "execute_result"
    }
   ],
   "source": [
    "mutated = mutated[mutated['mod_keys_found_string'] == 'set_fact']\n",
    "mutated.shape"
   ]
  },
  {
   "cell_type": "code",
   "execution_count": 15,
   "metadata": {
    "colab": {},
    "colab_type": "code",
    "id": "YSdIADOcp9ix"
   },
   "outputs": [],
   "source": [
    "train_set, val_set, test_set = np.split(mutated.sample(frac=1), [int(.6*len(mutated)), int(.8*len(mutated))])"
   ]
  },
  {
   "cell_type": "code",
   "execution_count": 16,
   "metadata": {
    "colab": {
     "base_uri": "https://localhost:8080/",
     "height": 68
    },
    "colab_type": "code",
    "id": "NU0YkDycp9nR",
    "outputId": "17f7e98f-5cad-4019-cf26-6783e08183da"
   },
   "outputs": [
    {
     "name": "stdout",
     "output_type": "stream",
     "text": [
      "(1495, 17)\n",
      "(498, 17)\n"
     ]
    },
    {
     "data": {
      "text/plain": [
       "(499, 17)"
      ]
     },
     "execution_count": 16,
     "metadata": {},
     "output_type": "execute_result"
    }
   ],
   "source": [
    "print(train_set.shape)\n",
    "print(val_set.shape)\n",
    "test_set.shape"
   ]
  },
  {
   "cell_type": "code",
   "execution_count": 17,
   "metadata": {
    "colab": {},
    "colab_type": "code",
    "id": "CcQEwAb_qkcF"
   },
   "outputs": [],
   "source": [
    "# train_set = train_set.reset_index(drop=True)\n",
    "# test_set = train_set.reset_index(drop=True)\n",
    "# val_set = train_set.reset_index(drop=True)"
   ]
  },
  {
   "cell_type": "code",
   "execution_count": 18,
   "metadata": {},
   "outputs": [],
   "source": [
    "from gensim.models import Word2Vec, KeyedVectors"
   ]
  },
  {
   "cell_type": "markdown",
   "metadata": {
    "colab_type": "text",
    "id": "MEL5VXpJr8tK"
   },
   "source": [
    "<h4>Word2vec</h4>\n",
    "\n",
    "\n"
   ]
  },
  {
   "cell_type": "code",
   "execution_count": 19,
   "metadata": {
    "colab": {},
    "colab_type": "code",
    "id": "vqUSS799sJWn"
   },
   "outputs": [],
   "source": [
    "tasks_sent_train = [row for row in train_set['task_complete']]"
   ]
  },
  {
   "cell_type": "code",
   "execution_count": 20,
   "metadata": {
    "colab": {},
    "colab_type": "code",
    "id": "MeEENPAwsJgt"
   },
   "outputs": [],
   "source": [
    "model_tasks3 = Word2Vec(tasks_sent_train, sg = 0, size=100, window=6, min_count=1, workers=4, iter= 1000)"
   ]
  },
  {
   "cell_type": "code",
   "execution_count": null,
   "metadata": {},
   "outputs": [],
   "source": []
  },
  {
   "cell_type": "markdown",
   "metadata": {
    "colab_type": "text",
    "id": "lMtckm_8t7rO"
   },
   "source": [
    "<h4>CNN</h4>"
   ]
  },
  {
   "cell_type": "code",
   "execution_count": 21,
   "metadata": {
    "colab": {},
    "colab_type": "code",
    "id": "Lvgr1KOyzeUY"
   },
   "outputs": [],
   "source": [
    "def list_to_string(lst):\n",
    "\n",
    "  one_string = ' '.join(lst)\n",
    "\n",
    "  return one_string"
   ]
  },
  {
   "cell_type": "code",
   "execution_count": 22,
   "metadata": {
    "colab": {},
    "colab_type": "code",
    "id": "wdtnsLzxxvxG"
   },
   "outputs": [],
   "source": [
    "train_set['task_complete_one_string'] = train_set['task_complete'].apply(lambda x: list_to_string(x))\n",
    "test_set['task_complete_one_string'] = test_set['task_complete'].apply(lambda x: list_to_string(x))\n",
    "val_set['task_complete_one_string'] = val_set['task_complete'].apply(lambda x: list_to_string(x))"
   ]
  },
  {
   "cell_type": "code",
   "execution_count": 23,
   "metadata": {
    "colab": {},
    "colab_type": "code",
    "id": "m63-rYAr0G6Q"
   },
   "outputs": [],
   "source": [
    "# train_set['task_complete_one_string'][11548]"
   ]
  },
  {
   "cell_type": "code",
   "execution_count": 24,
   "metadata": {
    "colab": {
     "base_uri": "https://localhost:8080/",
     "height": 170
    },
    "colab_type": "code",
    "id": "N604FxtW5s09",
    "outputId": "349104e3-b373-499e-a237-f231d2f70c7a"
   },
   "outputs": [
    {
     "name": "stdout",
     "output_type": "stream",
     "text": [
      "0    767\n",
      "1    728\n",
      "Name: consistent, dtype: int64 (1495,)\n",
      "1    259\n",
      "0    240\n",
      "Name: consistent, dtype: int64 (499,)\n",
      "1    259\n",
      "0    239\n",
      "Name: consistent, dtype: int64 (498,)\n"
     ]
    }
   ],
   "source": [
    "y_train = train_set['consistent'].astype(int)\n",
    "print(y_train.value_counts(),y_train.shape)\n",
    "\n",
    "y_test = test_set['consistent'].astype(int)\n",
    "print(y_test.value_counts(),y_test.shape)\n",
    "\n",
    "y_val = val_set['consistent'].astype(int)\n",
    "print(y_val.value_counts(),y_val.shape)"
   ]
  },
  {
   "cell_type": "code",
   "execution_count": 25,
   "metadata": {
    "colab": {
     "base_uri": "https://localhost:8080/",
     "height": 34
    },
    "colab_type": "code",
    "id": "yh6WwQSUKUkL",
    "outputId": "25b69d2c-4529-4bf7-8c81-c00bbea01a8c"
   },
   "outputs": [
    {
     "data": {
      "text/plain": [
       "(499, 18)"
      ]
     },
     "execution_count": 25,
     "metadata": {},
     "output_type": "execute_result"
    }
   ],
   "source": [
    "test_set.shape"
   ]
  },
  {
   "cell_type": "code",
   "execution_count": 26,
   "metadata": {
    "colab": {
     "base_uri": "https://localhost:8080/",
     "height": 34
    },
    "colab_type": "code",
    "id": "6TtYJ-8uMkPH",
    "outputId": "ffe3d55e-8868-41fe-fa84-1ef98dfa0a8b"
   },
   "outputs": [
    {
     "data": {
      "text/plain": [
       "gensim.models.keyedvectors.Word2VecKeyedVectors"
      ]
     },
     "execution_count": 26,
     "metadata": {},
     "output_type": "execute_result"
    }
   ],
   "source": [
    "word_vectors = model_tasks3.wv\n",
    "type(word_vectors)"
   ]
  },
  {
   "cell_type": "code",
   "execution_count": 27,
   "metadata": {
    "colab": {
     "base_uri": "https://localhost:8080/",
     "height": 34
    },
    "colab_type": "code",
    "id": "IOW-qkwGRVo6",
    "outputId": "04efe73a-b4b5-4dad-f760-bb6fb72ccb54"
   },
   "outputs": [
    {
     "data": {
      "text/plain": [
       "5300"
      ]
     },
     "execution_count": 27,
     "metadata": {},
     "output_type": "execute_result"
    }
   ],
   "source": [
    "len(word_vectors.vocab)"
   ]
  },
  {
   "cell_type": "code",
   "execution_count": 28,
   "metadata": {
    "colab": {
     "base_uri": "https://localhost:8080/",
     "height": 68
    },
    "colab_type": "code",
    "id": "ppiBlWzC0CRu",
    "outputId": "c75f8901-7e95-48eb-8421-afcec12c6bf3"
   },
   "outputs": [
    {
     "name": "stdout",
     "output_type": "stream",
     "text": [
      "<keras_preprocessing.text.Tokenizer object at 0x7f2812ae39d0>\n",
      "<keras_preprocessing.text.Tokenizer object at 0x7f2812ae8310>\n"
     ]
    },
    {
     "data": {
      "text/plain": [
       "<keras_preprocessing.text.Tokenizer at 0x7f2812b32d50>"
      ]
     },
     "execution_count": 28,
     "metadata": {},
     "output_type": "execute_result"
    }
   ],
   "source": [
    "tokenizer_train = Tokenizer(lower=False) \n",
    "tokenizer_train.fit_on_texts(train_set['task_complete'])\n",
    "print(tokenizer_train)\n",
    "\n",
    "tokenizer_test = Tokenizer(lower=False) \n",
    "tokenizer_test.fit_on_texts(test_set['task_complete'])\n",
    "print(tokenizer_test)\n",
    "\n",
    "tokenizer_val = Tokenizer(lower=False) \n",
    "tokenizer_val.fit_on_texts(val_set['task_complete'])\n",
    "tokenizer_val"
   ]
  },
  {
   "cell_type": "code",
   "execution_count": 29,
   "metadata": {
    "colab": {
     "base_uri": "https://localhost:8080/",
     "height": 187
    },
    "colab_type": "code",
    "id": "lxRmJbsY0hsA",
    "outputId": "d28c9226-bac8-4491-9a2e-4f20279f84a2"
   },
   "outputs": [
    {
     "data": {
      "text/plain": [
       "['AnsibleTask',\n",
       " 'TaskName',\n",
       " 'TaskDescription',\n",
       " 'set_fact',\n",
       " 'when',\n",
       " 'Set',\n",
       " 'is',\n",
       " 'set',\n",
       " 'for',\n",
       " 'True']"
      ]
     },
     "execution_count": 29,
     "metadata": {},
     "output_type": "execute_result"
    }
   ],
   "source": [
    "list(tokenizer_train.word_index)[0:10]"
   ]
  },
  {
   "cell_type": "code",
   "execution_count": 30,
   "metadata": {
    "colab": {
     "base_uri": "https://localhost:8080/",
     "height": 34
    },
    "colab_type": "code",
    "id": "yACwc0TP0hut",
    "outputId": "a2d9a674-12b4-4f14-da9f-cfbb79130f37"
   },
   "outputs": [
    {
     "name": "stdout",
     "output_type": "stream",
     "text": [
      "len(tokenizer) : 5300\n"
     ]
    }
   ],
   "source": [
    "print(\"len(tokenizer) :\",len(list(tokenizer_train.word_index)))"
   ]
  },
  {
   "cell_type": "code",
   "execution_count": 31,
   "metadata": {
    "colab": {},
    "colab_type": "code",
    "id": "mijaHfH208z4"
   },
   "outputs": [],
   "source": [
    "tasks_train_tokens = tokenizer_train.texts_to_sequences(train_set['task_complete_one_string'])\n",
    "tasks_test_tokens = tokenizer_test.texts_to_sequences(test_set['task_complete_one_string'])\n",
    "tasks_val_tokens = tokenizer_val.texts_to_sequences(val_set['task_complete_one_string'])"
   ]
  },
  {
   "cell_type": "code",
   "execution_count": 32,
   "metadata": {
    "colab": {},
    "colab_type": "code",
    "id": "NK0MQqs-1I_w"
   },
   "outputs": [],
   "source": [
    "# print(tasks_train_tokens[800])"
   ]
  },
  {
   "cell_type": "code",
   "execution_count": 33,
   "metadata": {
    "colab": {},
    "colab_type": "code",
    "id": "cK35303c1JC0"
   },
   "outputs": [],
   "source": [
    "num_tokens = [len(tokens) for tokens in tasks_train_tokens]\n",
    "num_tokens = np.array(num_tokens)"
   ]
  },
  {
   "cell_type": "code",
   "execution_count": 34,
   "metadata": {
    "colab": {
     "base_uri": "https://localhost:8080/",
     "height": 34
    },
    "colab_type": "code",
    "id": "hxd--XHz1JLo",
    "outputId": "fcc48ae6-d8d5-43fb-89e8-c973a0ad8612"
   },
   "outputs": [
    {
     "data": {
      "text/plain": [
       "1495"
      ]
     },
     "execution_count": 34,
     "metadata": {},
     "output_type": "execute_result"
    }
   ],
   "source": [
    "len(num_tokens)"
   ]
  },
  {
   "cell_type": "code",
   "execution_count": 35,
   "metadata": {
    "colab": {
     "base_uri": "https://localhost:8080/",
     "height": 34
    },
    "colab_type": "code",
    "id": "JeZ1pI3E1deh",
    "outputId": "27088c42-47a5-4dd7-b7d2-7cf728f1365d"
   },
   "outputs": [
    {
     "data": {
      "text/plain": [
       "204"
      ]
     },
     "execution_count": 35,
     "metadata": {},
     "output_type": "execute_result"
    }
   ],
   "source": [
    "np.max(num_tokens)"
   ]
  },
  {
   "cell_type": "code",
   "execution_count": 36,
   "metadata": {
    "colab": {
     "base_uri": "https://localhost:8080/",
     "height": 34
    },
    "colab_type": "code",
    "id": "bODkCxiS1dg0",
    "outputId": "8ed5078a-4a5e-47f3-d209-b1942d5f0bf8"
   },
   "outputs": [
    {
     "data": {
      "text/plain": [
       "810"
      ]
     },
     "execution_count": 36,
     "metadata": {},
     "output_type": "execute_result"
    }
   ],
   "source": [
    "np.argmax(num_tokens)"
   ]
  },
  {
   "cell_type": "code",
   "execution_count": 37,
   "metadata": {
    "colab": {
     "base_uri": "https://localhost:8080/",
     "height": 34
    },
    "colab_type": "code",
    "id": "osn2Cu771dps",
    "outputId": "315785e0-d524-4c83-cad3-080ab20e5292"
   },
   "outputs": [
    {
     "data": {
      "text/plain": [
       "57"
      ]
     },
     "execution_count": 37,
     "metadata": {},
     "output_type": "execute_result"
    }
   ],
   "source": [
    "max_tokens = np.mean(num_tokens) + 2 * np.std(num_tokens)\n",
    "max_tokens = int(max_tokens)\n",
    "max_tokens"
   ]
  },
  {
   "cell_type": "code",
   "execution_count": 38,
   "metadata": {
    "colab": {
     "base_uri": "https://localhost:8080/",
     "height": 34
    },
    "colab_type": "code",
    "id": "ISW3pUnI1dsd",
    "outputId": "d39a2a51-f0b1-4904-930a-709ab20fd0f5"
   },
   "outputs": [
    {
     "data": {
      "text/plain": [
       "0.9719063545150501"
      ]
     },
     "execution_count": 38,
     "metadata": {},
     "output_type": "execute_result"
    }
   ],
   "source": [
    "np.sum(num_tokens < max_tokens) / len(num_tokens)"
   ]
  },
  {
   "cell_type": "code",
   "execution_count": 39,
   "metadata": {
    "colab": {},
    "colab_type": "code",
    "id": "Y8x_yJAA1d04"
   },
   "outputs": [],
   "source": [
    "tasks_train_pad = pad_sequences(tasks_train_tokens, maxlen=max_tokens,padding='post')\n",
    "tasks_test_pad = pad_sequences(tasks_test_tokens, maxlen=max_tokens,padding='post')\n",
    "tasks_val_pad = pad_sequences(tasks_val_tokens, maxlen=max_tokens,padding='post')"
   ]
  },
  {
   "cell_type": "code",
   "execution_count": 40,
   "metadata": {
    "colab": {
     "base_uri": "https://localhost:8080/",
     "height": 34
    },
    "colab_type": "code",
    "id": "RnngGpBQJUNF",
    "outputId": "02ceb1d1-33bf-4b65-9e95-df63fb34c7f2"
   },
   "outputs": [
    {
     "data": {
      "text/plain": [
       "1495"
      ]
     },
     "execution_count": 40,
     "metadata": {},
     "output_type": "execute_result"
    }
   ],
   "source": [
    "tasks_train_pad.shape[0]"
   ]
  },
  {
   "cell_type": "code",
   "execution_count": 41,
   "metadata": {
    "colab": {
     "base_uri": "https://localhost:8080/",
     "height": 105
    },
    "colab_type": "code",
    "id": "iCfHqoJs1d5m",
    "outputId": "e91b5836-795b-41a2-bb90-c83d632a859a"
   },
   "outputs": [
    {
     "name": "stdout",
     "output_type": "stream",
     "text": [
      "x_train_tokens : [1, 2, 8, 21, 51, 1485, 9, 87, 203, 1111, 3, 8, 11, 1111, 51, 449, 61, 196, 39, 1485, 141, 1349, 196, 39, 1485, 1744, 467, 5, 13, 1744, 467]\n",
      "x_train_pad : [   1    2    8   21   51 1485    9   87  203 1111    3    8   11 1111\n",
      "   51  449   61  196   39 1485  141 1349  196   39 1485 1744  467    5\n",
      "   13 1744  467    0    0    0    0    0    0    0    0    0    0    0\n",
      "    0    0    0    0    0    0    0    0    0    0    0    0    0    0\n",
      "    0]\n"
     ]
    }
   ],
   "source": [
    "print(\"x_train_tokens :\",tasks_train_tokens[0])\n",
    "print(\"x_train_pad :\",tasks_train_pad[0])"
   ]
  },
  {
   "cell_type": "code",
   "execution_count": 42,
   "metadata": {
    "colab": {
     "base_uri": "https://localhost:8080/",
     "height": 34
    },
    "colab_type": "code",
    "id": "pXmhJOcI1d-U",
    "outputId": "b1fd6df0-703a-4262-e92a-e7f22628da3d"
   },
   "outputs": [
    {
     "name": "stdout",
     "output_type": "stream",
     "text": [
      "x_train_pad.shape : (1495, 57)\n"
     ]
    }
   ],
   "source": [
    "print(\"x_train_pad.shape :\",tasks_train_pad.shape)"
   ]
  },
  {
   "cell_type": "code",
   "execution_count": 43,
   "metadata": {
    "colab": {},
    "colab_type": "code",
    "id": "69whe6dV1eC0"
   },
   "outputs": [],
   "source": [
    "idx = tokenizer_train.word_index\n",
    "inverse_map = dict(zip(idx.values(), idx.keys()))"
   ]
  },
  {
   "cell_type": "code",
   "execution_count": 44,
   "metadata": {
    "colab": {},
    "colab_type": "code",
    "id": "3BUxf7ZC1eHS"
   },
   "outputs": [],
   "source": [
    "def tokens_to_string(tokens):\n",
    "    words = [inverse_map[token] for token in tokens if token!=0]\n",
    "    text = ' '.join(words)\n",
    "    return text"
   ]
  },
  {
   "cell_type": "code",
   "execution_count": 45,
   "metadata": {
    "colab": {},
    "colab_type": "code",
    "id": "soXSqDWK1ePF"
   },
   "outputs": [],
   "source": [
    "embedding_size = 100"
   ]
  },
  {
   "cell_type": "code",
   "execution_count": 46,
   "metadata": {
    "colab": {
     "base_uri": "https://localhost:8080/",
     "height": 34
    },
    "colab_type": "code",
    "id": "T_xzrQGy1eNU",
    "outputId": "d749b6e3-b2fa-496f-fe05-8c753ae85ff3"
   },
   "outputs": [
    {
     "data": {
      "text/plain": [
       "5301"
      ]
     },
     "execution_count": 46,
     "metadata": {},
     "output_type": "execute_result"
    }
   ],
   "source": [
    "num_words = len(list(tokenizer_train.word_index))+1\n",
    "num_words"
   ]
  },
  {
   "cell_type": "code",
   "execution_count": 47,
   "metadata": {
    "colab": {
     "base_uri": "https://localhost:8080/",
     "height": 51
    },
    "colab_type": "code",
    "id": "q69r_v1S1eFX",
    "outputId": "55a0adb5-127e-4ce6-aced-0130ce81b3f3"
   },
   "outputs": [
    {
     "name": "stderr",
     "output_type": "stream",
     "text": [
      "/home/indika_kuma/anaconda3/lib/python3.7/site-packages/ipykernel_launcher.py:4: DeprecationWarning: Call to deprecated `__getitem__` (Method will be removed in 4.0.0, use self.wv.__getitem__() instead).\n",
      "  after removing the cwd from sys.path.\n"
     ]
    }
   ],
   "source": [
    "embedding_matrix = np.random.uniform(-1, 1, (num_words, embedding_size))\n",
    "for word, i in tokenizer_train.word_index.items():\n",
    "    if i < num_words:\n",
    "        embedding_vector = model_tasks3[word]\n",
    "        if embedding_vector is not None:\n",
    "            embedding_matrix[i] = embedding_vector"
   ]
  },
  {
   "cell_type": "code",
   "execution_count": 48,
   "metadata": {
    "colab": {
     "base_uri": "https://localhost:8080/",
     "height": 34
    },
    "colab_type": "code",
    "id": "wfGfELu31eBN",
    "outputId": "ca3fecbb-9471-4591-f1e1-bf417b32c26f"
   },
   "outputs": [
    {
     "data": {
      "text/plain": [
       "(5301, 100)"
      ]
     },
     "execution_count": 48,
     "metadata": {},
     "output_type": "execute_result"
    }
   ],
   "source": [
    "embedding_matrix.shape"
   ]
  },
  {
   "cell_type": "code",
   "execution_count": 49,
   "metadata": {
    "colab": {
     "base_uri": "https://localhost:8080/",
     "height": 238
    },
    "colab_type": "code",
    "id": "HJ1Am2Vc1d8n",
    "outputId": "ea8f6e1f-5d41-4647-ac48-93b47b785359"
   },
   "outputs": [
    {
     "data": {
      "text/plain": [
       "array([[-0.80686065, -0.83229104,  0.11143421, ...,  0.72673538,\n",
       "         0.01897481, -0.89228194],\n",
       "       [-4.77425909, -2.10319877,  5.93406534, ..., -0.16304727,\n",
       "        -0.63446128,  3.44453597],\n",
       "       [-1.00487518, -3.47643542,  2.16983104, ..., -0.22994469,\n",
       "        -2.31468153,  1.47853625],\n",
       "       ...,\n",
       "       [ 0.39414153,  0.45373723, -0.76490855, ..., -0.37420809,\n",
       "         0.76646137, -0.70431584],\n",
       "       [ 0.36735344,  0.32206404, -0.56260073, ..., -0.46176291,\n",
       "         0.68290007, -0.49488196],\n",
       "       [-0.02324706,  0.11718029, -0.40823644, ..., -0.53351951,\n",
       "         0.12231456, -0.14461504]])"
      ]
     },
     "execution_count": 49,
     "metadata": {},
     "output_type": "execute_result"
    }
   ],
   "source": [
    "embedding_matrix"
   ]
  },
  {
   "cell_type": "code",
   "execution_count": 50,
   "metadata": {
    "colab": {},
    "colab_type": "code",
    "id": "7PnM3i8A1d3z"
   },
   "outputs": [],
   "source": [
    "sequence_length = max_tokens\n",
    "vocabulary_size = num_words\n",
    "embedding_dim = embedding_size\n",
    "filter_sizes = [3,4,5]\n",
    "batch_size = 256\n",
    "# num_filters = 512\n",
    "# drop = 0.5"
   ]
  },
  {
   "cell_type": "code",
   "execution_count": 51,
   "metadata": {
    "colab": {
     "base_uri": "https://localhost:8080/",
     "height": 34
    },
    "colab_type": "code",
    "id": "4AXPrFArfAWM",
    "outputId": "a570226c-a937-4d51-c049-92ab033fc1d6"
   },
   "outputs": [
    {
     "name": "stdout",
     "output_type": "stream",
     "text": [
      "WARNING:tensorflow:From /home/indika_kuma/anaconda3/lib/python3.7/site-packages/tensorflow/python/ops/resource_variable_ops.py:1666: calling BaseResourceVariable.__init__ (from tensorflow.python.ops.resource_variable_ops) with constraint is deprecated and will be removed in a future version.\n",
      "Instructions for updating:\n",
      "If using Keras pass *_constraint arguments to layers.\n"
     ]
    },
    {
     "data": {
      "text/plain": [
       "<tf.Tensor 'embedding_layer/embedding_lookup/Identity_1:0' shape=(None, 57, 100) dtype=float32>"
      ]
     },
     "execution_count": 51,
     "metadata": {},
     "output_type": "execute_result"
    }
   ],
   "source": [
    "embedding_layer = Embedding(input_dim=num_words,output_dim=embedding_size,weights= [embedding_matrix],input_length=max_tokens, trainable=False,name='embedding_layer')\n",
    "inputs = Input(shape=(sequence_length,))\n",
    "embedding = embedding_layer(inputs)\n",
    "embedding"
   ]
  },
  {
   "cell_type": "code",
   "execution_count": 52,
   "metadata": {
    "colab": {
     "base_uri": "https://localhost:8080/",
     "height": 51
    },
    "colab_type": "code",
    "id": "QTJfYrqYlIEj",
    "outputId": "75c1047e-4fc1-4f9c-dd7a-b36b009a009d"
   },
   "outputs": [
    {
     "name": "stdout",
     "output_type": "stream",
     "text": [
      "(1495, 57)\n",
      "57\n"
     ]
    }
   ],
   "source": [
    "sample_size = tasks_train_pad.shape\n",
    "print(sample_size)\n",
    "print(len(tasks_train_pad[0]))"
   ]
  },
  {
   "cell_type": "code",
   "execution_count": 53,
   "metadata": {},
   "outputs": [],
   "source": [
    "tf.compat.v1.disable_eager_execution()"
   ]
  },
  {
   "cell_type": "code",
   "execution_count": 54,
   "metadata": {
    "colab": {
     "base_uri": "https://localhost:8080/",
     "height": 1000
    },
    "colab_type": "code",
    "id": "DtZSKAUo1dwl",
    "outputId": "d8bbe287-2fec-470d-eca5-845462067ce3"
   },
   "outputs": [
    {
     "name": "stdout",
     "output_type": "stream",
     "text": [
      "training CNN ...\n",
      "Model: \"sequential\"\n",
      "_________________________________________________________________\n",
      "Layer (type)                 Output Shape              Param #   \n",
      "=================================================================\n",
      "embedding_layer (Embedding)  (None, 57, 100)           530100    \n",
      "_________________________________________________________________\n",
      "conv1d (Conv1D)              (None, 57, 64)            364864    \n",
      "_________________________________________________________________\n",
      "max_pooling1d (MaxPooling1D) (None, 28, 64)            0         \n",
      "_________________________________________________________________\n",
      "dropout (Dropout)            (None, 28, 64)            0         \n",
      "_________________________________________________________________\n",
      "conv1d_1 (Conv1D)            (None, 28, 128)           467072    \n",
      "_________________________________________________________________\n",
      "global_max_pooling1d (Global (None, 128)               0         \n",
      "_________________________________________________________________\n",
      "dropout_1 (Dropout)          (None, 128)               0         \n",
      "_________________________________________________________________\n",
      "flatten (Flatten)            (None, 128)               0         \n",
      "_________________________________________________________________\n",
      "dense (Dense)                (None, 128)               16512     \n",
      "_________________________________________________________________\n",
      "dense_1 (Dense)              (None, 2)                 258       \n",
      "=================================================================\n",
      "Total params: 1,378,806\n",
      "Trainable params: 1,378,806\n",
      "Non-trainable params: 0\n",
      "_________________________________________________________________\n",
      "Train on 1495 samples, validate on 499 samples\n",
      "Epoch 1/20\n",
      "1495/1495 - 1s - loss: 0.5090 - accuracy: 0.5110 - val_loss: 0.5199 - val_accuracy: 0.4810\n",
      "Epoch 2/20\n",
      "1495/1495 - 1s - loss: 0.4566 - accuracy: 0.6013 - val_loss: 0.4388 - val_accuracy: 0.6854\n",
      "Epoch 3/20\n",
      "1495/1495 - 1s - loss: 0.3156 - accuracy: 0.7853 - val_loss: 0.3528 - val_accuracy: 0.7355\n",
      "Epoch 4/20\n",
      "1495/1495 - 1s - loss: 0.1525 - accuracy: 0.9104 - val_loss: 0.2880 - val_accuracy: 0.7816\n",
      "Epoch 5/20\n",
      "1495/1495 - 1s - loss: 0.0779 - accuracy: 0.9679 - val_loss: 0.2787 - val_accuracy: 0.7655\n",
      "Epoch 6/20\n",
      "1495/1495 - 1s - loss: 0.0558 - accuracy: 0.9786 - val_loss: 0.2744 - val_accuracy: 0.7675\n",
      "Epoch 7/20\n",
      "1495/1495 - 1s - loss: 0.0507 - accuracy: 0.9819 - val_loss: 0.2755 - val_accuracy: 0.7675\n",
      "Epoch 8/20\n",
      "1495/1495 - 1s - loss: 0.0422 - accuracy: 0.9886 - val_loss: 0.2777 - val_accuracy: 0.7535\n",
      "Epoch 9/20\n",
      "1495/1495 - 1s - loss: 0.0413 - accuracy: 0.9900 - val_loss: 0.2720 - val_accuracy: 0.7555\n",
      "Epoch 10/20\n",
      "1495/1495 - 1s - loss: 0.0377 - accuracy: 0.9933 - val_loss: 0.2781 - val_accuracy: 0.7515\n",
      "Epoch 11/20\n",
      "1495/1495 - 1s - loss: 0.0389 - accuracy: 0.9926 - val_loss: 0.2764 - val_accuracy: 0.7495\n",
      "Epoch 12/20\n",
      "1495/1495 - 1s - loss: 0.0372 - accuracy: 0.9933 - val_loss: 0.2669 - val_accuracy: 0.7756\n",
      "Epoch 13/20\n",
      "1495/1495 - 1s - loss: 0.0373 - accuracy: 0.9926 - val_loss: 0.2772 - val_accuracy: 0.7575\n",
      "Epoch 14/20\n",
      "1495/1495 - 1s - loss: 0.0367 - accuracy: 0.9933 - val_loss: 0.2642 - val_accuracy: 0.7796\n",
      "Epoch 15/20\n",
      "1495/1495 - 1s - loss: 0.0363 - accuracy: 0.9926 - val_loss: 0.2730 - val_accuracy: 0.7655\n",
      "Epoch 16/20\n",
      "1495/1495 - 1s - loss: 0.0359 - accuracy: 0.9946 - val_loss: 0.2630 - val_accuracy: 0.7776\n",
      "Epoch 17/20\n",
      "1495/1495 - 1s - loss: 0.0352 - accuracy: 0.9953 - val_loss: 0.2693 - val_accuracy: 0.7655\n",
      "Epoch 18/20\n",
      "1495/1495 - 1s - loss: 0.0350 - accuracy: 0.9946 - val_loss: 0.2718 - val_accuracy: 0.7655\n",
      "Epoch 19/20\n",
      "1495/1495 - 1s - loss: 0.0348 - accuracy: 0.9946 - val_loss: 0.2618 - val_accuracy: 0.7776\n",
      "Epoch 20/20\n",
      "1495/1495 - 1s - loss: 0.0337 - accuracy: 0.9960 - val_loss: 0.2615 - val_accuracy: 0.7816\n"
     ]
    }
   ],
   "source": [
    "#CNN architecture\n",
    "\n",
    "\n",
    "num_classes = 2\n",
    "\n",
    "#Training params\n",
    "# batch_size = 256 \n",
    "num_epochs = 20\n",
    "\n",
    "#Model parameters\n",
    "num_filters = 64  \n",
    "embed_dim = embedding_size \n",
    "weight_decay = 1e-4\n",
    "\n",
    "print(\"training CNN ...\")\n",
    "model = Sequential()\n",
    "\n",
    "#Model add word2vec embedding\n",
    "\n",
    "model.add(Embedding(input_dim=num_words,\n",
    "                    output_dim=embedding_size,\n",
    "                    weights= [embedding_matrix],\n",
    "                    input_length=max_tokens,        \n",
    "                    trainable=True,              #the layer is trained\n",
    "                    name='embedding_layer'))\n",
    "model.add(layers.Conv1D(filters = num_filters, kernel_size = max_tokens, activation='relu', padding='same',kernel_regularizer=regularizers.l2(weight_decay)))\n",
    "model.add(layers.MaxPooling1D(2))\n",
    "model.add(Dropout(0.25))\n",
    "\n",
    "model.add(layers.Conv1D(filters = num_filters+num_filters, kernel_size = max_tokens, activation='relu', padding='same',kernel_regularizer=regularizers.l2(weight_decay)))\n",
    "model.add(layers.GlobalMaxPooling1D())\n",
    "model.add(Dropout(0.25))\n",
    "\n",
    "model.add(layers.Flatten())\n",
    "model.add(layers.Dense(128, activation='relu', kernel_regularizer=regularizers.l2(weight_decay)))\n",
    "# model.add(BatchNormalization())\n",
    "model.add(layers.Dense(num_classes, activation='softmax'))\n",
    "\n",
    "adam = Adam(lr=0.001, beta_1=0.9, beta_2=0.999, epsilon=1e-08, decay=0.0)\n",
    "sgd = SGD(lr=1e-2, decay=1e-6, momentum=0.9, nesterov=True)\n",
    "model.compile(loss=tf.keras.losses.MeanAbsoluteError(), optimizer = sgd,metrics=['accuracy'])\n",
    "model.summary()\n",
    "\n",
    "\n",
    "history = model.fit(tasks_train_pad, to_categorical(y_train), batch_size=batch_size, epochs=num_epochs, validation_data=(tasks_test_pad, to_categorical(y_test)),\n",
    "                 shuffle=True, verbose=2)"
   ]
  },
  {
   "cell_type": "code",
   "execution_count": 55,
   "metadata": {
    "colab": {},
    "colab_type": "code",
    "id": "qvZkJXMBXP0_"
   },
   "outputs": [],
   "source": [
    "from matplotlib import pyplot"
   ]
  },
  {
   "cell_type": "code",
   "execution_count": 56,
   "metadata": {
    "colab": {
     "base_uri": "https://localhost:8080/",
     "height": 295
    },
    "colab_type": "code",
    "id": "c1Q1BarscvqA",
    "outputId": "505262c6-8fb2-493e-805a-f6aac860a8d9"
   },
   "outputs": [
    {
     "data": {
      "image/png": "[encoded data removed]",
      "text/plain": [
       "<Figure size 432x288 with 1 Axes>"
      ]
     },
     "metadata": {
      "needs_background": "light"
     },
     "output_type": "display_data"
    }
   ],
   "source": [
    "pyplot.plot(history.history['loss'])\n",
    "pyplot.plot(history.history['val_loss'])\n",
    "pyplot.title('Model Loss')\n",
    "pyplot.ylabel('Loss')\n",
    "pyplot.xlabel('Epoch')\n",
    "pyplot.legend(['Train', 'Test'], loc='upper left')\n",
    "pyplot.savefig('loss/loss_set_fact.jpg', dpi=600)\n",
    "pyplot.show()"
   ]
  },
  {
   "cell_type": "code",
   "execution_count": 57,
   "metadata": {
    "colab": {
     "base_uri": "https://localhost:8080/",
     "height": 295
    },
    "colab_type": "code",
    "id": "GgsJ0lcddco6",
    "outputId": "ef708359-47dd-414e-9b86-b2b6a85bbb84"
   },
   "outputs": [
    {
     "data": {
      "image/png": "[encoded data removed]",
      "text/plain": [
       "<Figure size 432x288 with 1 Axes>"
      ]
     },
     "metadata": {
      "needs_background": "light"
     },
     "output_type": "display_data"
    }
   ],
   "source": [
    "pyplot.plot(history.history['accuracy'])\n",
    "pyplot.plot(history.history['val_accuracy'])\n",
    "pyplot.title('Model Accuracy')\n",
    "pyplot.ylabel('Accuracy')\n",
    "pyplot.xlabel('Epoch')\n",
    "pyplot.legend(['Train', 'Test'], loc='upper left')\n",
    "pyplot.savefig('accs/acc_set_fact.jpg', dpi=600)\n",
    "pyplot.show()"
   ]
  },
  {
   "cell_type": "code",
   "execution_count": 58,
   "metadata": {
    "colab": {},
    "colab_type": "code",
    "id": "mvl0Ihfr5wKQ"
   },
   "outputs": [],
   "source": [
    "score = model.evaluate(tasks_val_pad, to_categorical(y_val), verbose=0)"
   ]
  },
  {
   "cell_type": "code",
   "execution_count": 59,
   "metadata": {
    "colab": {
     "base_uri": "https://localhost:8080/",
     "height": 51
    },
    "colab_type": "code",
    "id": "nFBRl3S21doV",
    "outputId": "70ef56d9-255c-4f1c-f0c3-b6f958ef5fa0"
   },
   "outputs": [
    {
     "name": "stdout",
     "output_type": "stream",
     "text": [
      "loss: 0.2156041842028798\n",
      "Validation accuracy: 0.8192771\n"
     ]
    }
   ],
   "source": [
    "print('loss:', score[0])\n",
    "print('Validation accuracy:', score[1])"
   ]
  },
  {
   "cell_type": "code",
   "execution_count": 60,
   "metadata": {
    "colab": {},
    "colab_type": "code",
    "id": "nLa57Nr2Jkp-"
   },
   "outputs": [
    {
     "name": "stdout",
     "output_type": "stream",
     "text": [
      "WARNING:tensorflow:From <ipython-input-60-a09704dabaa7>:1: Sequential.predict_classes (from tensorflow.python.keras.engine.sequential) is deprecated and will be removed after 2021-01-01.\n",
      "Instructions for updating:\n",
      "Please use instead:* `np.argmax(model.predict(x), axis=-1)`,   if your model does multi-class classification   (e.g. if it uses a `softmax` last-layer activation).* `(model.predict(x) > 0.5).astype(\"int32\")`,   if your model does binary classification   (e.g. if it uses a `sigmoid` last-layer activation).\n"
     ]
    }
   ],
   "source": [
    "y_pred=model.predict_classes(tasks_val_pad)"
   ]
  },
  {
   "cell_type": "code",
   "execution_count": 61,
   "metadata": {
    "colab": {},
    "colab_type": "code",
    "id": "vzD0liqj1djU"
   },
   "outputs": [],
   "source": [
    "from sklearn.metrics import confusion_matrix"
   ]
  },
  {
   "cell_type": "code",
   "execution_count": 62,
   "metadata": {
    "colab": {
     "base_uri": "https://localhost:8080/",
     "height": 51
    },
    "colab_type": "code",
    "id": "g7XsxKB6J8rR",
    "outputId": "fd22e5fd-552b-44c9-e095-a142d54ffcbb"
   },
   "outputs": [
    {
     "name": "stdout",
     "output_type": "stream",
     "text": [
      "[[214  25]\n",
      " [ 65 194]]\n"
     ]
    }
   ],
   "source": [
    "cm = confusion_matrix(y_val, y_pred)\n",
    "print(cm)"
   ]
  },
  {
   "cell_type": "code",
   "execution_count": 63,
   "metadata": {
    "colab": {},
    "colab_type": "code",
    "id": "6uNzyGbWQ37m"
   },
   "outputs": [],
   "source": [
    "tp = cm[1][1]\n",
    "fp = cm[0][1]\n",
    "fn = cm[1][0]\n",
    "tn= cm[0][0]\n",
    "all_val = tp+fp+fn+tn"
   ]
  },
  {
   "cell_type": "code",
   "execution_count": 64,
   "metadata": {
    "colab": {},
    "colab_type": "code",
    "id": "hM7JN5GFh5_S"
   },
   "outputs": [
    {
     "data": {
      "text/plain": [
       "0.89"
      ]
     },
     "execution_count": 64,
     "metadata": {},
     "output_type": "execute_result"
    }
   ],
   "source": [
    "precision = round(tp/(tp+fp),2)\n",
    "precision"
   ]
  },
  {
   "cell_type": "code",
   "execution_count": 65,
   "metadata": {
    "colab": {
     "base_uri": "https://localhost:8080/",
     "height": 34
    },
    "colab_type": "code",
    "id": "JiHyJuO7iNnh",
    "outputId": "91ab4c93-e0a0-4979-b2a6-cdb4c7bf036b"
   },
   "outputs": [
    {
     "data": {
      "text/plain": [
       "0.75"
      ]
     },
     "execution_count": 65,
     "metadata": {},
     "output_type": "execute_result"
    }
   ],
   "source": [
    "recall = round(tp/(tp+fn), 2)\n",
    "recall"
   ]
  },
  {
   "cell_type": "code",
   "execution_count": 66,
   "metadata": {
    "colab": {
     "base_uri": "https://localhost:8080/",
     "height": 34
    },
    "colab_type": "code",
    "id": "SLEroscui3QI",
    "outputId": "066828c7-1ae4-4c2e-cbbf-b523482fa1ef"
   },
   "outputs": [
    {
     "data": {
      "text/plain": [
       "0.8140243902439024"
      ]
     },
     "execution_count": 66,
     "metadata": {},
     "output_type": "execute_result"
    }
   ],
   "source": [
    "f1_score = (2*precision*recall)/(precision+recall)\n",
    "f1_score"
   ]
  },
  {
   "cell_type": "code",
   "execution_count": 67,
   "metadata": {
    "colab": {
     "base_uri": "https://localhost:8080/",
     "height": 34
    },
    "colab_type": "code",
    "id": "WULeRW36-TSK",
    "outputId": "4f21e55c-6ecc-4268-eb4b-279919997fe2"
   },
   "outputs": [
    {
     "data": {
      "text/plain": [
       "0.77"
      ]
     },
     "execution_count": 67,
     "metadata": {},
     "output_type": "execute_result"
    }
   ],
   "source": [
    "precision_neg = round(tn/(tn+fn),2)\n",
    "precision_neg"
   ]
  },
  {
   "cell_type": "code",
   "execution_count": 68,
   "metadata": {
    "colab": {
     "base_uri": "https://localhost:8080/",
     "height": 34
    },
    "colab_type": "code",
    "id": "rReXnIFz-TcW",
    "outputId": "4813f8a9-673b-4557-dcac-f9e3aca3465e"
   },
   "outputs": [
    {
     "data": {
      "text/plain": [
       "0.9"
      ]
     },
     "execution_count": 68,
     "metadata": {},
     "output_type": "execute_result"
    }
   ],
   "source": [
    "recall_neg = round(tn/(tn+fp), 2)\n",
    "recall_neg"
   ]
  },
  {
   "cell_type": "code",
   "execution_count": 69,
   "metadata": {
    "colab": {
     "base_uri": "https://localhost:8080/",
     "height": 34
    },
    "colab_type": "code",
    "id": "7vJM60OQ-Tpf",
    "outputId": "9dfdd964-ec82-4509-dcb7-01d9520aa435"
   },
   "outputs": [
    {
     "data": {
      "text/plain": [
       "0.8299401197604791"
      ]
     },
     "execution_count": 69,
     "metadata": {},
     "output_type": "execute_result"
    }
   ],
   "source": [
    "f1_score = (2*precision_neg*recall_neg)/(precision_neg+recall_neg)\n",
    "f1_score"
   ]
  },
  {
   "cell_type": "code",
   "execution_count": 70,
   "metadata": {
    "colab": {},
    "colab_type": "code",
    "id": "6tunPUyTjvVP"
   },
   "outputs": [],
   "source": [
    "from sklearn.metrics import roc_curve\n",
    "from sklearn.metrics import roc_auc_score\n",
    "from sklearn.metrics import matthews_corrcoef\n",
    "from matplotlib import pyplot"
   ]
  },
  {
   "cell_type": "code",
   "execution_count": 71,
   "metadata": {
    "colab": {},
    "colab_type": "code",
    "id": "PmO_NxctrFgI"
   },
   "outputs": [],
   "source": [
    "ns_probs = [0 for _ in range(len(y_val))]"
   ]
  },
  {
   "cell_type": "code",
   "execution_count": 72,
   "metadata": {
    "colab": {},
    "colab_type": "code",
    "id": "EFR6XmR0rHLn"
   },
   "outputs": [],
   "source": [
    "ns_auc = roc_auc_score(y_val, ns_probs)\n",
    "lr_auc = roc_auc_score(y_val, y_pred)\n",
    "mcc      = matthews_corrcoef (y_val, y_pred)"
   ]
  },
  {
   "cell_type": "code",
   "execution_count": 73,
   "metadata": {
    "colab": {
     "base_uri": "https://localhost:8080/",
     "height": 51
    },
    "colab_type": "code",
    "id": "B130-0eQrHOu",
    "outputId": "13e833b7-a1d9-46a5-e3de-9b763cf15042"
   },
   "outputs": [
    {
     "name": "stdout",
     "output_type": "stream",
     "text": [
      "No Skill: ROC AUC=0.500\n",
      "Our model: ROC AUC=0.822\n",
      "Our model: MCC=0.649\n"
     ]
    }
   ],
   "source": [
    "print('No Skill: ROC AUC=%.3f' % (ns_auc))\n",
    "print('Our model: ROC AUC=%.3f' % (lr_auc))\n",
    "print('Our model: MCC=%.3f' % (mcc))"
   ]
  },
  {
   "cell_type": "code",
   "execution_count": 74,
   "metadata": {
    "colab": {
     "base_uri": "https://localhost:8080/",
     "height": 279
    },
    "colab_type": "code",
    "id": "bMl6xPm8fuW3",
    "outputId": "33da9bbd-3b50-4c4a-b29a-0f8f2744a93d"
   },
   "outputs": [
    {
     "data": {
      "image/png": "[encoded data removed]",
      "text/plain": [
       "<Figure size 432x288 with 1 Axes>"
      ]
     },
     "metadata": {
      "needs_background": "light"
     },
     "output_type": "display_data"
    }
   ],
   "source": [
    "# calculate roc curves\n",
    "ns_fpr, ns_tpr, _ = roc_curve(y_val, ns_probs)\n",
    "\n",
    "lr_fpr, lr_tpr, _ = roc_curve(y_val, y_pred)\n",
    "# plot the roc curve for the model\n",
    "pyplot.plot(ns_fpr, ns_tpr, linestyle='--', label='Random Choice')\n",
    "pyplot.plot(lr_fpr, lr_tpr, marker='.', label='Our Model')\n",
    "pyplot.title('ROC Curve')\n",
    "# axis labels\n",
    "pyplot.xlabel('False Positive Rate')\n",
    "pyplot.ylabel('True Positive Rate')\n",
    "# show the legend\n",
    "pyplot.legend()\n",
    "pyplot.savefig('rocs/roc_set_fact.jpg', dpi=600)\n",
    "# show the plot\n",
    "pyplot.show()"
   ]
  },
  {
   "cell_type": "code",
   "execution_count": null,
   "metadata": {
    "colab": {},
    "colab_type": "code",
    "id": "C5rm-pUtjofX"
   },
   "outputs": [],
   "source": []
  }
 ],
 "metadata": {
  "colab": {
   "collapsed_sections": [],
   "name": "w2c_cnn.ipynb",
   "provenance": []
  },
  "kernelspec": {
   "display_name": "Python 3",
   "language": "python",
   "name": "python3"
  },
  "language_info": {
   "codemirror_mode": {
    "name": "ipython",
    "version": 3
   },
   "file_extension": ".py",
   "mimetype": "text/x-python",
   "name": "python",
   "nbconvert_exporter": "python",
   "pygments_lexer": "ipython3",
   "version": "3.7.6"
  }
 },
 "nbformat": 4,
 "nbformat_minor": 1
}
