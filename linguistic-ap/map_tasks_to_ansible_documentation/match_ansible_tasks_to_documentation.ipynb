{
 "cells": [
  {
   "cell_type": "markdown",
   "metadata": {},
   "source": [
    "<h2>Match ansible tasks to descriptions given the official documentation</h2>"
   ]
  },
  {
   "cell_type": "markdown",
   "metadata": {},
   "source": [
    "<p>The work is organized as below:</p>\n",
    "<ul>\n",
    "    <li>\n",
    "        <p>We scrape official ansible documentation website in order to get the current supported modules. The result a dictionary where the key is the module name and value is the description of it. The method <i>get_ansible_modules</i> returns the aforementioned dictionary.</p>\n",
    "    </li>\n",
    "    <li>\n",
    "        <p>Using the class <i>identify_ansible_modules</i> we perform seach within the method description of an ansible task. In detail:\n",
    "        </p>\n",
    "            <ul>\n",
    "                <li><p>For each key of the method description we check if it in the official ansible documentation and we return its rescpective text. The result text is saved in a new column</p></li>\n",
    "                <li><p>For each value of each key in method description:</p></li>\n",
    "                <li>\n",
    "                    <ul>\n",
    "                        <li>If the value is a nested dictionary we perform search of its keys if there are part of the official ansible documentation and we return the (concatenated) text of them in a new column</li>\n",
    "                        <li>If the value is a nested dictionary which none of its keys is a key of the official ansible documentation but contains the key 'name' we return its text.</li>\n",
    "                        <li>If the value is a nested dictionary which none of its keys is a key of the official ansible documentation or it does not contain the key 'name' we return each of the keys as a string with space used as a separator</li>\n",
    "                        <!-- <li>if the value is a string we check if it is an ansible variable (i.e. contains the characters '{{' and '}}') and return the label 'variable'. Otherwise we return the string as it is.</li> -->\n",
    "                    </ul>\n",
    "                </li>\n",
    "            </ul>\n",
    "    </li>\n",
    "</ul>\n",
    "<p>The result dataframe contains <strong>16348 rows (i.e. 89% of the initial tasks fed for identification)</strong>, where the keys of the method descriptions were matched with the respective ansible module documentation</p>"
   ]
  },
  {
   "cell_type": "code",
   "execution_count": 1,
   "metadata": {},
   "outputs": [],
   "source": [
    "import pickle\n",
    "import pandas as pd\n",
    "import numpy as np\n",
    "from ansible_modules import get_ansible_modules,top10_modules_used\n",
    "from ident_ans_mods import identify_ansible_modules\n",
    "from collections import Counter\n",
    "from  itertools import chain\n",
    "%load_ext autoreload\n",
    "%autoreload 2"
   ]
  },
  {
   "cell_type": "code",
   "execution_count": 2,
   "metadata": {},
   "outputs": [
    {
     "data": {
      "text/plain": [
       "Index(['task_name', 'method_description', 'file_name', 'repo_name',\n",
       "       'is_roles'],\n",
       "      dtype='object')"
      ]
     },
     "execution_count": 2,
     "metadata": {},
     "output_type": "execute_result"
    }
   ],
   "source": [
    "with open('tasks_from_repos.pkl', 'rb') as input_file:\n",
    "    tasks = pickle.load(input_file)   \n",
    "tasks.columns"
   ]
  },
  {
   "cell_type": "code",
   "execution_count": 3,
   "metadata": {},
   "outputs": [],
   "source": [
    "descriptions = tasks[['task_name','method_description']]"
   ]
  },
  {
   "cell_type": "code",
   "execution_count": 4,
   "metadata": {},
   "outputs": [],
   "source": [
    "mda = get_ansible_modules('https://docs.ansible.com/ansible/latest/modules/list_of_all_modules.html')"
   ]
  },
  {
   "cell_type": "code",
   "execution_count": 5,
   "metadata": {},
   "outputs": [
    {
     "data": {
      "text/html": [
       "<div>\n",
       "<style scoped>\n",
       "    .dataframe tbody tr th:only-of-type {\n",
       "        vertical-align: middle;\n",
       "    }\n",
       "\n",
       "    .dataframe tbody tr th {\n",
       "        vertical-align: top;\n",
       "    }\n",
       "\n",
       "    .dataframe thead th {\n",
       "        text-align: right;\n",
       "    }\n",
       "</style>\n",
       "<table border=\"1\" class=\"dataframe\">\n",
       "  <thead>\n",
       "    <tr style=\"text-align: right;\">\n",
       "      <th></th>\n",
       "      <th>repo_count</th>\n",
       "      <th>task_name</th>\n",
       "      <th>method_description</th>\n",
       "    </tr>\n",
       "  </thead>\n",
       "  <tbody>\n",
       "    <tr>\n",
       "      <th>0</th>\n",
       "      <td>0</td>\n",
       "      <td>restart datadog-agent</td>\n",
       "      <td>{'service': {'name': 'datadog-agent', 'state':...</td>\n",
       "    </tr>\n",
       "    <tr>\n",
       "      <th>1</th>\n",
       "      <td>1</td>\n",
       "      <td>restart datadog-agent-win</td>\n",
       "      <td>{'win_service': {'name': 'datadogagent', 'stat...</td>\n",
       "    </tr>\n",
       "    <tr>\n",
       "      <th>2</th>\n",
       "      <td>2</td>\n",
       "      <td>populate service facts</td>\n",
       "      <td>{'service_facts': None}</td>\n",
       "    </tr>\n",
       "    <tr>\n",
       "      <th>3</th>\n",
       "      <td>3</td>\n",
       "      <td>add \"{{ datadog_user }}\" user to additional gr...</td>\n",
       "      <td>{'user': 'name=\"{{ datadog_user }}\" groups=\"{{...</td>\n",
       "    </tr>\n",
       "    <tr>\n",
       "      <th>4</th>\n",
       "      <td>4</td>\n",
       "      <td>Create Datadog agent config directory</td>\n",
       "      <td>{'file': {'dest': '/etc/datadog-agent', 'state...</td>\n",
       "    </tr>\n",
       "    <tr>\n",
       "      <th>...</th>\n",
       "      <td>...</td>\n",
       "      <td>...</td>\n",
       "      <td>...</td>\n",
       "    </tr>\n",
       "    <tr>\n",
       "      <th>18281</th>\n",
       "      <td>243</td>\n",
       "      <td>Install expect (EL5)</td>\n",
       "      <td>{'package': {'name': '{{ item }}', 'state': '{...</td>\n",
       "    </tr>\n",
       "    <tr>\n",
       "      <th>18282</th>\n",
       "      <td>244</td>\n",
       "      <td>Debian/Ubuntu | Remove Wazuh repository.</td>\n",
       "      <td>{'apt_repository': {'repo': 'deb https://packa...</td>\n",
       "    </tr>\n",
       "    <tr>\n",
       "      <th>18283</th>\n",
       "      <td>245</td>\n",
       "      <td>Debian/Ubuntu | Remove Nodejs repository.</td>\n",
       "      <td>{'apt_repository': {'repo': 'deb https://deb.n...</td>\n",
       "    </tr>\n",
       "    <tr>\n",
       "      <th>18284</th>\n",
       "      <td>246</td>\n",
       "      <td>RedHat/CentOS/Fedora | Remove NodeJS repositor...</td>\n",
       "      <td>{'yum_repository': {'name': 'NodeJS', 'state':...</td>\n",
       "    </tr>\n",
       "    <tr>\n",
       "      <th>18285</th>\n",
       "      <td>247</td>\n",
       "      <td>RedHat/CentOS/Fedora | Remove Wazuh repository...</td>\n",
       "      <td>{'yum_repository': {'name': 'wazuh_repo', 'sta...</td>\n",
       "    </tr>\n",
       "  </tbody>\n",
       "</table>\n",
       "<p>18286 rows × 3 columns</p>\n",
       "</div>"
      ],
      "text/plain": [
       "       repo_count                                          task_name  \\\n",
       "0               0                              restart datadog-agent   \n",
       "1               1                          restart datadog-agent-win   \n",
       "2               2                             populate service facts   \n",
       "3               3  add \"{{ datadog_user }}\" user to additional gr...   \n",
       "4               4              Create Datadog agent config directory   \n",
       "...           ...                                                ...   \n",
       "18281         243                               Install expect (EL5)   \n",
       "18282         244           Debian/Ubuntu | Remove Wazuh repository.   \n",
       "18283         245          Debian/Ubuntu | Remove Nodejs repository.   \n",
       "18284         246  RedHat/CentOS/Fedora | Remove NodeJS repositor...   \n",
       "18285         247  RedHat/CentOS/Fedora | Remove Wazuh repository...   \n",
       "\n",
       "                                      method_description  \n",
       "0      {'service': {'name': 'datadog-agent', 'state':...  \n",
       "1      {'win_service': {'name': 'datadogagent', 'stat...  \n",
       "2                                {'service_facts': None}  \n",
       "3      {'user': 'name=\"{{ datadog_user }}\" groups=\"{{...  \n",
       "4      {'file': {'dest': '/etc/datadog-agent', 'state...  \n",
       "...                                                  ...  \n",
       "18281  {'package': {'name': '{{ item }}', 'state': '{...  \n",
       "18282  {'apt_repository': {'repo': 'deb https://packa...  \n",
       "18283  {'apt_repository': {'repo': 'deb https://deb.n...  \n",
       "18284  {'yum_repository': {'name': 'NodeJS', 'state':...  \n",
       "18285  {'yum_repository': {'name': 'wazuh_repo', 'sta...  \n",
       "\n",
       "[18286 rows x 3 columns]"
      ]
     },
     "execution_count": 5,
     "metadata": {},
     "output_type": "execute_result"
    }
   ],
   "source": [
    "df_desc_mod = descriptions.copy()\n",
    "df_desc_mod = df_desc_mod.reset_index()\n",
    "df_desc_mod = df_desc_mod.rename(columns={'index':'repo_count'})\n",
    "df_desc_mod"
   ]
  },
  {
   "cell_type": "code",
   "execution_count": 6,
   "metadata": {},
   "outputs": [],
   "source": [
    "inst = identify_ansible_modules(df_desc_mod,mda)"
   ]
  },
  {
   "cell_type": "code",
   "execution_count": 7,
   "metadata": {},
   "outputs": [],
   "source": [
    "df = inst.create_text_cols()"
   ]
  },
  {
   "cell_type": "code",
   "execution_count": 8,
   "metadata": {},
   "outputs": [
    {
     "data": {
      "text/html": [
       "<div>\n",
       "<style scoped>\n",
       "    .dataframe tbody tr th:only-of-type {\n",
       "        vertical-align: middle;\n",
       "    }\n",
       "\n",
       "    .dataframe tbody tr th {\n",
       "        vertical-align: top;\n",
       "    }\n",
       "\n",
       "    .dataframe thead th {\n",
       "        text-align: right;\n",
       "    }\n",
       "</style>\n",
       "<table border=\"1\" class=\"dataframe\">\n",
       "  <thead>\n",
       "    <tr style=\"text-align: right;\">\n",
       "      <th></th>\n",
       "      <th>repo_count</th>\n",
       "      <th>task_name</th>\n",
       "      <th>method_description</th>\n",
       "      <th>mod_keys_found</th>\n",
       "      <th>mod_values_found</th>\n",
       "      <th>key_module_text</th>\n",
       "      <th>value_module_text</th>\n",
       "    </tr>\n",
       "  </thead>\n",
       "  <tbody>\n",
       "    <tr>\n",
       "      <th>0</th>\n",
       "      <td>0</td>\n",
       "      <td>restart datadog-agent</td>\n",
       "      <td>{'service': {'name': 'datadog-agent', 'state':...</td>\n",
       "      <td>[service]</td>\n",
       "      <td>[datadog-agent]</td>\n",
       "      <td>Manage services</td>\n",
       "      <td>datadog-agent</td>\n",
       "    </tr>\n",
       "    <tr>\n",
       "      <th>1</th>\n",
       "      <td>1</td>\n",
       "      <td>restart datadog-agent-win</td>\n",
       "      <td>{'win_service': {'name': 'datadogagent', 'stat...</td>\n",
       "      <td>[win_service]</td>\n",
       "      <td>[datadogagent]</td>\n",
       "      <td>Manage and query Windows services</td>\n",
       "      <td>datadogagent</td>\n",
       "    </tr>\n",
       "    <tr>\n",
       "      <th>2</th>\n",
       "      <td>2</td>\n",
       "      <td>populate service facts</td>\n",
       "      <td>{'service_facts': None}</td>\n",
       "      <td>[service_facts]</td>\n",
       "      <td>[]</td>\n",
       "      <td>Return service state information as fact data</td>\n",
       "      <td></td>\n",
       "    </tr>\n",
       "    <tr>\n",
       "      <th>3</th>\n",
       "      <td>3</td>\n",
       "      <td>add \"{{ datadog_user }}\" user to additional gr...</td>\n",
       "      <td>{'user': 'name=\"{{ datadog_user }}\" groups=\"{{...</td>\n",
       "      <td>[user]</td>\n",
       "      <td>[]</td>\n",
       "      <td>Manage user accounts</td>\n",
       "      <td></td>\n",
       "    </tr>\n",
       "    <tr>\n",
       "      <th>4</th>\n",
       "      <td>4</td>\n",
       "      <td>Create Datadog agent config directory</td>\n",
       "      <td>{'file': {'dest': '/etc/datadog-agent', 'state...</td>\n",
       "      <td>[file]</td>\n",
       "      <td>[]</td>\n",
       "      <td>Manage files and file properties</td>\n",
       "      <td></td>\n",
       "    </tr>\n",
       "    <tr>\n",
       "      <th>...</th>\n",
       "      <td>...</td>\n",
       "      <td>...</td>\n",
       "      <td>...</td>\n",
       "      <td>...</td>\n",
       "      <td>...</td>\n",
       "      <td>...</td>\n",
       "      <td>...</td>\n",
       "    </tr>\n",
       "    <tr>\n",
       "      <th>18281</th>\n",
       "      <td>243</td>\n",
       "      <td>Install expect (EL5)</td>\n",
       "      <td>{'package': {'name': '{{ item }}', 'state': '{...</td>\n",
       "      <td>[package]</td>\n",
       "      <td>[{{ item }}]</td>\n",
       "      <td>Generic OS package manager</td>\n",
       "      <td>{{ item }}</td>\n",
       "    </tr>\n",
       "    <tr>\n",
       "      <th>18282</th>\n",
       "      <td>244</td>\n",
       "      <td>Debian/Ubuntu | Remove Wazuh repository.</td>\n",
       "      <td>{'apt_repository': {'repo': 'deb https://packa...</td>\n",
       "      <td>[apt_repository]</td>\n",
       "      <td>[]</td>\n",
       "      <td>Add and remove APT repositories</td>\n",
       "      <td></td>\n",
       "    </tr>\n",
       "    <tr>\n",
       "      <th>18283</th>\n",
       "      <td>245</td>\n",
       "      <td>Debian/Ubuntu | Remove Nodejs repository.</td>\n",
       "      <td>{'apt_repository': {'repo': 'deb https://deb.n...</td>\n",
       "      <td>[apt_repository]</td>\n",
       "      <td>[]</td>\n",
       "      <td>Add and remove APT repositories</td>\n",
       "      <td></td>\n",
       "    </tr>\n",
       "    <tr>\n",
       "      <th>18284</th>\n",
       "      <td>246</td>\n",
       "      <td>RedHat/CentOS/Fedora | Remove NodeJS repositor...</td>\n",
       "      <td>{'yum_repository': {'name': 'NodeJS', 'state':...</td>\n",
       "      <td>[yum_repository]</td>\n",
       "      <td>[NodeJS]</td>\n",
       "      <td>Add or remove YUM repositories</td>\n",
       "      <td>NodeJS</td>\n",
       "    </tr>\n",
       "    <tr>\n",
       "      <th>18285</th>\n",
       "      <td>247</td>\n",
       "      <td>RedHat/CentOS/Fedora | Remove Wazuh repository...</td>\n",
       "      <td>{'yum_repository': {'name': 'wazuh_repo', 'sta...</td>\n",
       "      <td>[yum_repository]</td>\n",
       "      <td>[wazuh_repo]</td>\n",
       "      <td>Add or remove YUM repositories</td>\n",
       "      <td>wazuh_repo</td>\n",
       "    </tr>\n",
       "  </tbody>\n",
       "</table>\n",
       "<p>18286 rows × 7 columns</p>\n",
       "</div>"
      ],
      "text/plain": [
       "       repo_count                                          task_name  \\\n",
       "0               0                              restart datadog-agent   \n",
       "1               1                          restart datadog-agent-win   \n",
       "2               2                             populate service facts   \n",
       "3               3  add \"{{ datadog_user }}\" user to additional gr...   \n",
       "4               4              Create Datadog agent config directory   \n",
       "...           ...                                                ...   \n",
       "18281         243                               Install expect (EL5)   \n",
       "18282         244           Debian/Ubuntu | Remove Wazuh repository.   \n",
       "18283         245          Debian/Ubuntu | Remove Nodejs repository.   \n",
       "18284         246  RedHat/CentOS/Fedora | Remove NodeJS repositor...   \n",
       "18285         247  RedHat/CentOS/Fedora | Remove Wazuh repository...   \n",
       "\n",
       "                                      method_description    mod_keys_found  \\\n",
       "0      {'service': {'name': 'datadog-agent', 'state':...         [service]   \n",
       "1      {'win_service': {'name': 'datadogagent', 'stat...     [win_service]   \n",
       "2                                {'service_facts': None}   [service_facts]   \n",
       "3      {'user': 'name=\"{{ datadog_user }}\" groups=\"{{...            [user]   \n",
       "4      {'file': {'dest': '/etc/datadog-agent', 'state...            [file]   \n",
       "...                                                  ...               ...   \n",
       "18281  {'package': {'name': '{{ item }}', 'state': '{...         [package]   \n",
       "18282  {'apt_repository': {'repo': 'deb https://packa...  [apt_repository]   \n",
       "18283  {'apt_repository': {'repo': 'deb https://deb.n...  [apt_repository]   \n",
       "18284  {'yum_repository': {'name': 'NodeJS', 'state':...  [yum_repository]   \n",
       "18285  {'yum_repository': {'name': 'wazuh_repo', 'sta...  [yum_repository]   \n",
       "\n",
       "      mod_values_found                                key_module_text  \\\n",
       "0      [datadog-agent]                                Manage services   \n",
       "1       [datadogagent]              Manage and query Windows services   \n",
       "2                   []  Return service state information as fact data   \n",
       "3                   []                           Manage user accounts   \n",
       "4                   []               Manage files and file properties   \n",
       "...                ...                                            ...   \n",
       "18281     [{{ item }}]                     Generic OS package manager   \n",
       "18282               []                Add and remove APT repositories   \n",
       "18283               []                Add and remove APT repositories   \n",
       "18284         [NodeJS]                 Add or remove YUM repositories   \n",
       "18285     [wazuh_repo]                 Add or remove YUM repositories   \n",
       "\n",
       "      value_module_text  \n",
       "0         datadog-agent  \n",
       "1          datadogagent  \n",
       "2                        \n",
       "3                        \n",
       "4                        \n",
       "...                 ...  \n",
       "18281        {{ item }}  \n",
       "18282                    \n",
       "18283                    \n",
       "18284            NodeJS  \n",
       "18285        wazuh_repo  \n",
       "\n",
       "[18286 rows x 7 columns]"
      ]
     },
     "execution_count": 8,
     "metadata": {},
     "output_type": "execute_result"
    }
   ],
   "source": [
    "df"
   ]
  },
  {
   "cell_type": "code",
   "execution_count": 9,
   "metadata": {},
   "outputs": [
    {
     "data": {
      "text/html": [
       "<div>\n",
       "<style scoped>\n",
       "    .dataframe tbody tr th:only-of-type {\n",
       "        vertical-align: middle;\n",
       "    }\n",
       "\n",
       "    .dataframe tbody tr th {\n",
       "        vertical-align: top;\n",
       "    }\n",
       "\n",
       "    .dataframe thead th {\n",
       "        text-align: right;\n",
       "    }\n",
       "</style>\n",
       "<table border=\"1\" class=\"dataframe\">\n",
       "  <thead>\n",
       "    <tr style=\"text-align: right;\">\n",
       "      <th></th>\n",
       "      <th>repo_count</th>\n",
       "      <th>task_name</th>\n",
       "      <th>method_description</th>\n",
       "      <th>mod_keys_found</th>\n",
       "      <th>mod_values_found</th>\n",
       "      <th>key_module_text</th>\n",
       "      <th>value_module_text</th>\n",
       "    </tr>\n",
       "  </thead>\n",
       "  <tbody>\n",
       "    <tr>\n",
       "      <th>0</th>\n",
       "      <td>0</td>\n",
       "      <td>restart datadog-agent</td>\n",
       "      <td>{'service': {'name': 'datadog-agent', 'state':...</td>\n",
       "      <td>[service]</td>\n",
       "      <td>[datadog-agent]</td>\n",
       "      <td>Manage services</td>\n",
       "      <td>datadog-agent</td>\n",
       "    </tr>\n",
       "    <tr>\n",
       "      <th>1</th>\n",
       "      <td>1</td>\n",
       "      <td>restart datadog-agent-win</td>\n",
       "      <td>{'win_service': {'name': 'datadogagent', 'stat...</td>\n",
       "      <td>[win_service]</td>\n",
       "      <td>[datadogagent]</td>\n",
       "      <td>Manage and query Windows services</td>\n",
       "      <td>datadogagent</td>\n",
       "    </tr>\n",
       "    <tr>\n",
       "      <th>2</th>\n",
       "      <td>2</td>\n",
       "      <td>populate service facts</td>\n",
       "      <td>{'service_facts': None}</td>\n",
       "      <td>[service_facts]</td>\n",
       "      <td>[]</td>\n",
       "      <td>Return service state information as fact data</td>\n",
       "      <td></td>\n",
       "    </tr>\n",
       "    <tr>\n",
       "      <th>3</th>\n",
       "      <td>3</td>\n",
       "      <td>add \"{{ datadog_user }}\" user to additional gr...</td>\n",
       "      <td>{'user': 'name=\"{{ datadog_user }}\" groups=\"{{...</td>\n",
       "      <td>[user]</td>\n",
       "      <td>[]</td>\n",
       "      <td>Manage user accounts</td>\n",
       "      <td></td>\n",
       "    </tr>\n",
       "    <tr>\n",
       "      <th>4</th>\n",
       "      <td>4</td>\n",
       "      <td>Create Datadog agent config directory</td>\n",
       "      <td>{'file': {'dest': '/etc/datadog-agent', 'state...</td>\n",
       "      <td>[file]</td>\n",
       "      <td>[]</td>\n",
       "      <td>Manage files and file properties</td>\n",
       "      <td></td>\n",
       "    </tr>\n",
       "    <tr>\n",
       "      <th>...</th>\n",
       "      <td>...</td>\n",
       "      <td>...</td>\n",
       "      <td>...</td>\n",
       "      <td>...</td>\n",
       "      <td>...</td>\n",
       "      <td>...</td>\n",
       "      <td>...</td>\n",
       "    </tr>\n",
       "    <tr>\n",
       "      <th>18281</th>\n",
       "      <td>243</td>\n",
       "      <td>Install expect (EL5)</td>\n",
       "      <td>{'package': {'name': '{{ item }}', 'state': '{...</td>\n",
       "      <td>[package]</td>\n",
       "      <td>[{{ item }}]</td>\n",
       "      <td>Generic OS package manager</td>\n",
       "      <td>{{ item }}</td>\n",
       "    </tr>\n",
       "    <tr>\n",
       "      <th>18282</th>\n",
       "      <td>244</td>\n",
       "      <td>Debian/Ubuntu | Remove Wazuh repository.</td>\n",
       "      <td>{'apt_repository': {'repo': 'deb https://packa...</td>\n",
       "      <td>[apt_repository]</td>\n",
       "      <td>[]</td>\n",
       "      <td>Add and remove APT repositories</td>\n",
       "      <td></td>\n",
       "    </tr>\n",
       "    <tr>\n",
       "      <th>18283</th>\n",
       "      <td>245</td>\n",
       "      <td>Debian/Ubuntu | Remove Nodejs repository.</td>\n",
       "      <td>{'apt_repository': {'repo': 'deb https://deb.n...</td>\n",
       "      <td>[apt_repository]</td>\n",
       "      <td>[]</td>\n",
       "      <td>Add and remove APT repositories</td>\n",
       "      <td></td>\n",
       "    </tr>\n",
       "    <tr>\n",
       "      <th>18284</th>\n",
       "      <td>246</td>\n",
       "      <td>RedHat/CentOS/Fedora | Remove NodeJS repositor...</td>\n",
       "      <td>{'yum_repository': {'name': 'NodeJS', 'state':...</td>\n",
       "      <td>[yum_repository]</td>\n",
       "      <td>[NodeJS]</td>\n",
       "      <td>Add or remove YUM repositories</td>\n",
       "      <td>NodeJS</td>\n",
       "    </tr>\n",
       "    <tr>\n",
       "      <th>18285</th>\n",
       "      <td>247</td>\n",
       "      <td>RedHat/CentOS/Fedora | Remove Wazuh repository...</td>\n",
       "      <td>{'yum_repository': {'name': 'wazuh_repo', 'sta...</td>\n",
       "      <td>[yum_repository]</td>\n",
       "      <td>[wazuh_repo]</td>\n",
       "      <td>Add or remove YUM repositories</td>\n",
       "      <td>wazuh_repo</td>\n",
       "    </tr>\n",
       "  </tbody>\n",
       "</table>\n",
       "<p>16348 rows × 7 columns</p>\n",
       "</div>"
      ],
      "text/plain": [
       "       repo_count                                          task_name  \\\n",
       "0               0                              restart datadog-agent   \n",
       "1               1                          restart datadog-agent-win   \n",
       "2               2                             populate service facts   \n",
       "3               3  add \"{{ datadog_user }}\" user to additional gr...   \n",
       "4               4              Create Datadog agent config directory   \n",
       "...           ...                                                ...   \n",
       "18281         243                               Install expect (EL5)   \n",
       "18282         244           Debian/Ubuntu | Remove Wazuh repository.   \n",
       "18283         245          Debian/Ubuntu | Remove Nodejs repository.   \n",
       "18284         246  RedHat/CentOS/Fedora | Remove NodeJS repositor...   \n",
       "18285         247  RedHat/CentOS/Fedora | Remove Wazuh repository...   \n",
       "\n",
       "                                      method_description    mod_keys_found  \\\n",
       "0      {'service': {'name': 'datadog-agent', 'state':...         [service]   \n",
       "1      {'win_service': {'name': 'datadogagent', 'stat...     [win_service]   \n",
       "2                                {'service_facts': None}   [service_facts]   \n",
       "3      {'user': 'name=\"{{ datadog_user }}\" groups=\"{{...            [user]   \n",
       "4      {'file': {'dest': '/etc/datadog-agent', 'state...            [file]   \n",
       "...                                                  ...               ...   \n",
       "18281  {'package': {'name': '{{ item }}', 'state': '{...         [package]   \n",
       "18282  {'apt_repository': {'repo': 'deb https://packa...  [apt_repository]   \n",
       "18283  {'apt_repository': {'repo': 'deb https://deb.n...  [apt_repository]   \n",
       "18284  {'yum_repository': {'name': 'NodeJS', 'state':...  [yum_repository]   \n",
       "18285  {'yum_repository': {'name': 'wazuh_repo', 'sta...  [yum_repository]   \n",
       "\n",
       "      mod_values_found                                key_module_text  \\\n",
       "0      [datadog-agent]                                Manage services   \n",
       "1       [datadogagent]              Manage and query Windows services   \n",
       "2                   []  Return service state information as fact data   \n",
       "3                   []                           Manage user accounts   \n",
       "4                   []               Manage files and file properties   \n",
       "...                ...                                            ...   \n",
       "18281     [{{ item }}]                     Generic OS package manager   \n",
       "18282               []                Add and remove APT repositories   \n",
       "18283               []                Add and remove APT repositories   \n",
       "18284         [NodeJS]                 Add or remove YUM repositories   \n",
       "18285     [wazuh_repo]                 Add or remove YUM repositories   \n",
       "\n",
       "      value_module_text  \n",
       "0         datadog-agent  \n",
       "1          datadogagent  \n",
       "2                        \n",
       "3                        \n",
       "4                        \n",
       "...                 ...  \n",
       "18281        {{ item }}  \n",
       "18282                    \n",
       "18283                    \n",
       "18284            NodeJS  \n",
       "18285        wazuh_repo  \n",
       "\n",
       "[16348 rows x 7 columns]"
      ]
     },
     "execution_count": 9,
     "metadata": {},
     "output_type": "execute_result"
    }
   ],
   "source": [
    "df[df['mod_keys_found'].apply(len).gt(0)]"
   ]
  },
  {
   "cell_type": "code",
   "execution_count": 10,
   "metadata": {},
   "outputs": [],
   "source": [
    "df = df[df['mod_keys_found'].apply(len).gt(0)]"
   ]
  },
  {
   "cell_type": "code",
   "execution_count": 11,
   "metadata": {},
   "outputs": [],
   "source": [
    "df = df.reset_index(drop=True)"
   ]
  },
  {
   "cell_type": "code",
   "execution_count": 12,
   "metadata": {},
   "outputs": [],
   "source": [
    "with open('tasks_ast_raw.pkl', 'wb') as output_file:\n",
    "    pickle.dump(df, output_file)"
   ]
  },
  {
   "cell_type": "code",
   "execution_count": 13,
   "metadata": {},
   "outputs": [
    {
     "data": {
      "text/plain": [
       "(16348, 7)"
      ]
     },
     "execution_count": 13,
     "metadata": {},
     "output_type": "execute_result"
    }
   ],
   "source": [
    "with open('tasks_ast_raw.pkl', 'rb') as input_file:\n",
    "    tasks_ast_raw = pickle.load(input_file)   \n",
    "tasks_ast_raw.shape"
   ]
  },
  {
   "cell_type": "code",
   "execution_count": 14,
   "metadata": {},
   "outputs": [],
   "source": [
    "tasks_ast_raw = tasks_ast_raw[tasks_ast_raw['mod_keys_found'].apply(len).gt(0)]"
   ]
  },
  {
   "cell_type": "code",
   "execution_count": 15,
   "metadata": {},
   "outputs": [
    {
     "data": {
      "text/plain": [
       "Index(['repo_count', 'task_name', 'method_description', 'mod_keys_found',\n",
       "       'mod_values_found', 'key_module_text', 'value_module_text'],\n",
       "      dtype='object')"
      ]
     },
     "execution_count": 15,
     "metadata": {},
     "output_type": "execute_result"
    }
   ],
   "source": [
    "tasks_ast_raw.columns"
   ]
  },
  {
   "cell_type": "markdown",
   "metadata": {},
   "source": [
    "<h4>Top 10 Ansible modules used</h4>"
   ]
  },
  {
   "cell_type": "code",
   "execution_count": 16,
   "metadata": {},
   "outputs": [],
   "source": [
    "counted_modules, counted_modules_df = top10_modules_used(tasks_ast_raw)"
   ]
  },
  {
   "cell_type": "code",
   "execution_count": 17,
   "metadata": {},
   "outputs": [
    {
     "data": {
      "text/plain": [
       "['shell',\n",
       " 'command',\n",
       " 'set_fact',\n",
       " 'template',\n",
       " 'file',\n",
       " 'gather_facts',\n",
       " 'copy',\n",
       " 'service',\n",
       " 'debug',\n",
       " 'fail']"
      ]
     },
     "execution_count": 17,
     "metadata": {},
     "output_type": "execute_result"
    }
   ],
   "source": [
    "counted_modules"
   ]
  },
  {
   "cell_type": "code",
   "execution_count": 18,
   "metadata": {},
   "outputs": [
    {
     "data": {
      "text/html": [
       "<div>\n",
       "<style scoped>\n",
       "    .dataframe tbody tr th:only-of-type {\n",
       "        vertical-align: middle;\n",
       "    }\n",
       "\n",
       "    .dataframe tbody tr th {\n",
       "        vertical-align: top;\n",
       "    }\n",
       "\n",
       "    .dataframe thead th {\n",
       "        text-align: right;\n",
       "    }\n",
       "</style>\n",
       "<table border=\"1\" class=\"dataframe\">\n",
       "  <thead>\n",
       "    <tr style=\"text-align: right;\">\n",
       "      <th></th>\n",
       "      <th>ansible_modules</th>\n",
       "      <th>frequency</th>\n",
       "    </tr>\n",
       "  </thead>\n",
       "  <tbody>\n",
       "    <tr>\n",
       "      <th>153</th>\n",
       "      <td>shell</td>\n",
       "      <td>2126</td>\n",
       "    </tr>\n",
       "    <tr>\n",
       "      <th>23</th>\n",
       "      <td>command</td>\n",
       "      <td>1702</td>\n",
       "    </tr>\n",
       "    <tr>\n",
       "      <th>150</th>\n",
       "      <td>set_fact</td>\n",
       "      <td>1246</td>\n",
       "    </tr>\n",
       "    <tr>\n",
       "      <th>163</th>\n",
       "      <td>template</td>\n",
       "      <td>1198</td>\n",
       "    </tr>\n",
       "    <tr>\n",
       "      <th>50</th>\n",
       "      <td>file</td>\n",
       "      <td>1151</td>\n",
       "    </tr>\n",
       "    <tr>\n",
       "      <th>54</th>\n",
       "      <td>gather_facts</td>\n",
       "      <td>806</td>\n",
       "    </tr>\n",
       "    <tr>\n",
       "      <th>24</th>\n",
       "      <td>copy</td>\n",
       "      <td>773</td>\n",
       "    </tr>\n",
       "    <tr>\n",
       "      <th>148</th>\n",
       "      <td>service</td>\n",
       "      <td>569</td>\n",
       "    </tr>\n",
       "    <tr>\n",
       "      <th>27</th>\n",
       "      <td>debug</td>\n",
       "      <td>484</td>\n",
       "    </tr>\n",
       "    <tr>\n",
       "      <th>48</th>\n",
       "      <td>fail</td>\n",
       "      <td>395</td>\n",
       "    </tr>\n",
       "  </tbody>\n",
       "</table>\n",
       "</div>"
      ],
      "text/plain": [
       "    ansible_modules  frequency\n",
       "153           shell       2126\n",
       "23          command       1702\n",
       "150        set_fact       1246\n",
       "163        template       1198\n",
       "50             file       1151\n",
       "54     gather_facts        806\n",
       "24             copy        773\n",
       "148         service        569\n",
       "27            debug        484\n",
       "48             fail        395"
      ]
     },
     "execution_count": 18,
     "metadata": {},
     "output_type": "execute_result"
    }
   ],
   "source": [
    "counted_modules_df.head(10)"
   ]
  },
  {
   "cell_type": "code",
   "execution_count": 19,
   "metadata": {},
   "outputs": [],
   "source": [
    "with open('top10_list.pkl', 'wb') as output_file:\n",
    "    pickle.dump(counted_modules, output_file)"
   ]
  },
  {
   "cell_type": "code",
   "execution_count": 20,
   "metadata": {},
   "outputs": [
    {
     "data": {
      "text/plain": [
       "['shell',\n",
       " 'command',\n",
       " 'set_fact',\n",
       " 'template',\n",
       " 'file',\n",
       " 'gather_facts',\n",
       " 'copy',\n",
       " 'service',\n",
       " 'debug',\n",
       " 'fail']"
      ]
     },
     "execution_count": 20,
     "metadata": {},
     "output_type": "execute_result"
    }
   ],
   "source": [
    "with open('top10_list.pkl', 'rb') as input_file:\n",
    "    top10_module_list = pickle.load(input_file)   \n",
    "top10_module_list"
   ]
  },
  {
   "cell_type": "code",
   "execution_count": 21,
   "metadata": {},
   "outputs": [],
   "source": [
    "tasks_ast_raw = tasks_ast_raw[tasks_ast_raw['mod_keys_found'].apply(lambda v: len(set(v) & set(top10_module_list)) > 0)]"
   ]
  },
  {
   "cell_type": "code",
   "execution_count": 22,
   "metadata": {},
   "outputs": [
    {
     "data": {
      "text/plain": [
       "(10450, 7)"
      ]
     },
     "execution_count": 22,
     "metadata": {},
     "output_type": "execute_result"
    }
   ],
   "source": [
    "tasks_ast_raw.shape"
   ]
  },
  {
   "cell_type": "code",
   "execution_count": 23,
   "metadata": {},
   "outputs": [
    {
     "data": {
      "text/plain": [
       "(10450, 7)"
      ]
     },
     "execution_count": 23,
     "metadata": {},
     "output_type": "execute_result"
    }
   ],
   "source": [
    "tasks_ast_raw.shape"
   ]
  },
  {
   "cell_type": "code",
   "execution_count": 24,
   "metadata": {},
   "outputs": [],
   "source": [
    "with open('tasks_top10_modules.pkl', 'wb') as output_file:\n",
    "    pickle.dump(tasks_ast_raw, output_file)"
   ]
  },
  {
   "cell_type": "code",
   "execution_count": 25,
   "metadata": {},
   "outputs": [
    {
     "data": {
      "text/plain": [
       "(10450, 7)"
      ]
     },
     "execution_count": 25,
     "metadata": {},
     "output_type": "execute_result"
    }
   ],
   "source": [
    "with open('tasks_top10_modules.pkl', 'rb') as input_file:\n",
    "    tasks_top10_modules = pickle.load(input_file)   \n",
    "tasks_top10_modules.shape"
   ]
  },
  {
   "cell_type": "code",
   "execution_count": 26,
   "metadata": {},
   "outputs": [],
   "source": [
    "tasks_10 = tasks_top10_modules.copy()"
   ]
  },
  {
   "cell_type": "code",
   "execution_count": 27,
   "metadata": {},
   "outputs": [
    {
     "data": {
      "text/plain": [
       "(54, 7)"
      ]
     },
     "execution_count": 27,
     "metadata": {},
     "output_type": "execute_result"
    }
   ],
   "source": [
    "two_keys_set = tasks_10[tasks_10['mod_keys_found'].apply(lambda x: len(x) >1)]\n",
    "two_keys_set.shape"
   ]
  },
  {
   "cell_type": "code",
   "execution_count": 28,
   "metadata": {},
   "outputs": [
    {
     "data": {
      "text/plain": [
       "(10396, 7)"
      ]
     },
     "execution_count": 28,
     "metadata": {},
     "output_type": "execute_result"
    }
   ],
   "source": [
    "one_key_set = tasks_10[tasks_10['mod_keys_found'].apply(lambda x: len(x) < 2)]\n",
    "one_key_set.shape"
   ]
  },
  {
   "cell_type": "code",
   "execution_count": 29,
   "metadata": {},
   "outputs": [
    {
     "data": {
      "text/plain": [
       "Index(['repo_count', 'task_name', 'method_description', 'mod_keys_found',\n",
       "       'mod_values_found', 'key_module_text', 'value_module_text'],\n",
       "      dtype='object')"
      ]
     },
     "execution_count": 29,
     "metadata": {},
     "output_type": "execute_result"
    }
   ],
   "source": [
    "one_key_set.columns"
   ]
  },
  {
   "cell_type": "code",
   "execution_count": 30,
   "metadata": {},
   "outputs": [],
   "source": [
    "# one_key_set['param_descrption'] = one_key_set['mod_keys_found'].apply(lambda x: get_module_parameters(x))"
   ]
  },
  {
   "cell_type": "code",
   "execution_count": 30,
   "metadata": {},
   "outputs": [
    {
     "name": "stderr",
     "output_type": "stream",
     "text": [
      "C:\\ProgramData\\Anaconda3\\lib\\site-packages\\ipykernel_launcher.py:1: SettingWithCopyWarning: \n",
      "A value is trying to be set on a copy of a slice from a DataFrame.\n",
      "Try using .loc[row_indexer,col_indexer] = value instead\n",
      "\n",
      "See the caveats in the documentation: https://pandas.pydata.org/pandas-docs/stable/user_guide/indexing.html#returning-a-view-versus-a-copy\n",
      "  \"\"\"Entry point for launching an IPython kernel.\n"
     ]
    }
   ],
   "source": [
    "one_key_set['mod_keys_found_string'] = one_key_set['mod_keys_found'].apply(lambda x: ''.join(x))"
   ]
  },
  {
   "cell_type": "code",
   "execution_count": 31,
   "metadata": {},
   "outputs": [
    {
     "data": {
      "text/plain": [
       "(10396, 8)"
      ]
     },
     "execution_count": 31,
     "metadata": {},
     "output_type": "execute_result"
    }
   ],
   "source": [
    "one_key_set.shape"
   ]
  },
  {
   "cell_type": "code",
   "execution_count": 32,
   "metadata": {},
   "outputs": [
    {
     "data": {
      "text/plain": [
       "list"
      ]
     },
     "execution_count": 32,
     "metadata": {},
     "output_type": "execute_result"
    }
   ],
   "source": [
    "type(one_key_set['mod_keys_found'][0])"
   ]
  },
  {
   "cell_type": "code",
   "execution_count": 33,
   "metadata": {
    "scrolled": true
   },
   "outputs": [
    {
     "data": {
      "text/plain": [
       "['service',\n",
       " 'file',\n",
       " 'template',\n",
       " 'set_fact',\n",
       " 'fail',\n",
       " 'command',\n",
       " 'debug',\n",
       " 'copy',\n",
       " 'shell',\n",
       " 'gather_facts']"
      ]
     },
     "execution_count": 33,
     "metadata": {},
     "output_type": "execute_result"
    }
   ],
   "source": [
    "list(one_key_set['mod_keys_found_string'].unique())"
   ]
  },
  {
   "cell_type": "code",
   "execution_count": 34,
   "metadata": {},
   "outputs": [],
   "source": [
    "from module_parameters import get_module_parameters"
   ]
  },
  {
   "cell_type": "code",
   "execution_count": 35,
   "metadata": {
    "scrolled": true
   },
   "outputs": [],
   "source": [
    "params_dict = get_module_parameters(top10_module_list)"
   ]
  },
  {
   "cell_type": "code",
   "execution_count": 36,
   "metadata": {},
   "outputs": [
    {
     "data": {
      "text/plain": [
       "{'cacheable_required': False,\n",
       " 'cacheable': 'boolean',\n",
       " 'cacheable_text': \"This boolean converts the variable into an actual 'fact' which will also be added to the fact cache, if fact caching is enabled.Normally this module creates 'host level variables' and has much higher precedence, this option changes the nature and precedence (by 7 steps) of the variable created. https://docs.ansible.com/ansible/latest/user_guide/playbooks_variables.html#variable-precedence-where-should-i-put-a-variableThis actually creates 2 copies of the variable, a normal 'set_fact' host variable with high precedence and a lower 'ansible_fact' one that is available for persistance via the facts cache plugin. This creates a possibly confusing interaction with meta: clear_facts as it will remove the 'ansible_fact' but not the host variable.\",\n",
       " 'key_value_required': True,\n",
       " 'key_value': '-',\n",
       " 'key_value_text': 'The set_fact module takes key=value pairs as variables to set in the playbook scope. Or alternatively, accepts complex arguments using the args: statement.'}"
      ]
     },
     "execution_count": 36,
     "metadata": {},
     "output_type": "execute_result"
    }
   ],
   "source": [
    "params_dict['set_fact']"
   ]
  },
  {
   "cell_type": "code",
   "execution_count": 37,
   "metadata": {},
   "outputs": [
    {
     "data": {
      "text/plain": [
       "{'file': {'dest': '/etc/datadog-agent/conf.d/{{ item }}.d',\n",
       "  'state': 'directory',\n",
       "  'owner': '{{ datadog_user }}',\n",
       "  'group': '{{ datadog_group }}'},\n",
       " 'with_items': '{{ datadog_checks|list }}'}"
      ]
     },
     "execution_count": 37,
     "metadata": {},
     "output_type": "execute_result"
    }
   ],
   "source": [
    "one_key_set['method_description'][6]"
   ]
  },
  {
   "cell_type": "code",
   "execution_count": 38,
   "metadata": {},
   "outputs": [],
   "source": [
    "from module_parameters import map_module_used_parameters"
   ]
  },
  {
   "cell_type": "code",
   "execution_count": 39,
   "metadata": {},
   "outputs": [
    {
     "data": {
      "text/plain": [
       "(10396, 8)"
      ]
     },
     "execution_count": 39,
     "metadata": {},
     "output_type": "execute_result"
    }
   ],
   "source": [
    "one_key_set.shape"
   ]
  },
  {
   "cell_type": "code",
   "execution_count": 42,
   "metadata": {},
   "outputs": [],
   "source": [
    "one_key_set = one_key_set.drop(columns=['found_used_parameters'])"
   ]
  },
  {
   "cell_type": "code",
   "execution_count": 43,
   "metadata": {},
   "outputs": [],
   "source": [
    "one_key_set['found_used_parameters'] = one_key_set['method_description'].apply(lambda x: map_module_used_parameters(x,params_dict))"
   ]
  },
  {
   "cell_type": "code",
   "execution_count": 45,
   "metadata": {},
   "outputs": [
    {
     "data": {
      "text/html": [
       "<div>\n",
       "<style scoped>\n",
       "    .dataframe tbody tr th:only-of-type {\n",
       "        vertical-align: middle;\n",
       "    }\n",
       "\n",
       "    .dataframe tbody tr th {\n",
       "        vertical-align: top;\n",
       "    }\n",
       "\n",
       "    .dataframe thead th {\n",
       "        text-align: right;\n",
       "    }\n",
       "</style>\n",
       "<table border=\"1\" class=\"dataframe\">\n",
       "  <thead>\n",
       "    <tr style=\"text-align: right;\">\n",
       "      <th></th>\n",
       "      <th>repo_count</th>\n",
       "      <th>task_name</th>\n",
       "      <th>method_description</th>\n",
       "      <th>mod_keys_found</th>\n",
       "      <th>mod_values_found</th>\n",
       "      <th>key_module_text</th>\n",
       "      <th>value_module_text</th>\n",
       "      <th>mod_keys_found_string</th>\n",
       "      <th>found_used_parameters</th>\n",
       "    </tr>\n",
       "  </thead>\n",
       "  <tbody>\n",
       "    <tr>\n",
       "      <th>0</th>\n",
       "      <td>0</td>\n",
       "      <td>restart datadog-agent</td>\n",
       "      <td>{'service': {'name': 'datadog-agent', 'state':...</td>\n",
       "      <td>[service]</td>\n",
       "      <td>[datadog-agent]</td>\n",
       "      <td>Manage services</td>\n",
       "      <td>datadog-agent</td>\n",
       "      <td>service</td>\n",
       "      <td>{'module_used': 'service', 'intersected_params...</td>\n",
       "    </tr>\n",
       "    <tr>\n",
       "      <th>4</th>\n",
       "      <td>4</td>\n",
       "      <td>Create Datadog agent config directory</td>\n",
       "      <td>{'file': {'dest': '/etc/datadog-agent', 'state...</td>\n",
       "      <td>[file]</td>\n",
       "      <td>[]</td>\n",
       "      <td>Manage files and file properties</td>\n",
       "      <td></td>\n",
       "      <td>file</td>\n",
       "      <td>{'module_used': 'file', 'intersected_params': ...</td>\n",
       "    </tr>\n",
       "    <tr>\n",
       "      <th>5</th>\n",
       "      <td>5</td>\n",
       "      <td>Create main Datadog agent configuration file</td>\n",
       "      <td>{'template': {'src': 'datadog.yaml.j2', 'dest'...</td>\n",
       "      <td>[template]</td>\n",
       "      <td>[group]</td>\n",
       "      <td>Template a file out to a remote server</td>\n",
       "      <td>Add or remove groups</td>\n",
       "      <td>template</td>\n",
       "      <td>{'module_used': 'template', 'intersected_param...</td>\n",
       "    </tr>\n",
       "    <tr>\n",
       "      <th>6</th>\n",
       "      <td>6</td>\n",
       "      <td>Ensure configuration directories are present f...</td>\n",
       "      <td>{'file': {'dest': '/etc/datadog-agent/conf.d/{...</td>\n",
       "      <td>[file]</td>\n",
       "      <td>[group]</td>\n",
       "      <td>Manage files and file properties</td>\n",
       "      <td>Add or remove groups</td>\n",
       "      <td>file</td>\n",
       "      <td>{'module_used': 'file', 'intersected_params': ...</td>\n",
       "    </tr>\n",
       "    <tr>\n",
       "      <th>7</th>\n",
       "      <td>7</td>\n",
       "      <td>Create a configuration file for each Datadog c...</td>\n",
       "      <td>{'template': {'src': 'checks.yaml.j2', 'dest':...</td>\n",
       "      <td>[template]</td>\n",
       "      <td>[group]</td>\n",
       "      <td>Template a file out to a remote server</td>\n",
       "      <td>Add or remove groups</td>\n",
       "      <td>template</td>\n",
       "      <td>{'module_used': 'template', 'intersected_param...</td>\n",
       "    </tr>\n",
       "    <tr>\n",
       "      <th>8</th>\n",
       "      <td>8</td>\n",
       "      <td>Remove old configuration file for each Datadog...</td>\n",
       "      <td>{'file': {'dest': '/etc/datadog-agent/conf.d/{...</td>\n",
       "      <td>[file]</td>\n",
       "      <td>[]</td>\n",
       "      <td>Manage files and file properties</td>\n",
       "      <td></td>\n",
       "      <td>file</td>\n",
       "      <td>{'module_used': 'file', 'intersected_params': ...</td>\n",
       "    </tr>\n",
       "    <tr>\n",
       "      <th>9</th>\n",
       "      <td>9</td>\n",
       "      <td>Create trace agent configuration file</td>\n",
       "      <td>{'template': {'src': 'datadog.conf.j2', 'dest'...</td>\n",
       "      <td>[template]</td>\n",
       "      <td>[group]</td>\n",
       "      <td>Template a file out to a remote server</td>\n",
       "      <td>Add or remove groups</td>\n",
       "      <td>template</td>\n",
       "      <td>{'module_used': 'template', 'intersected_param...</td>\n",
       "    </tr>\n",
       "    <tr>\n",
       "      <th>10</th>\n",
       "      <td>10</td>\n",
       "      <td>Create process agent configuration file</td>\n",
       "      <td>{'template': {'src': 'datadog.conf.j2', 'dest'...</td>\n",
       "      <td>[template]</td>\n",
       "      <td>[group]</td>\n",
       "      <td>Template a file out to a remote server</td>\n",
       "      <td>Add or remove groups</td>\n",
       "      <td>template</td>\n",
       "      <td>{'module_used': 'template', 'intersected_param...</td>\n",
       "    </tr>\n",
       "    <tr>\n",
       "      <th>11</th>\n",
       "      <td>11</td>\n",
       "      <td>Create system-probe configuration file</td>\n",
       "      <td>{'template': {'src': 'system-probe.yaml.j2', '...</td>\n",
       "      <td>[template]</td>\n",
       "      <td>[group]</td>\n",
       "      <td>Template a file out to a remote server</td>\n",
       "      <td>Add or remove groups</td>\n",
       "      <td>template</td>\n",
       "      <td>{'module_used': 'template', 'intersected_param...</td>\n",
       "    </tr>\n",
       "    <tr>\n",
       "      <th>12</th>\n",
       "      <td>12</td>\n",
       "      <td>Ensure datadog-agent is running</td>\n",
       "      <td>{'service': {'name': 'datadog-agent', 'state':...</td>\n",
       "      <td>[service]</td>\n",
       "      <td>[datadog-agent]</td>\n",
       "      <td>Manage services</td>\n",
       "      <td>datadog-agent</td>\n",
       "      <td>service</td>\n",
       "      <td>{'module_used': 'service', 'intersected_params...</td>\n",
       "    </tr>\n",
       "  </tbody>\n",
       "</table>\n",
       "</div>"
      ],
      "text/plain": [
       "    repo_count                                          task_name  \\\n",
       "0            0                              restart datadog-agent   \n",
       "4            4              Create Datadog agent config directory   \n",
       "5            5       Create main Datadog agent configuration file   \n",
       "6            6  Ensure configuration directories are present f...   \n",
       "7            7  Create a configuration file for each Datadog c...   \n",
       "8            8  Remove old configuration file for each Datadog...   \n",
       "9            9              Create trace agent configuration file   \n",
       "10          10            Create process agent configuration file   \n",
       "11          11             Create system-probe configuration file   \n",
       "12          12                    Ensure datadog-agent is running   \n",
       "\n",
       "                                   method_description mod_keys_found  \\\n",
       "0   {'service': {'name': 'datadog-agent', 'state':...      [service]   \n",
       "4   {'file': {'dest': '/etc/datadog-agent', 'state...         [file]   \n",
       "5   {'template': {'src': 'datadog.yaml.j2', 'dest'...     [template]   \n",
       "6   {'file': {'dest': '/etc/datadog-agent/conf.d/{...         [file]   \n",
       "7   {'template': {'src': 'checks.yaml.j2', 'dest':...     [template]   \n",
       "8   {'file': {'dest': '/etc/datadog-agent/conf.d/{...         [file]   \n",
       "9   {'template': {'src': 'datadog.conf.j2', 'dest'...     [template]   \n",
       "10  {'template': {'src': 'datadog.conf.j2', 'dest'...     [template]   \n",
       "11  {'template': {'src': 'system-probe.yaml.j2', '...     [template]   \n",
       "12  {'service': {'name': 'datadog-agent', 'state':...      [service]   \n",
       "\n",
       "   mod_values_found                         key_module_text  \\\n",
       "0   [datadog-agent]                         Manage services   \n",
       "4                []        Manage files and file properties   \n",
       "5           [group]  Template a file out to a remote server   \n",
       "6           [group]        Manage files and file properties   \n",
       "7           [group]  Template a file out to a remote server   \n",
       "8                []        Manage files and file properties   \n",
       "9           [group]  Template a file out to a remote server   \n",
       "10          [group]  Template a file out to a remote server   \n",
       "11          [group]  Template a file out to a remote server   \n",
       "12  [datadog-agent]                         Manage services   \n",
       "\n",
       "       value_module_text mod_keys_found_string  \\\n",
       "0          datadog-agent               service   \n",
       "4                                         file   \n",
       "5   Add or remove groups              template   \n",
       "6   Add or remove groups                  file   \n",
       "7   Add or remove groups              template   \n",
       "8                                         file   \n",
       "9   Add or remove groups              template   \n",
       "10  Add or remove groups              template   \n",
       "11  Add or remove groups              template   \n",
       "12         datadog-agent               service   \n",
       "\n",
       "                                found_used_parameters  \n",
       "0   {'module_used': 'service', 'intersected_params...  \n",
       "4   {'module_used': 'file', 'intersected_params': ...  \n",
       "5   {'module_used': 'template', 'intersected_param...  \n",
       "6   {'module_used': 'file', 'intersected_params': ...  \n",
       "7   {'module_used': 'template', 'intersected_param...  \n",
       "8   {'module_used': 'file', 'intersected_params': ...  \n",
       "9   {'module_used': 'template', 'intersected_param...  \n",
       "10  {'module_used': 'template', 'intersected_param...  \n",
       "11  {'module_used': 'template', 'intersected_param...  \n",
       "12  {'module_used': 'service', 'intersected_params...  "
      ]
     },
     "execution_count": 45,
     "metadata": {},
     "output_type": "execute_result"
    }
   ],
   "source": [
    "one_key_set.head(10)"
   ]
  },
  {
   "cell_type": "code",
   "execution_count": 44,
   "metadata": {},
   "outputs": [
    {
     "data": {
      "text/plain": [
       "{'file': {'dest': '/etc/datadog-agent', 'state': 'directory'}}"
      ]
     },
     "execution_count": 44,
     "metadata": {},
     "output_type": "execute_result"
    }
   ],
   "source": [
    "one_key_set['method_description'][4]"
   ]
  },
  {
   "cell_type": "code",
   "execution_count": 45,
   "metadata": {},
   "outputs": [
    {
     "data": {
      "text/plain": [
       "(10396, 9)"
      ]
     },
     "execution_count": 45,
     "metadata": {},
     "output_type": "execute_result"
    }
   ],
   "source": [
    "one_key_set.shape"
   ]
  },
  {
   "cell_type": "code",
   "execution_count": 48,
   "metadata": {},
   "outputs": [],
   "source": [
    "with open('tasks_top10_mapped_parameters.pkl', 'wb') as output_file:\n",
    "    pickle.dump(one_key_set, output_file)"
   ]
  },
  {
   "cell_type": "code",
   "execution_count": 49,
   "metadata": {},
   "outputs": [
    {
     "data": {
      "text/plain": [
       "(10396, 9)"
      ]
     },
     "execution_count": 49,
     "metadata": {},
     "output_type": "execute_result"
    }
   ],
   "source": [
    "with open('tasks_top10_mapped_parameters.pkl', 'rb') as input_file:\n",
    "    tasks_top10_mapped_parameters = pickle.load(input_file)   \n",
    "tasks_top10_mapped_parameters.shape"
   ]
  },
  {
   "cell_type": "code",
   "execution_count": null,
   "metadata": {},
   "outputs": [],
   "source": []
  }
 ],
 "metadata": {
  "kernelspec": {
   "display_name": "Python 3",
   "language": "python",
   "name": "python3"
  },
  "language_info": {
   "codemirror_mode": {
    "name": "ipython",
    "version": 3
   },
   "file_extension": ".py",
   "mimetype": "text/x-python",
   "name": "python",
   "nbconvert_exporter": "python",
   "pygments_lexer": "ipython3",
   "version": "3.7.4"
  }
 },
 "nbformat": 4,
 "nbformat_minor": 4
}
